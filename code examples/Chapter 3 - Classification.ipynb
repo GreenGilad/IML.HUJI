{
 "cells": [
  {
   "cell_type": "markdown",
   "metadata": {},
   "source": [
    "# Chapter 3 - Classification\n",
    "The following notebook consists of different code examples for graphs seen in Chapter 3."
   ]
  },
  {
   "cell_type": "code",
   "execution_count": 1,
   "metadata": {},
   "outputs": [],
   "source": [
    "import sys\n",
    "sys.path.append(\"../\")\n",
    "from utils import *"
   ]
  },
  {
   "cell_type": "markdown",
   "metadata": {},
   "source": [
    "## Model Evaluations"
   ]
  },
  {
   "cell_type": "code",
   "execution_count": 2,
   "metadata": {},
   "outputs": [],
   "source": [
    "from sklearn.svm import SVC\n",
    "from sklearn.neighbors import KNeighborsClassifier\n",
    "from sklearn.linear_model import LogisticRegression\n",
    "\n",
    "models = [LogisticRegression(), SVC(kernel='rbf', probability=True), KNeighborsClassifier(n_neighbors=4)]\n",
    "model_names = [r\"$\\text{Logistic Regression}$\", r\"$\\text{Gaussian Kernel SVM}$\", r\"$k-\\text{NN}$\"]\n",
    "\n",
    "from sklearn.datasets import make_moons\n",
    "X, y = make_moons(n_samples=500, noise=0.2, random_state=1)"
   ]
  },
  {
   "cell_type": "code",
   "execution_count": 3,
   "metadata": {},
   "outputs": [
    {
     "ename": "FileNotFoundError",
     "evalue": "[Errno 2] No such file or directory: '../figures/decision_boundary.png'",
     "output_type": "error",
     "traceback": [
      "\u001b[1;31m---------------------------------------------------------------------------\u001b[0m",
      "\u001b[1;31mFileNotFoundError\u001b[0m                         Traceback (most recent call last)",
      "\u001b[1;32m<ipython-input-3-c3c4cb8618f0>\u001b[0m in \u001b[0;36m<module>\u001b[1;34m\u001b[0m\n\u001b[0;32m     10\u001b[0m \u001b[1;33m\u001b[0m\u001b[0m\n\u001b[0;32m     11\u001b[0m \u001b[0mfig\u001b[0m\u001b[1;33m.\u001b[0m\u001b[0mupdate_layout\u001b[0m\u001b[1;33m(\u001b[0m\u001b[0mwidth\u001b[0m\u001b[1;33m=\u001b[0m\u001b[1;36m1000\u001b[0m\u001b[1;33m,\u001b[0m \u001b[0mheight\u001b[0m\u001b[1;33m=\u001b[0m\u001b[1;36m300\u001b[0m\u001b[1;33m)\u001b[0m\u001b[1;33m.\u001b[0m\u001b[0mupdate_xaxes\u001b[0m\u001b[1;33m(\u001b[0m\u001b[0mvisible\u001b[0m\u001b[1;33m=\u001b[0m\u001b[1;32mFalse\u001b[0m\u001b[1;33m)\u001b[0m\u001b[1;33m.\u001b[0m\u001b[0mupdate_yaxes\u001b[0m\u001b[1;33m(\u001b[0m\u001b[0mvisible\u001b[0m\u001b[1;33m=\u001b[0m\u001b[1;32mFalse\u001b[0m\u001b[1;33m)\u001b[0m\u001b[1;33m\u001b[0m\u001b[1;33m\u001b[0m\u001b[0m\n\u001b[1;32m---> 12\u001b[1;33m \u001b[0mfig\u001b[0m\u001b[1;33m.\u001b[0m\u001b[0mwrite_image\u001b[0m\u001b[1;33m(\u001b[0m\u001b[1;34mf\"../figures/decision_boundary.png\"\u001b[0m\u001b[1;33m)\u001b[0m\u001b[1;33m\u001b[0m\u001b[1;33m\u001b[0m\u001b[0m\n\u001b[0m\u001b[0;32m     13\u001b[0m \u001b[0mfig\u001b[0m\u001b[1;33m.\u001b[0m\u001b[0mshow\u001b[0m\u001b[1;33m(\u001b[0m\u001b[1;33m)\u001b[0m\u001b[1;33m\u001b[0m\u001b[1;33m\u001b[0m\u001b[0m\n",
      "\u001b[1;32m~\\anaconda3\\envs\\iml.env\\lib\\site-packages\\plotly\\basedatatypes.py\u001b[0m in \u001b[0;36mwrite_image\u001b[1;34m(self, *args, **kwargs)\u001b[0m\n\u001b[0;32m   3804\u001b[0m         \u001b[1;32mimport\u001b[0m \u001b[0mplotly\u001b[0m\u001b[1;33m.\u001b[0m\u001b[0mio\u001b[0m \u001b[1;32mas\u001b[0m \u001b[0mpio\u001b[0m\u001b[1;33m\u001b[0m\u001b[1;33m\u001b[0m\u001b[0m\n\u001b[0;32m   3805\u001b[0m \u001b[1;33m\u001b[0m\u001b[0m\n\u001b[1;32m-> 3806\u001b[1;33m         \u001b[1;32mreturn\u001b[0m \u001b[0mpio\u001b[0m\u001b[1;33m.\u001b[0m\u001b[0mwrite_image\u001b[0m\u001b[1;33m(\u001b[0m\u001b[0mself\u001b[0m\u001b[1;33m,\u001b[0m \u001b[1;33m*\u001b[0m\u001b[0margs\u001b[0m\u001b[1;33m,\u001b[0m \u001b[1;33m**\u001b[0m\u001b[0mkwargs\u001b[0m\u001b[1;33m)\u001b[0m\u001b[1;33m\u001b[0m\u001b[1;33m\u001b[0m\u001b[0m\n\u001b[0m\u001b[0;32m   3807\u001b[0m \u001b[1;33m\u001b[0m\u001b[0m\n\u001b[0;32m   3808\u001b[0m     \u001b[1;31m# Static helpers\u001b[0m\u001b[1;33m\u001b[0m\u001b[1;33m\u001b[0m\u001b[1;33m\u001b[0m\u001b[0m\n",
      "\u001b[1;32m~\\anaconda3\\envs\\iml.env\\lib\\site-packages\\plotly\\io\\_kaleido.py\u001b[0m in \u001b[0;36mwrite_image\u001b[1;34m(fig, file, format, scale, width, height, validate, engine)\u001b[0m\n\u001b[0;32m    256\u001b[0m     \u001b[1;31m# ---------\u001b[0m\u001b[1;33m\u001b[0m\u001b[1;33m\u001b[0m\u001b[1;33m\u001b[0m\u001b[0m\n\u001b[0;32m    257\u001b[0m     \u001b[1;32mif\u001b[0m \u001b[0mfile_is_str\u001b[0m\u001b[1;33m:\u001b[0m\u001b[1;33m\u001b[0m\u001b[1;33m\u001b[0m\u001b[0m\n\u001b[1;32m--> 258\u001b[1;33m         \u001b[1;32mwith\u001b[0m \u001b[0mopen\u001b[0m\u001b[1;33m(\u001b[0m\u001b[0mfile\u001b[0m\u001b[1;33m,\u001b[0m \u001b[1;34m\"wb\"\u001b[0m\u001b[1;33m)\u001b[0m \u001b[1;32mas\u001b[0m \u001b[0mf\u001b[0m\u001b[1;33m:\u001b[0m\u001b[1;33m\u001b[0m\u001b[1;33m\u001b[0m\u001b[0m\n\u001b[0m\u001b[0;32m    259\u001b[0m             \u001b[0mf\u001b[0m\u001b[1;33m.\u001b[0m\u001b[0mwrite\u001b[0m\u001b[1;33m(\u001b[0m\u001b[0mimg_data\u001b[0m\u001b[1;33m)\u001b[0m\u001b[1;33m\u001b[0m\u001b[1;33m\u001b[0m\u001b[0m\n\u001b[0;32m    260\u001b[0m     \u001b[1;32melse\u001b[0m\u001b[1;33m:\u001b[0m\u001b[1;33m\u001b[0m\u001b[1;33m\u001b[0m\u001b[0m\n",
      "\u001b[1;31mFileNotFoundError\u001b[0m: [Errno 2] No such file or directory: '../figures/decision_boundary.png'"
     ]
    }
   ],
   "source": [
    "lims = np.array([X.min(axis=0), X.max(axis=0)]).T + np.array([-.2, .2])\n",
    "\n",
    "fig = make_subplots(rows=1, cols=3, subplot_titles=model_names, horizontal_spacing = 0.01)\n",
    "for i, m in enumerate(models):\n",
    "    fig.add_traces([decision_surface(m.fit(X, y).predict, lims[0], lims[1], showscale=False),\n",
    "                    go.Scatter(x=X[:,0], y=X[:,1], mode=\"markers\", showlegend=False,\n",
    "                               marker=dict(color=y, symbol=class_symbols[y], colorscale=class_colors(3), \n",
    "                                           line=dict(color=\"black\", width=1)))], \n",
    "                   rows=1, cols=i+1)\n",
    "\n",
    "fig.update_layout(width=1000, height=300).update_xaxes(visible=False).update_yaxes(visible=False)\n",
    "fig.write_image(f\"../figures/decision_boundary.png\")\n",
    "fig.show()"
   ]
  },
  {
   "cell_type": "code",
   "execution_count": null,
   "metadata": {},
   "outputs": [],
   "source": [
    "from sklearn import metrics\n",
    "\n",
    "fig = go.Figure(layout=go.Layout(title=r\"$\\text{ROC Curves Of Models - Moons Dataset}$\", \n",
    "                                 xaxis=dict(title=r\"$\\text{False Positive Rate (FPR)}$\"),\n",
    "                                 yaxis=dict(title=r\"$\\text{True Positive Rate (TPR)}$\")),\n",
    "                data=[go.Scatter(x=[0,1], y=[0,1], mode=\"lines\", showlegend=False, line_color=\"black\", line_dash='dash')])\n",
    "\n",
    "for i, model in enumerate(models):\n",
    "    fpr, tpr, th = metrics.roc_curve(y, model.predict_proba(X)[:, 1])\n",
    "    fig.add_trace(go.Scatter(x=fpr, y=tpr, mode='lines', name=model_names[i], text=th,\n",
    "                             hovertemplate=\"<b>Threshold:</b>%{text:.3f}<br>FPR: %{x:.3f}<br>TPR: %{y:.3f}\"))\n",
    "\n",
    "    \n",
    "fig.update_layout(width=800, height=500, yaxis=dict(range=[0,1.1]))\n",
    "fig.write_image(\"../figures/roc.png\")\n",
    "fig.show()"
   ]
  },
  {
   "cell_type": "markdown",
   "metadata": {},
   "source": [
    "## Perceptron"
   ]
  },
  {
   "cell_type": "code",
   "execution_count": null,
   "metadata": {},
   "outputs": [],
   "source": [
    "from sklearn.datasets import make_classification, make_blobs\n",
    "np.random.seed(9)\n",
    "\n",
    "def create_linearly_separable_dataset(n=30, scale=10):\n",
    "    # Create a dataset that is linearly separable\n",
    "    separable = False\n",
    "    while not separable:\n",
    "        samples = make_classification(n_samples=n, n_features=2, n_informative=2, n_repeated = 0, \n",
    "                                  n_redundant=0,n_clusters_per_class=1, class_sep = 0.5, scale=scale)\n",
    "        red, blue = samples[0][samples[1] == 0], samples[0][samples[1] == 1]\n",
    "        separable = any([red[:, k].max() < blue[:, k].min() or red[:, k].min() > blue[:, k].max() for k in range(2)])\n",
    "        \n",
    "    X, y = samples[0], samples[1]\n",
    "    \n",
    "    # Make sure that the first two samples are from both classes\n",
    "    idx = np.array([np.where(y == 0)[0][0], np.where(y == 1)[0][0]])\n",
    "    msk = np.array([False]*X.shape[0])\n",
    "    msk[idx] = True\n",
    "    return np.r_[X[msk], X[~msk]], np.r_[y[msk], y[~msk]]\n",
    "\n",
    "X, y = create_linearly_separable_dataset(16)"
   ]
  },
  {
   "cell_type": "code",
   "execution_count": null,
   "metadata": {},
   "outputs": [],
   "source": [
    "from sklearn.linear_model import Perceptron as Perceptron\n",
    "lim = np.array([X.min(axis=0), X.max(axis=0)]).T + np.array([-.5,.5])\n",
    "\n",
    "frames = []\n",
    "per = Perceptron()\n",
    "per.partial_fit([X[0]], [y[0]], np.unique(y))\n",
    "\n",
    "rnd = 1\n",
    "while per.score(X, y) != 1:\n",
    "    for i in range(X.shape[0]):\n",
    "        # Perform another fitting over new sample\n",
    "        per.partial_fit([X[i]], [y[i]], np.unique(y))\n",
    "\n",
    "        # Get Perceptron separator\n",
    "        w = per.coef_[0]\n",
    "        yy = (-w[0] / w[1]) * lim[0] - (per.intercept_[0] / w[1])\n",
    "\n",
    "        # Create animation frame\n",
    "        frames.append(go.Frame(\n",
    "            data = [\n",
    "                go.Scatter(x = X[:,0], y=X[:, 1], mode = 'markers', showlegend=False,\n",
    "                           marker = dict(size = 10, color = y, line=dict(color=\"black\", width=1),\n",
    "                                         symbol=class_symbols[y], colorscale=class_colors(2), opacity = [1]*(i+1) + [0.2]*(X.shape[0] - i-1))),\n",
    "                go.Scatter(x = lim[0], y = [yy[0], yy[1]], mode = 'lines', line_color=\"black\", showlegend=False)],\n",
    "            traces=[0, 1],\n",
    "            layout = go.Layout(title=rf\"$\\text{{Perceptron Fit - Round {rnd} After {i+1} Samples}}$\")))\n",
    "    rnd += 1\n",
    "\n",
    "\n",
    "fig = go.Figure(data=frames[0][\"data\"],\n",
    "                frames=frames,\n",
    "                layout = go.Layout(\n",
    "                    title=frames[0][\"layout\"][\"title\"],\n",
    "                    xaxis=dict(range=lim[0], autorange=False),\n",
    "                    yaxis=dict(range=lim[1], autorange=False),\n",
    "                    updatemenus=[dict(type=\"buttons\", buttons=[AnimationButtons.play(frame_duration=100), AnimationButtons.pause()])]))\n",
    "\n",
    "\n",
    "animation_to_gif(fig, \"../figures/perceptron_fit.gif\", 500, width=700, height=700) \n",
    "fig.show()"
   ]
  },
  {
   "cell_type": "markdown",
   "metadata": {},
   "source": [
    "## Generative Models - Simulation and Decision Boundaries"
   ]
  },
  {
   "cell_type": "code",
   "execution_count": null,
   "metadata": {},
   "outputs": [],
   "source": [
    "from sklearn.discriminant_analysis import LinearDiscriminantAnalysis as LDA\n",
    "from sklearn.discriminant_analysis import QuadraticDiscriminantAnalysis as QDA\n",
    "\n",
    "# Generate dataset according to LDA/QDA generative model\n",
    "mu = np.array([[0, 0], [2.5, 5], [5, 0]])\n",
    "pi = [.33, .34, .33]\n",
    "\n",
    "learner = \"QDA\"\n",
    "if learner == \"LDA\":\n",
    "    cov = np.repeat(np.array([[.5, 0], [0, .5]])[None,:, :], 3, axis=0)\n",
    "    model = LDA()\n",
    "else:\n",
    "    cov = np.array([[[.5, 0], [0, .5]], [[.5, 0], [0, .5]], [[1, 0], [0, .5]],])\n",
    "    model = QDA()\n",
    "\n",
    "# y = np.random.binomial(n=1, p=pi, size=500)\n",
    "y = np.random.choice([0,1,2], size=500, p=pi)\n",
    "X = np.array([np.random.multivariate_normal(mu[yi], cov[yi]) for yi in y])\n",
    "\n",
    "\n",
    "# Plotting dataset and LAD decision boundaries\n",
    "lims = np.array([X.min(axis=0), X.max(axis=0)]).T + np.array([-.5, .5])\n",
    "\n",
    "\n",
    "fig = go.Figure([\n",
    "    decision_surface(model.fit(X, y).predict, lims[0], lims[1], showscale=False, colorscale=class_colors(3), density=300),\n",
    "    go.Scatter(x=X[:,0], y=X[:,1], mode=\"markers\", showlegend=False, \n",
    "               marker=dict(color=y, symbol=class_symbols[y], colorscale=class_colors(3), \n",
    "                           line=dict(color=\"black\", width=1)))],\n",
    "                layout=go.Layout(xaxis=dict(range=lims[0], autorange=False, visible=False),\n",
    "                                 yaxis=dict(range=lims[1], autorange=False, visible=False),\n",
    "                                 width=600, height=400,\n",
    "                                 title=rf\"$\\text{{Multi-class {learner} Decision Boundary}}$\"))\n",
    "fig.write_image(f\"../figures/{learner}_decision_boundary.png\")\n",
    "fig.show()"
   ]
  },
  {
   "cell_type": "markdown",
   "metadata": {},
   "source": [
    "## Decision Boundaries and Accuracy As Function Of Complexity"
   ]
  },
  {
   "cell_type": "code",
   "execution_count": null,
   "metadata": {},
   "outputs": [],
   "source": [
    "from sklearn.datasets import make_moons\n",
    "from sklearn.model_selection import train_test_split\n",
    "from sklearn.neighbors import KNeighborsClassifier\n",
    "from sklearn.tree import DecisionTreeClassifier\n",
    "\n",
    "classifier, params, title, name = {\n",
    "    \"knn\": (lambda k: KNeighborsClassifier(n_neighbors=k),\n",
    "            list(range(1, 41, 2)),\n",
    "            \"Fitting k-NN Classifier - Number of Neighbors\",\n",
    "            \"KNN\"),\n",
    "    \"decision_tree\": (lambda d: DecisionTreeClassifier(max_depth=d, random_state=42),\n",
    "                      list(range(1, 21)),\n",
    "                      \"Fitting Decision Tree Classifier - Max Depth\",\n",
    "                      \"Decision Tree\")}[\"knn\"] # \"decision_tree\"\n",
    "\n",
    "\n",
    "# Generate data and split into train and test sets\n",
    "np.random.seed(1)\n",
    "X, y = make_moons(n_samples=300, noise=0.4, random_state=1)\n",
    "X_train, X_test, y_train, y_test = train_test_split(X, y)\n",
    "\n",
    "\n",
    "# Set variables used to create plots\n",
    "lims = np.array([X.min(axis=0), X.max(axis=0)]).T + np.array([-.2, .2])\n",
    "scatter_settings = [(\"Train - Class 0\", X_train[y_train == 0,:], class_colors(2)[0][1], f\"{class_symbols[0]}-open\"),\n",
    "                    (\"Train - Class 1\", X_train[y_train == 1,:], class_colors(2)[1][1], f\"{class_symbols[1]}-open\"),\n",
    "                    (\"Test  - Class 0\", X_test[y_test == 0,:],   class_colors(2)[0][1], f\"{class_symbols[0]}\"),\n",
    "                    (\"Test  - Class 1\", X_test[y_test == 1,:],   class_colors(2)[1][1], f\"{class_symbols[1]}\")]\n",
    "\n",
    "\n",
    "# Run model for different parameters (governing complexity) and create animation frames\n",
    "frames, train_error, test_error = [], [], []\n",
    "for i, k in enumerate(params):\n",
    "    # Fit model\n",
    "    m = classifier(k).fit(X_train, y_train)\n",
    "  \n",
    "    # Evaluate over data sets\n",
    "    train_error.append(1 - np.mean(m.predict(X_train) == y_train))\n",
    "    test_error.append( 1 - np.mean(m.predict(X_test)  == y_test))\n",
    "\n",
    "    # Create scatter objects of train/test data of different classes\n",
    "    scatters = [\n",
    "        go.Scatter(x=data[:,0], y=data[:,1], mode=\"markers\", name=name, showlegend=True,\n",
    "                   marker=dict(color=color, symbol=symbol, line=dict(color=\"black\", width=.75)))\n",
    "        for (name, data, color, symbol) in scatter_settings]\n",
    "    \n",
    "    \n",
    "    # Create animation frame\n",
    "    frames.append(go.Frame(\n",
    "        data=[decision_surface(m.fit(X_train, y_train).predict, lims[0], lims[1], showscale=False)] + \n",
    "             scatters + \n",
    "             [go.Scatter(x=params[:i], y=train_error[:i], name=\"Train Error\", xaxis=\"x2\", yaxis=\"y2\", marker_color=\"black\"),\n",
    "              go.Scatter(x=params[:i], y=test_error[:i], name=\"Test Error\", xaxis=\"x2\", yaxis=\"y2\", marker_color=\"red\")],\n",
    "        layout=go.Layout(title=rf\"$\\text{{{title}}}={k}$\"),\n",
    "        traces=[0,1,2,3,4,5,6]))\n",
    "\n",
    "    \n",
    "# Create figure and populate with frames defined above\n",
    "fig = make_subplots(rows=1, cols=2, \n",
    "                    subplot_titles=(r\"$\\text{Decisions Boundaries}$\", r\"$\\text{Accuracy}$\"),\n",
    "                    horizontal_spacing=0.1)\\\n",
    "    .add_traces(data=frames[0][\"data\"], rows=[1]*7, cols=[1]*5 + [2,2])\\\n",
    "    .update(frames=frames)\\\n",
    "    .update_layout(updatemenus = [dict(type=\"buttons\", buttons=[AnimationButtons.play(), AnimationButtons.pause()])],\n",
    "                   width=1100, height=500, margin=dict(t=80), \n",
    "                   title=frames[0][\"layout\"][\"title\"])\n",
    "\n",
    "fig.update_yaxes(visible=False, row=1, col=1)\\\n",
    "    .update_xaxes(visible=False, row=1, col=1)\n",
    "fig.update_yaxes(range=[-0.05, max(train_error+test_error)+.1], row=1, col=2)\\\n",
    "    .update_xaxes(range=[params[0], params[-1]], row=1, col=2)\n",
    "\n",
    "\n",
    "animation_to_gif(fig, f\"../figures/{name}_animation.gif\", 1000, width=1000, height=500) \n",
    "fig.show()"
   ]
  }
 ],
 "metadata": {
  "kernelspec": {
   "display_name": "Python 3",
   "language": "python",
   "name": "python3"
  },
  "language_info": {
   "codemirror_mode": {
    "name": "ipython",
    "version": 3
   },
   "file_extension": ".py",
   "mimetype": "text/x-python",
   "name": "python",
   "nbconvert_exporter": "python",
   "pygments_lexer": "ipython3",
   "version": "3.7.10"
  }
 },
 "nbformat": 4,
 "nbformat_minor": 4
}
