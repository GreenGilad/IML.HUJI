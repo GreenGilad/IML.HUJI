{
 "cells": [
  {
   "cell_type": "markdown",
   "metadata": {
    "collapsed": true,
    "pycharm": {
     "name": "#%% md\n"
    }
   },
   "source": [
    "# Lab 02 - Simple Linear Regression\n",
    "\n",
    "Regressions are any learning problem that aim to describe the relation between a set of explanatory \n",
    "variables (i.e. features) and a continuous response (or a set of responses). Therefore our dataset is of the form:\n",
    "\n",
    "$$S=\\left\\{\\left(\\mathbf{x}_i, y_i\\right)\\right\\}^m_{i=1} \\quad s.t. \\quad \\mathbf{x}_i\\in\\mathbb{R^d},\\,\\,y_i\\in\\mathbb{R}$$\n",
    "\n",
    "In the case of Linear Regression the relation learned is a linear one. That is, we search for a linear function to map \n",
    "$\\mathcal{X}$ to $\\mathcal{Y}$. So the hypothesis class of linear regression is:\n",
    "\n",
    "$$ \\mathcal{H}_{reg} = \\left\\{h:h\\left(x_1,\\ldots,x_d\\right)=w_0 + \\sum w_i x_i\\right\\} $$\n",
    "\n",
    "Note that the linear function is linear in the parameters $w_0,w_1,\\ldots,w_d$. Let us simulate a dataset fitting the case of a simple linear regression: \n",
    "\n",
    "$$ y_i = w_1 x_i + w_0 \\quad i=1,\\ldots,m $$\n",
    "\n",
    "So each hypothesis in the class $\\mathcal{H}_{reg}$ is defined by two parameters $w_0,w_1$ - the intercept and slope of\n",
    "the line. Suppose the data is generated from the following line: $Y=2X+1$. So $w_0=1$ and $w_2=2$. Let us draw and plot \n",
    "samples from this function."
   ]
  },
  {
   "cell_type": "code",
   "execution_count": 33,
   "metadata": {},
   "outputs": [],
   "source": [
    "import sys\n",
    "sys.path.append(\"../\")\n",
    "from utils import *"
   ]
  },
  {
   "cell_type": "markdown",
   "metadata": {},
   "source": [
    "## Linear Regression"
   ]
  },
  {
   "cell_type": "code",
   "execution_count": 34,
   "metadata": {
    "pycharm": {
     "name": "#%%\n"
    }
   },
   "outputs": [],
   "source": [
    "w0, w1 = 1, 2    \n",
    "\n",
    "x = np.linspace(0, 100, 10)\n",
    "y = w1*x + w0"
   ]
  },
  {
   "cell_type": "code",
   "execution_count": 35,
   "metadata": {
    "pycharm": {
     "name": "#%%\n"
    }
   },
   "outputs": [
    {
     "data": {
      "application/vnd.plotly.v1+json": {
       "data": [
        {
         "line": {
          "color": "black",
          "dash": "dash",
          "width": 1
         },
         "marker": {
          "color": "black",
          "opacity": 0.7
         },
         "name": "Real Model",
         "showlegend": true,
         "x": [
          0.0,
          11.11111111111111,
          22.22222222222222,
          33.33333333333333,
          44.44444444444444,
          55.55555555555556,
          66.66666666666666,
          77.77777777777777,
          88.88888888888889,
          100.0
         ],
         "y": [
          1.0,
          23.22222222222222,
          45.44444444444444,
          67.66666666666666,
          89.88888888888889,
          112.11111111111111,
          134.33333333333331,
          156.55555555555554,
          178.77777777777777,
          201.0
         ],
         "type": "scatter"
        }
       ],
       "layout": {
        "height": 400,
        "title": {
         "text": "$\\text{(1) Simulated Data}$"
        },
        "xaxis": {
         "title": {
          "text": "x - Explanatory Variable"
         }
        },
        "yaxis": {
         "title": {
          "text": "y - Response"
         }
        },
        "template": {
         "data": {
          "barpolar": [
           {
            "marker": {
             "line": {
              "color": "white",
              "width": 0.5
             },
             "pattern": {
              "fillmode": "overlay",
              "size": 10,
              "solidity": 0.2
             }
            },
            "type": "barpolar"
           }
          ],
          "bar": [
           {
            "error_x": {
             "color": "rgb(36,36,36)"
            },
            "error_y": {
             "color": "rgb(36,36,36)"
            },
            "marker": {
             "line": {
              "color": "white",
              "width": 0.5
             },
             "pattern": {
              "fillmode": "overlay",
              "size": 10,
              "solidity": 0.2
             }
            },
            "type": "bar"
           }
          ],
          "carpet": [
           {
            "aaxis": {
             "endlinecolor": "rgb(36,36,36)",
             "gridcolor": "white",
             "linecolor": "white",
             "minorgridcolor": "white",
             "startlinecolor": "rgb(36,36,36)"
            },
            "baxis": {
             "endlinecolor": "rgb(36,36,36)",
             "gridcolor": "white",
             "linecolor": "white",
             "minorgridcolor": "white",
             "startlinecolor": "rgb(36,36,36)"
            },
            "type": "carpet"
           }
          ],
          "choropleth": [
           {
            "colorbar": {
             "outlinewidth": 1,
             "tickcolor": "rgb(36,36,36)",
             "ticks": "outside"
            },
            "type": "choropleth"
           }
          ],
          "contourcarpet": [
           {
            "colorbar": {
             "outlinewidth": 1,
             "tickcolor": "rgb(36,36,36)",
             "ticks": "outside"
            },
            "type": "contourcarpet"
           }
          ],
          "contour": [
           {
            "colorbar": {
             "outlinewidth": 1,
             "tickcolor": "rgb(36,36,36)",
             "ticks": "outside"
            },
            "colorscale": [
             [
              0.0,
              "#440154"
             ],
             [
              0.1111111111111111,
              "#482878"
             ],
             [
              0.2222222222222222,
              "#3e4989"
             ],
             [
              0.3333333333333333,
              "#31688e"
             ],
             [
              0.4444444444444444,
              "#26828e"
             ],
             [
              0.5555555555555556,
              "#1f9e89"
             ],
             [
              0.6666666666666666,
              "#35b779"
             ],
             [
              0.7777777777777778,
              "#6ece58"
             ],
             [
              0.8888888888888888,
              "#b5de2b"
             ],
             [
              1.0,
              "#fde725"
             ]
            ],
            "type": "contour"
           }
          ],
          "heatmapgl": [
           {
            "colorbar": {
             "outlinewidth": 1,
             "tickcolor": "rgb(36,36,36)",
             "ticks": "outside"
            },
            "colorscale": [
             [
              0.0,
              "#440154"
             ],
             [
              0.1111111111111111,
              "#482878"
             ],
             [
              0.2222222222222222,
              "#3e4989"
             ],
             [
              0.3333333333333333,
              "#31688e"
             ],
             [
              0.4444444444444444,
              "#26828e"
             ],
             [
              0.5555555555555556,
              "#1f9e89"
             ],
             [
              0.6666666666666666,
              "#35b779"
             ],
             [
              0.7777777777777778,
              "#6ece58"
             ],
             [
              0.8888888888888888,
              "#b5de2b"
             ],
             [
              1.0,
              "#fde725"
             ]
            ],
            "type": "heatmapgl"
           }
          ],
          "heatmap": [
           {
            "colorbar": {
             "outlinewidth": 1,
             "tickcolor": "rgb(36,36,36)",
             "ticks": "outside"
            },
            "colorscale": [
             [
              0.0,
              "#440154"
             ],
             [
              0.1111111111111111,
              "#482878"
             ],
             [
              0.2222222222222222,
              "#3e4989"
             ],
             [
              0.3333333333333333,
              "#31688e"
             ],
             [
              0.4444444444444444,
              "#26828e"
             ],
             [
              0.5555555555555556,
              "#1f9e89"
             ],
             [
              0.6666666666666666,
              "#35b779"
             ],
             [
              0.7777777777777778,
              "#6ece58"
             ],
             [
              0.8888888888888888,
              "#b5de2b"
             ],
             [
              1.0,
              "#fde725"
             ]
            ],
            "type": "heatmap"
           }
          ],
          "histogram2dcontour": [
           {
            "colorbar": {
             "outlinewidth": 1,
             "tickcolor": "rgb(36,36,36)",
             "ticks": "outside"
            },
            "colorscale": [
             [
              0.0,
              "#440154"
             ],
             [
              0.1111111111111111,
              "#482878"
             ],
             [
              0.2222222222222222,
              "#3e4989"
             ],
             [
              0.3333333333333333,
              "#31688e"
             ],
             [
              0.4444444444444444,
              "#26828e"
             ],
             [
              0.5555555555555556,
              "#1f9e89"
             ],
             [
              0.6666666666666666,
              "#35b779"
             ],
             [
              0.7777777777777778,
              "#6ece58"
             ],
             [
              0.8888888888888888,
              "#b5de2b"
             ],
             [
              1.0,
              "#fde725"
             ]
            ],
            "type": "histogram2dcontour"
           }
          ],
          "histogram2d": [
           {
            "colorbar": {
             "outlinewidth": 1,
             "tickcolor": "rgb(36,36,36)",
             "ticks": "outside"
            },
            "colorscale": [
             [
              0.0,
              "#440154"
             ],
             [
              0.1111111111111111,
              "#482878"
             ],
             [
              0.2222222222222222,
              "#3e4989"
             ],
             [
              0.3333333333333333,
              "#31688e"
             ],
             [
              0.4444444444444444,
              "#26828e"
             ],
             [
              0.5555555555555556,
              "#1f9e89"
             ],
             [
              0.6666666666666666,
              "#35b779"
             ],
             [
              0.7777777777777778,
              "#6ece58"
             ],
             [
              0.8888888888888888,
              "#b5de2b"
             ],
             [
              1.0,
              "#fde725"
             ]
            ],
            "type": "histogram2d"
           }
          ],
          "histogram": [
           {
            "marker": {
             "line": {
              "color": "white",
              "width": 0.6
             }
            },
            "type": "histogram"
           }
          ],
          "mesh3d": [
           {
            "colorbar": {
             "outlinewidth": 1,
             "tickcolor": "rgb(36,36,36)",
             "ticks": "outside"
            },
            "type": "mesh3d"
           }
          ],
          "parcoords": [
           {
            "line": {
             "colorbar": {
              "outlinewidth": 1,
              "tickcolor": "rgb(36,36,36)",
              "ticks": "outside"
             }
            },
            "type": "parcoords"
           }
          ],
          "pie": [
           {
            "automargin": true,
            "type": "pie"
           }
          ],
          "scatter3d": [
           {
            "line": {
             "colorbar": {
              "outlinewidth": 1,
              "tickcolor": "rgb(36,36,36)",
              "ticks": "outside"
             }
            },
            "marker": {
             "colorbar": {
              "outlinewidth": 1,
              "tickcolor": "rgb(36,36,36)",
              "ticks": "outside"
             }
            },
            "type": "scatter3d"
           }
          ],
          "scattercarpet": [
           {
            "marker": {
             "colorbar": {
              "outlinewidth": 1,
              "tickcolor": "rgb(36,36,36)",
              "ticks": "outside"
             }
            },
            "type": "scattercarpet"
           }
          ],
          "scattergeo": [
           {
            "marker": {
             "colorbar": {
              "outlinewidth": 1,
              "tickcolor": "rgb(36,36,36)",
              "ticks": "outside"
             }
            },
            "type": "scattergeo"
           }
          ],
          "scattergl": [
           {
            "marker": {
             "colorbar": {
              "outlinewidth": 1,
              "tickcolor": "rgb(36,36,36)",
              "ticks": "outside"
             }
            },
            "type": "scattergl"
           }
          ],
          "scattermapbox": [
           {
            "marker": {
             "colorbar": {
              "outlinewidth": 1,
              "tickcolor": "rgb(36,36,36)",
              "ticks": "outside"
             }
            },
            "type": "scattermapbox"
           }
          ],
          "scatterpolargl": [
           {
            "marker": {
             "colorbar": {
              "outlinewidth": 1,
              "tickcolor": "rgb(36,36,36)",
              "ticks": "outside"
             }
            },
            "type": "scatterpolargl"
           }
          ],
          "scatterpolar": [
           {
            "marker": {
             "colorbar": {
              "outlinewidth": 1,
              "tickcolor": "rgb(36,36,36)",
              "ticks": "outside"
             }
            },
            "type": "scatterpolar"
           }
          ],
          "scatter": [
           {
            "marker": {
             "colorbar": {
              "outlinewidth": 1,
              "tickcolor": "rgb(36,36,36)",
              "ticks": "outside"
             }
            },
            "type": "scatter"
           }
          ],
          "scatterternary": [
           {
            "marker": {
             "colorbar": {
              "outlinewidth": 1,
              "tickcolor": "rgb(36,36,36)",
              "ticks": "outside"
             }
            },
            "type": "scatterternary"
           }
          ],
          "surface": [
           {
            "colorbar": {
             "outlinewidth": 1,
             "tickcolor": "rgb(36,36,36)",
             "ticks": "outside"
            },
            "colorscale": [
             [
              0.0,
              "#440154"
             ],
             [
              0.1111111111111111,
              "#482878"
             ],
             [
              0.2222222222222222,
              "#3e4989"
             ],
             [
              0.3333333333333333,
              "#31688e"
             ],
             [
              0.4444444444444444,
              "#26828e"
             ],
             [
              0.5555555555555556,
              "#1f9e89"
             ],
             [
              0.6666666666666666,
              "#35b779"
             ],
             [
              0.7777777777777778,
              "#6ece58"
             ],
             [
              0.8888888888888888,
              "#b5de2b"
             ],
             [
              1.0,
              "#fde725"
             ]
            ],
            "type": "surface"
           }
          ],
          "table": [
           {
            "cells": {
             "fill": {
              "color": "rgb(237,237,237)"
             },
             "line": {
              "color": "white"
             }
            },
            "header": {
             "fill": {
              "color": "rgb(217,217,217)"
             },
             "line": {
              "color": "white"
             }
            },
            "type": "table"
           }
          ]
         },
         "layout": {
          "annotationdefaults": {
           "arrowhead": 0,
           "arrowwidth": 1
          },
          "autotypenumbers": "strict",
          "coloraxis": {
           "colorbar": {
            "outlinewidth": 1,
            "tickcolor": "rgb(36,36,36)",
            "ticks": "outside"
           }
          },
          "colorscale": {
           "diverging": [
            [
             0.0,
             "rgb(103,0,31)"
            ],
            [
             0.1,
             "rgb(178,24,43)"
            ],
            [
             0.2,
             "rgb(214,96,77)"
            ],
            [
             0.3,
             "rgb(244,165,130)"
            ],
            [
             0.4,
             "rgb(253,219,199)"
            ],
            [
             0.5,
             "rgb(247,247,247)"
            ],
            [
             0.6,
             "rgb(209,229,240)"
            ],
            [
             0.7,
             "rgb(146,197,222)"
            ],
            [
             0.8,
             "rgb(67,147,195)"
            ],
            [
             0.9,
             "rgb(33,102,172)"
            ],
            [
             1.0,
             "rgb(5,48,97)"
            ]
           ],
           "sequential": [
            [
             0.0,
             "#440154"
            ],
            [
             0.1111111111111111,
             "#482878"
            ],
            [
             0.2222222222222222,
             "#3e4989"
            ],
            [
             0.3333333333333333,
             "#31688e"
            ],
            [
             0.4444444444444444,
             "#26828e"
            ],
            [
             0.5555555555555556,
             "#1f9e89"
            ],
            [
             0.6666666666666666,
             "#35b779"
            ],
            [
             0.7777777777777778,
             "#6ece58"
            ],
            [
             0.8888888888888888,
             "#b5de2b"
            ],
            [
             1.0,
             "#fde725"
            ]
           ],
           "sequentialminus": [
            [
             0.0,
             "#440154"
            ],
            [
             0.1111111111111111,
             "#482878"
            ],
            [
             0.2222222222222222,
             "#3e4989"
            ],
            [
             0.3333333333333333,
             "#31688e"
            ],
            [
             0.4444444444444444,
             "#26828e"
            ],
            [
             0.5555555555555556,
             "#1f9e89"
            ],
            [
             0.6666666666666666,
             "#35b779"
            ],
            [
             0.7777777777777778,
             "#6ece58"
            ],
            [
             0.8888888888888888,
             "#b5de2b"
            ],
            [
             1.0,
             "#fde725"
            ]
           ]
          },
          "colorway": [
           "#1F77B4",
           "#FF7F0E",
           "#2CA02C",
           "#D62728",
           "#9467BD",
           "#8C564B",
           "#E377C2",
           "#7F7F7F",
           "#BCBD22",
           "#17BECF"
          ],
          "font": {
           "color": "rgb(36,36,36)"
          },
          "geo": {
           "bgcolor": "white",
           "lakecolor": "white",
           "landcolor": "white",
           "showlakes": true,
           "showland": true,
           "subunitcolor": "white"
          },
          "hoverlabel": {
           "align": "left"
          },
          "hovermode": "closest",
          "mapbox": {
           "style": "light"
          },
          "paper_bgcolor": "white",
          "plot_bgcolor": "white",
          "polar": {
           "angularaxis": {
            "gridcolor": "rgb(232,232,232)",
            "linecolor": "rgb(36,36,36)",
            "showgrid": false,
            "showline": true,
            "ticks": "outside"
           },
           "bgcolor": "white",
           "radialaxis": {
            "gridcolor": "rgb(232,232,232)",
            "linecolor": "rgb(36,36,36)",
            "showgrid": false,
            "showline": true,
            "ticks": "outside"
           }
          },
          "scene": {
           "xaxis": {
            "backgroundcolor": "white",
            "gridcolor": "rgb(232,232,232)",
            "gridwidth": 2,
            "linecolor": "rgb(36,36,36)",
            "showbackground": true,
            "showgrid": false,
            "showline": true,
            "ticks": "outside",
            "zeroline": false,
            "zerolinecolor": "rgb(36,36,36)"
           },
           "yaxis": {
            "backgroundcolor": "white",
            "gridcolor": "rgb(232,232,232)",
            "gridwidth": 2,
            "linecolor": "rgb(36,36,36)",
            "showbackground": true,
            "showgrid": false,
            "showline": true,
            "ticks": "outside",
            "zeroline": false,
            "zerolinecolor": "rgb(36,36,36)"
           },
           "zaxis": {
            "backgroundcolor": "white",
            "gridcolor": "rgb(232,232,232)",
            "gridwidth": 2,
            "linecolor": "rgb(36,36,36)",
            "showbackground": true,
            "showgrid": false,
            "showline": true,
            "ticks": "outside",
            "zeroline": false,
            "zerolinecolor": "rgb(36,36,36)"
           }
          },
          "shapedefaults": {
           "fillcolor": "black",
           "line": {
            "width": 0
           },
           "opacity": 0.3
          },
          "ternary": {
           "aaxis": {
            "gridcolor": "rgb(232,232,232)",
            "linecolor": "rgb(36,36,36)",
            "showgrid": false,
            "showline": true,
            "ticks": "outside"
           },
           "baxis": {
            "gridcolor": "rgb(232,232,232)",
            "linecolor": "rgb(36,36,36)",
            "showgrid": false,
            "showline": true,
            "ticks": "outside"
           },
           "bgcolor": "white",
           "caxis": {
            "gridcolor": "rgb(232,232,232)",
            "linecolor": "rgb(36,36,36)",
            "showgrid": false,
            "showline": true,
            "ticks": "outside"
           }
          },
          "title": {
           "x": 0.05
          },
          "xaxis": {
           "automargin": true,
           "gridcolor": "rgb(232,232,232)",
           "linecolor": "rgb(36,36,36)",
           "showgrid": false,
           "showline": true,
           "ticks": "outside",
           "title": {
            "standoff": 15
           },
           "zeroline": false,
           "zerolinecolor": "rgb(36,36,36)"
          },
          "yaxis": {
           "automargin": true,
           "gridcolor": "rgb(232,232,232)",
           "linecolor": "rgb(36,36,36)",
           "showgrid": false,
           "showline": true,
           "ticks": "outside",
           "title": {
            "standoff": 15
           },
           "zeroline": false,
           "zerolinecolor": "rgb(36,36,36)"
          },
          "margin": {
           "b": 0,
           "l": 20,
           "r": 20,
           "t": 40
          }
         }
        }
       },
       "config": {
        "plotlyServerURL": "https://plot.ly"
       }
      },
      "text/html": "<div>                            <div id=\"bb14fedc-e06e-46bc-8b99-03fe4c556eed\" class=\"plotly-graph-div\" style=\"height:400px; width:100%;\"></div>            <script type=\"text/javascript\">                require([\"plotly\"], function(Plotly) {                    window.PLOTLYENV=window.PLOTLYENV || {};                                    if (document.getElementById(\"bb14fedc-e06e-46bc-8b99-03fe4c556eed\")) {                    Plotly.newPlot(                        \"bb14fedc-e06e-46bc-8b99-03fe4c556eed\",                        [{\"line\":{\"color\":\"black\",\"dash\":\"dash\",\"width\":1},\"marker\":{\"color\":\"black\",\"opacity\":0.7},\"name\":\"Real Model\",\"showlegend\":true,\"x\":[0.0,11.11111111111111,22.22222222222222,33.33333333333333,44.44444444444444,55.55555555555556,66.66666666666666,77.77777777777777,88.88888888888889,100.0],\"y\":[1.0,23.22222222222222,45.44444444444444,67.66666666666666,89.88888888888889,112.11111111111111,134.33333333333331,156.55555555555554,178.77777777777777,201.0],\"type\":\"scatter\"}],                        {\"height\":400,\"title\":{\"text\":\"$\\\\text{(1) Simulated Data}$\"},\"xaxis\":{\"title\":{\"text\":\"x - Explanatory Variable\"}},\"yaxis\":{\"title\":{\"text\":\"y - Response\"}},\"template\":{\"data\":{\"barpolar\":[{\"marker\":{\"line\":{\"color\":\"white\",\"width\":0.5},\"pattern\":{\"fillmode\":\"overlay\",\"size\":10,\"solidity\":0.2}},\"type\":\"barpolar\"}],\"bar\":[{\"error_x\":{\"color\":\"rgb(36,36,36)\"},\"error_y\":{\"color\":\"rgb(36,36,36)\"},\"marker\":{\"line\":{\"color\":\"white\",\"width\":0.5},\"pattern\":{\"fillmode\":\"overlay\",\"size\":10,\"solidity\":0.2}},\"type\":\"bar\"}],\"carpet\":[{\"aaxis\":{\"endlinecolor\":\"rgb(36,36,36)\",\"gridcolor\":\"white\",\"linecolor\":\"white\",\"minorgridcolor\":\"white\",\"startlinecolor\":\"rgb(36,36,36)\"},\"baxis\":{\"endlinecolor\":\"rgb(36,36,36)\",\"gridcolor\":\"white\",\"linecolor\":\"white\",\"minorgridcolor\":\"white\",\"startlinecolor\":\"rgb(36,36,36)\"},\"type\":\"carpet\"}],\"choropleth\":[{\"colorbar\":{\"outlinewidth\":1,\"tickcolor\":\"rgb(36,36,36)\",\"ticks\":\"outside\"},\"type\":\"choropleth\"}],\"contourcarpet\":[{\"colorbar\":{\"outlinewidth\":1,\"tickcolor\":\"rgb(36,36,36)\",\"ticks\":\"outside\"},\"type\":\"contourcarpet\"}],\"contour\":[{\"colorbar\":{\"outlinewidth\":1,\"tickcolor\":\"rgb(36,36,36)\",\"ticks\":\"outside\"},\"colorscale\":[[0.0,\"#440154\"],[0.1111111111111111,\"#482878\"],[0.2222222222222222,\"#3e4989\"],[0.3333333333333333,\"#31688e\"],[0.4444444444444444,\"#26828e\"],[0.5555555555555556,\"#1f9e89\"],[0.6666666666666666,\"#35b779\"],[0.7777777777777778,\"#6ece58\"],[0.8888888888888888,\"#b5de2b\"],[1.0,\"#fde725\"]],\"type\":\"contour\"}],\"heatmapgl\":[{\"colorbar\":{\"outlinewidth\":1,\"tickcolor\":\"rgb(36,36,36)\",\"ticks\":\"outside\"},\"colorscale\":[[0.0,\"#440154\"],[0.1111111111111111,\"#482878\"],[0.2222222222222222,\"#3e4989\"],[0.3333333333333333,\"#31688e\"],[0.4444444444444444,\"#26828e\"],[0.5555555555555556,\"#1f9e89\"],[0.6666666666666666,\"#35b779\"],[0.7777777777777778,\"#6ece58\"],[0.8888888888888888,\"#b5de2b\"],[1.0,\"#fde725\"]],\"type\":\"heatmapgl\"}],\"heatmap\":[{\"colorbar\":{\"outlinewidth\":1,\"tickcolor\":\"rgb(36,36,36)\",\"ticks\":\"outside\"},\"colorscale\":[[0.0,\"#440154\"],[0.1111111111111111,\"#482878\"],[0.2222222222222222,\"#3e4989\"],[0.3333333333333333,\"#31688e\"],[0.4444444444444444,\"#26828e\"],[0.5555555555555556,\"#1f9e89\"],[0.6666666666666666,\"#35b779\"],[0.7777777777777778,\"#6ece58\"],[0.8888888888888888,\"#b5de2b\"],[1.0,\"#fde725\"]],\"type\":\"heatmap\"}],\"histogram2dcontour\":[{\"colorbar\":{\"outlinewidth\":1,\"tickcolor\":\"rgb(36,36,36)\",\"ticks\":\"outside\"},\"colorscale\":[[0.0,\"#440154\"],[0.1111111111111111,\"#482878\"],[0.2222222222222222,\"#3e4989\"],[0.3333333333333333,\"#31688e\"],[0.4444444444444444,\"#26828e\"],[0.5555555555555556,\"#1f9e89\"],[0.6666666666666666,\"#35b779\"],[0.7777777777777778,\"#6ece58\"],[0.8888888888888888,\"#b5de2b\"],[1.0,\"#fde725\"]],\"type\":\"histogram2dcontour\"}],\"histogram2d\":[{\"colorbar\":{\"outlinewidth\":1,\"tickcolor\":\"rgb(36,36,36)\",\"ticks\":\"outside\"},\"colorscale\":[[0.0,\"#440154\"],[0.1111111111111111,\"#482878\"],[0.2222222222222222,\"#3e4989\"],[0.3333333333333333,\"#31688e\"],[0.4444444444444444,\"#26828e\"],[0.5555555555555556,\"#1f9e89\"],[0.6666666666666666,\"#35b779\"],[0.7777777777777778,\"#6ece58\"],[0.8888888888888888,\"#b5de2b\"],[1.0,\"#fde725\"]],\"type\":\"histogram2d\"}],\"histogram\":[{\"marker\":{\"line\":{\"color\":\"white\",\"width\":0.6}},\"type\":\"histogram\"}],\"mesh3d\":[{\"colorbar\":{\"outlinewidth\":1,\"tickcolor\":\"rgb(36,36,36)\",\"ticks\":\"outside\"},\"type\":\"mesh3d\"}],\"parcoords\":[{\"line\":{\"colorbar\":{\"outlinewidth\":1,\"tickcolor\":\"rgb(36,36,36)\",\"ticks\":\"outside\"}},\"type\":\"parcoords\"}],\"pie\":[{\"automargin\":true,\"type\":\"pie\"}],\"scatter3d\":[{\"line\":{\"colorbar\":{\"outlinewidth\":1,\"tickcolor\":\"rgb(36,36,36)\",\"ticks\":\"outside\"}},\"marker\":{\"colorbar\":{\"outlinewidth\":1,\"tickcolor\":\"rgb(36,36,36)\",\"ticks\":\"outside\"}},\"type\":\"scatter3d\"}],\"scattercarpet\":[{\"marker\":{\"colorbar\":{\"outlinewidth\":1,\"tickcolor\":\"rgb(36,36,36)\",\"ticks\":\"outside\"}},\"type\":\"scattercarpet\"}],\"scattergeo\":[{\"marker\":{\"colorbar\":{\"outlinewidth\":1,\"tickcolor\":\"rgb(36,36,36)\",\"ticks\":\"outside\"}},\"type\":\"scattergeo\"}],\"scattergl\":[{\"marker\":{\"colorbar\":{\"outlinewidth\":1,\"tickcolor\":\"rgb(36,36,36)\",\"ticks\":\"outside\"}},\"type\":\"scattergl\"}],\"scattermapbox\":[{\"marker\":{\"colorbar\":{\"outlinewidth\":1,\"tickcolor\":\"rgb(36,36,36)\",\"ticks\":\"outside\"}},\"type\":\"scattermapbox\"}],\"scatterpolargl\":[{\"marker\":{\"colorbar\":{\"outlinewidth\":1,\"tickcolor\":\"rgb(36,36,36)\",\"ticks\":\"outside\"}},\"type\":\"scatterpolargl\"}],\"scatterpolar\":[{\"marker\":{\"colorbar\":{\"outlinewidth\":1,\"tickcolor\":\"rgb(36,36,36)\",\"ticks\":\"outside\"}},\"type\":\"scatterpolar\"}],\"scatter\":[{\"marker\":{\"colorbar\":{\"outlinewidth\":1,\"tickcolor\":\"rgb(36,36,36)\",\"ticks\":\"outside\"}},\"type\":\"scatter\"}],\"scatterternary\":[{\"marker\":{\"colorbar\":{\"outlinewidth\":1,\"tickcolor\":\"rgb(36,36,36)\",\"ticks\":\"outside\"}},\"type\":\"scatterternary\"}],\"surface\":[{\"colorbar\":{\"outlinewidth\":1,\"tickcolor\":\"rgb(36,36,36)\",\"ticks\":\"outside\"},\"colorscale\":[[0.0,\"#440154\"],[0.1111111111111111,\"#482878\"],[0.2222222222222222,\"#3e4989\"],[0.3333333333333333,\"#31688e\"],[0.4444444444444444,\"#26828e\"],[0.5555555555555556,\"#1f9e89\"],[0.6666666666666666,\"#35b779\"],[0.7777777777777778,\"#6ece58\"],[0.8888888888888888,\"#b5de2b\"],[1.0,\"#fde725\"]],\"type\":\"surface\"}],\"table\":[{\"cells\":{\"fill\":{\"color\":\"rgb(237,237,237)\"},\"line\":{\"color\":\"white\"}},\"header\":{\"fill\":{\"color\":\"rgb(217,217,217)\"},\"line\":{\"color\":\"white\"}},\"type\":\"table\"}]},\"layout\":{\"annotationdefaults\":{\"arrowhead\":0,\"arrowwidth\":1},\"autotypenumbers\":\"strict\",\"coloraxis\":{\"colorbar\":{\"outlinewidth\":1,\"tickcolor\":\"rgb(36,36,36)\",\"ticks\":\"outside\"}},\"colorscale\":{\"diverging\":[[0.0,\"rgb(103,0,31)\"],[0.1,\"rgb(178,24,43)\"],[0.2,\"rgb(214,96,77)\"],[0.3,\"rgb(244,165,130)\"],[0.4,\"rgb(253,219,199)\"],[0.5,\"rgb(247,247,247)\"],[0.6,\"rgb(209,229,240)\"],[0.7,\"rgb(146,197,222)\"],[0.8,\"rgb(67,147,195)\"],[0.9,\"rgb(33,102,172)\"],[1.0,\"rgb(5,48,97)\"]],\"sequential\":[[0.0,\"#440154\"],[0.1111111111111111,\"#482878\"],[0.2222222222222222,\"#3e4989\"],[0.3333333333333333,\"#31688e\"],[0.4444444444444444,\"#26828e\"],[0.5555555555555556,\"#1f9e89\"],[0.6666666666666666,\"#35b779\"],[0.7777777777777778,\"#6ece58\"],[0.8888888888888888,\"#b5de2b\"],[1.0,\"#fde725\"]],\"sequentialminus\":[[0.0,\"#440154\"],[0.1111111111111111,\"#482878\"],[0.2222222222222222,\"#3e4989\"],[0.3333333333333333,\"#31688e\"],[0.4444444444444444,\"#26828e\"],[0.5555555555555556,\"#1f9e89\"],[0.6666666666666666,\"#35b779\"],[0.7777777777777778,\"#6ece58\"],[0.8888888888888888,\"#b5de2b\"],[1.0,\"#fde725\"]]},\"colorway\":[\"#1F77B4\",\"#FF7F0E\",\"#2CA02C\",\"#D62728\",\"#9467BD\",\"#8C564B\",\"#E377C2\",\"#7F7F7F\",\"#BCBD22\",\"#17BECF\"],\"font\":{\"color\":\"rgb(36,36,36)\"},\"geo\":{\"bgcolor\":\"white\",\"lakecolor\":\"white\",\"landcolor\":\"white\",\"showlakes\":true,\"showland\":true,\"subunitcolor\":\"white\"},\"hoverlabel\":{\"align\":\"left\"},\"hovermode\":\"closest\",\"mapbox\":{\"style\":\"light\"},\"paper_bgcolor\":\"white\",\"plot_bgcolor\":\"white\",\"polar\":{\"angularaxis\":{\"gridcolor\":\"rgb(232,232,232)\",\"linecolor\":\"rgb(36,36,36)\",\"showgrid\":false,\"showline\":true,\"ticks\":\"outside\"},\"bgcolor\":\"white\",\"radialaxis\":{\"gridcolor\":\"rgb(232,232,232)\",\"linecolor\":\"rgb(36,36,36)\",\"showgrid\":false,\"showline\":true,\"ticks\":\"outside\"}},\"scene\":{\"xaxis\":{\"backgroundcolor\":\"white\",\"gridcolor\":\"rgb(232,232,232)\",\"gridwidth\":2,\"linecolor\":\"rgb(36,36,36)\",\"showbackground\":true,\"showgrid\":false,\"showline\":true,\"ticks\":\"outside\",\"zeroline\":false,\"zerolinecolor\":\"rgb(36,36,36)\"},\"yaxis\":{\"backgroundcolor\":\"white\",\"gridcolor\":\"rgb(232,232,232)\",\"gridwidth\":2,\"linecolor\":\"rgb(36,36,36)\",\"showbackground\":true,\"showgrid\":false,\"showline\":true,\"ticks\":\"outside\",\"zeroline\":false,\"zerolinecolor\":\"rgb(36,36,36)\"},\"zaxis\":{\"backgroundcolor\":\"white\",\"gridcolor\":\"rgb(232,232,232)\",\"gridwidth\":2,\"linecolor\":\"rgb(36,36,36)\",\"showbackground\":true,\"showgrid\":false,\"showline\":true,\"ticks\":\"outside\",\"zeroline\":false,\"zerolinecolor\":\"rgb(36,36,36)\"}},\"shapedefaults\":{\"fillcolor\":\"black\",\"line\":{\"width\":0},\"opacity\":0.3},\"ternary\":{\"aaxis\":{\"gridcolor\":\"rgb(232,232,232)\",\"linecolor\":\"rgb(36,36,36)\",\"showgrid\":false,\"showline\":true,\"ticks\":\"outside\"},\"baxis\":{\"gridcolor\":\"rgb(232,232,232)\",\"linecolor\":\"rgb(36,36,36)\",\"showgrid\":false,\"showline\":true,\"ticks\":\"outside\"},\"bgcolor\":\"white\",\"caxis\":{\"gridcolor\":\"rgb(232,232,232)\",\"linecolor\":\"rgb(36,36,36)\",\"showgrid\":false,\"showline\":true,\"ticks\":\"outside\"}},\"title\":{\"x\":0.05},\"xaxis\":{\"automargin\":true,\"gridcolor\":\"rgb(232,232,232)\",\"linecolor\":\"rgb(36,36,36)\",\"showgrid\":false,\"showline\":true,\"ticks\":\"outside\",\"title\":{\"standoff\":15},\"zeroline\":false,\"zerolinecolor\":\"rgb(36,36,36)\"},\"yaxis\":{\"automargin\":true,\"gridcolor\":\"rgb(232,232,232)\",\"linecolor\":\"rgb(36,36,36)\",\"showgrid\":false,\"showline\":true,\"ticks\":\"outside\",\"title\":{\"standoff\":15},\"zeroline\":false,\"zerolinecolor\":\"rgb(36,36,36)\"},\"margin\":{\"b\":0,\"l\":20,\"r\":20,\"t\":40}}}},                        {\"responsive\": true}                    ).then(function(){\n                            \nvar gd = document.getElementById('bb14fedc-e06e-46bc-8b99-03fe4c556eed');\nvar x = new MutationObserver(function (mutations, observer) {{\n        var display = window.getComputedStyle(gd).display;\n        if (!display || display === 'none') {{\n            console.log([gd, 'removed!']);\n            Plotly.purge(gd);\n            observer.disconnect();\n        }}\n}});\n\n// Listen for the removal of the full notebook cells\nvar notebookContainer = gd.closest('#notebook-container');\nif (notebookContainer) {{\n    x.observe(notebookContainer, {childList: true});\n}}\n\n// Listen for the clearing of the current output cell\nvar outputEl = gd.closest('.output');\nif (outputEl) {{\n    x.observe(outputEl, {childList: true});\n}}\n\n                        })                };                });            </script>        </div>"
     },
     "metadata": {},
     "output_type": "display_data"
    }
   ],
   "source": [
    "fig = go.Figure([go.Scatter(x=x, y=y, name=\"Real Model\", showlegend=True,\n",
    "                                 marker=dict(color=\"black\", opacity=.7), line=dict(color=\"black\", dash=\"dash\", width=1))], \n",
    "          layout=go.Layout(title=r\"$\\text{(1) Simulated Data}$\",\n",
    "                           xaxis={\"title\": \"x - Explanatory Variable\"},\n",
    "                           yaxis={\"title\": \"y - Response\"},\n",
    "                           height=400))\n",
    "fig.show()"
   ]
  },
  {
   "cell_type": "markdown",
   "metadata": {
    "pycharm": {
     "name": "#%% md\n"
    }
   },
   "source": [
    "Using this sample as a **training set**, let us compute the Ordinary Least Squares (OLS) estimators $\\hat{w_0},\\widehat{w_1}$ of the model. Then, if we are given new samples $x_j$ we can predict its response $\\hat{y}_j$:\n",
    "\n",
    "$$ \\hat{y}_j = \\hat{w_1} x_j + \\hat{w}_0 $$\n",
    "\n",
    "Over the dataset above, try and think what would you expect the output to be?"
   ]
  },
  {
   "cell_type": "code",
   "execution_count": 36,
   "metadata": {
    "pycharm": {
     "name": "#%%\n"
    }
   },
   "outputs": [
    {
     "name": "stdout",
     "output_type": "stream",
     "text": [
      "Estimated intercept: 0.9999999999999716\n",
      "Estimated coefficient: 2.0000000000000004\n"
     ]
    }
   ],
   "source": [
    "from sklearn.linear_model import LinearRegression\n",
    "noiseless_model = LinearRegression()\n",
    "\n",
    "noiseless_model.fit(x.reshape((-1,1)), y)\n",
    "print(\"Estimated intercept:\", noiseless_model.intercept_)\n",
    "print(\"Estimated coefficient:\", noiseless_model.coef_[0])\n"
   ]
  },
  {
   "cell_type": "markdown",
   "metadata": {
    "pycharm": {
     "name": "#%% md\n"
    }
   },
   "source": [
    "## Linear Regression With Noise\n",
    "As the dataset used to fit the model lays exactly on a straight line, the estimated coefficients are the correct \n",
    "ones (up to floating point precision). Next, let us add some Gaussian noise to the data and see how it influences our \n",
    "estimation. So: \n",
    "\n",
    "$$\\forall i \\in \\left[ m \\right]\\quad y_i=w_1\\cdot x_i + w_0 + \\varepsilon_i \\quad s.t.\\quad \n",
    "\\varepsilon\\sim\\mathcal{N}\\left(0,\\sigma^2I_m\\right)$$\n",
    "\n",
    "Namely, the noise of each sample distributes by a Gaussian with zero mean and $\\sigma^2$ variance, and is uncorrelated between samples.\n",
    "\n",
    "*Notice that from now on we mark the $y$'s generated by the noise-less model with `y_`. This is so it is clear that the \"real\"\n",
    "$y$'s observed in a given sample are noisy.*"
   ]
  },
  {
   "cell_type": "code",
   "execution_count": 37,
   "metadata": {
    "pycharm": {
     "name": "#%%\n"
    }
   },
   "outputs": [
    {
     "data": {
      "application/vnd.plotly.v1+json": {
       "data": [
        {
         "line": {
          "color": "black",
          "dash": "dash",
          "width": 1
         },
         "marker": {
          "color": "black",
          "opacity": 0.7
         },
         "name": "Real Model",
         "showlegend": true,
         "x": [
          0.0,
          11.11111111111111,
          22.22222222222222,
          33.33333333333333,
          44.44444444444444,
          55.55555555555556,
          66.66666666666666,
          77.77777777777777,
          88.88888888888889,
          100.0
         ],
         "y": [
          1.0,
          23.22222222222222,
          45.44444444444444,
          67.66666666666666,
          89.88888888888889,
          112.11111111111111,
          134.33333333333331,
          156.55555555555554,
          178.77777777777777,
          201.0
         ],
         "type": "scatter"
        },
        {
         "line": {
          "width": 1
         },
         "mode": "markers",
         "name": "Observed Points",
         "x": [
          0.0,
          11.11111111111111,
          22.22222222222222,
          33.33333333333333,
          44.44444444444444,
          55.55555555555556,
          66.66666666666666,
          77.77777777777777,
          88.88888888888889,
          100.0
         ],
         "y": [
          -15.441830650505388,
          7.807503396134663,
          -98.2686580601409,
          -2.010034370269832,
          -44.20377346201805,
          -41.39563805414265,
          -23.45965414211258,
          7.586999977565874,
          5.617752312310891,
          -29.038292183549746
         ],
         "type": "scatter"
        }
       ],
       "layout": {
        "height": 400,
        "title": {
         "text": "$\\text{(2) Simulated Data - With Noise}$"
        },
        "xaxis": {
         "title": {
          "text": "x - Explanatory Variable"
         }
        },
        "yaxis": {
         "title": {
          "text": "y - Response"
         }
        },
        "template": {
         "data": {
          "barpolar": [
           {
            "marker": {
             "line": {
              "color": "white",
              "width": 0.5
             },
             "pattern": {
              "fillmode": "overlay",
              "size": 10,
              "solidity": 0.2
             }
            },
            "type": "barpolar"
           }
          ],
          "bar": [
           {
            "error_x": {
             "color": "rgb(36,36,36)"
            },
            "error_y": {
             "color": "rgb(36,36,36)"
            },
            "marker": {
             "line": {
              "color": "white",
              "width": 0.5
             },
             "pattern": {
              "fillmode": "overlay",
              "size": 10,
              "solidity": 0.2
             }
            },
            "type": "bar"
           }
          ],
          "carpet": [
           {
            "aaxis": {
             "endlinecolor": "rgb(36,36,36)",
             "gridcolor": "white",
             "linecolor": "white",
             "minorgridcolor": "white",
             "startlinecolor": "rgb(36,36,36)"
            },
            "baxis": {
             "endlinecolor": "rgb(36,36,36)",
             "gridcolor": "white",
             "linecolor": "white",
             "minorgridcolor": "white",
             "startlinecolor": "rgb(36,36,36)"
            },
            "type": "carpet"
           }
          ],
          "choropleth": [
           {
            "colorbar": {
             "outlinewidth": 1,
             "tickcolor": "rgb(36,36,36)",
             "ticks": "outside"
            },
            "type": "choropleth"
           }
          ],
          "contourcarpet": [
           {
            "colorbar": {
             "outlinewidth": 1,
             "tickcolor": "rgb(36,36,36)",
             "ticks": "outside"
            },
            "type": "contourcarpet"
           }
          ],
          "contour": [
           {
            "colorbar": {
             "outlinewidth": 1,
             "tickcolor": "rgb(36,36,36)",
             "ticks": "outside"
            },
            "colorscale": [
             [
              0.0,
              "#440154"
             ],
             [
              0.1111111111111111,
              "#482878"
             ],
             [
              0.2222222222222222,
              "#3e4989"
             ],
             [
              0.3333333333333333,
              "#31688e"
             ],
             [
              0.4444444444444444,
              "#26828e"
             ],
             [
              0.5555555555555556,
              "#1f9e89"
             ],
             [
              0.6666666666666666,
              "#35b779"
             ],
             [
              0.7777777777777778,
              "#6ece58"
             ],
             [
              0.8888888888888888,
              "#b5de2b"
             ],
             [
              1.0,
              "#fde725"
             ]
            ],
            "type": "contour"
           }
          ],
          "heatmapgl": [
           {
            "colorbar": {
             "outlinewidth": 1,
             "tickcolor": "rgb(36,36,36)",
             "ticks": "outside"
            },
            "colorscale": [
             [
              0.0,
              "#440154"
             ],
             [
              0.1111111111111111,
              "#482878"
             ],
             [
              0.2222222222222222,
              "#3e4989"
             ],
             [
              0.3333333333333333,
              "#31688e"
             ],
             [
              0.4444444444444444,
              "#26828e"
             ],
             [
              0.5555555555555556,
              "#1f9e89"
             ],
             [
              0.6666666666666666,
              "#35b779"
             ],
             [
              0.7777777777777778,
              "#6ece58"
             ],
             [
              0.8888888888888888,
              "#b5de2b"
             ],
             [
              1.0,
              "#fde725"
             ]
            ],
            "type": "heatmapgl"
           }
          ],
          "heatmap": [
           {
            "colorbar": {
             "outlinewidth": 1,
             "tickcolor": "rgb(36,36,36)",
             "ticks": "outside"
            },
            "colorscale": [
             [
              0.0,
              "#440154"
             ],
             [
              0.1111111111111111,
              "#482878"
             ],
             [
              0.2222222222222222,
              "#3e4989"
             ],
             [
              0.3333333333333333,
              "#31688e"
             ],
             [
              0.4444444444444444,
              "#26828e"
             ],
             [
              0.5555555555555556,
              "#1f9e89"
             ],
             [
              0.6666666666666666,
              "#35b779"
             ],
             [
              0.7777777777777778,
              "#6ece58"
             ],
             [
              0.8888888888888888,
              "#b5de2b"
             ],
             [
              1.0,
              "#fde725"
             ]
            ],
            "type": "heatmap"
           }
          ],
          "histogram2dcontour": [
           {
            "colorbar": {
             "outlinewidth": 1,
             "tickcolor": "rgb(36,36,36)",
             "ticks": "outside"
            },
            "colorscale": [
             [
              0.0,
              "#440154"
             ],
             [
              0.1111111111111111,
              "#482878"
             ],
             [
              0.2222222222222222,
              "#3e4989"
             ],
             [
              0.3333333333333333,
              "#31688e"
             ],
             [
              0.4444444444444444,
              "#26828e"
             ],
             [
              0.5555555555555556,
              "#1f9e89"
             ],
             [
              0.6666666666666666,
              "#35b779"
             ],
             [
              0.7777777777777778,
              "#6ece58"
             ],
             [
              0.8888888888888888,
              "#b5de2b"
             ],
             [
              1.0,
              "#fde725"
             ]
            ],
            "type": "histogram2dcontour"
           }
          ],
          "histogram2d": [
           {
            "colorbar": {
             "outlinewidth": 1,
             "tickcolor": "rgb(36,36,36)",
             "ticks": "outside"
            },
            "colorscale": [
             [
              0.0,
              "#440154"
             ],
             [
              0.1111111111111111,
              "#482878"
             ],
             [
              0.2222222222222222,
              "#3e4989"
             ],
             [
              0.3333333333333333,
              "#31688e"
             ],
             [
              0.4444444444444444,
              "#26828e"
             ],
             [
              0.5555555555555556,
              "#1f9e89"
             ],
             [
              0.6666666666666666,
              "#35b779"
             ],
             [
              0.7777777777777778,
              "#6ece58"
             ],
             [
              0.8888888888888888,
              "#b5de2b"
             ],
             [
              1.0,
              "#fde725"
             ]
            ],
            "type": "histogram2d"
           }
          ],
          "histogram": [
           {
            "marker": {
             "line": {
              "color": "white",
              "width": 0.6
             }
            },
            "type": "histogram"
           }
          ],
          "mesh3d": [
           {
            "colorbar": {
             "outlinewidth": 1,
             "tickcolor": "rgb(36,36,36)",
             "ticks": "outside"
            },
            "type": "mesh3d"
           }
          ],
          "parcoords": [
           {
            "line": {
             "colorbar": {
              "outlinewidth": 1,
              "tickcolor": "rgb(36,36,36)",
              "ticks": "outside"
             }
            },
            "type": "parcoords"
           }
          ],
          "pie": [
           {
            "automargin": true,
            "type": "pie"
           }
          ],
          "scatter3d": [
           {
            "line": {
             "colorbar": {
              "outlinewidth": 1,
              "tickcolor": "rgb(36,36,36)",
              "ticks": "outside"
             }
            },
            "marker": {
             "colorbar": {
              "outlinewidth": 1,
              "tickcolor": "rgb(36,36,36)",
              "ticks": "outside"
             }
            },
            "type": "scatter3d"
           }
          ],
          "scattercarpet": [
           {
            "marker": {
             "colorbar": {
              "outlinewidth": 1,
              "tickcolor": "rgb(36,36,36)",
              "ticks": "outside"
             }
            },
            "type": "scattercarpet"
           }
          ],
          "scattergeo": [
           {
            "marker": {
             "colorbar": {
              "outlinewidth": 1,
              "tickcolor": "rgb(36,36,36)",
              "ticks": "outside"
             }
            },
            "type": "scattergeo"
           }
          ],
          "scattergl": [
           {
            "marker": {
             "colorbar": {
              "outlinewidth": 1,
              "tickcolor": "rgb(36,36,36)",
              "ticks": "outside"
             }
            },
            "type": "scattergl"
           }
          ],
          "scattermapbox": [
           {
            "marker": {
             "colorbar": {
              "outlinewidth": 1,
              "tickcolor": "rgb(36,36,36)",
              "ticks": "outside"
             }
            },
            "type": "scattermapbox"
           }
          ],
          "scatterpolargl": [
           {
            "marker": {
             "colorbar": {
              "outlinewidth": 1,
              "tickcolor": "rgb(36,36,36)",
              "ticks": "outside"
             }
            },
            "type": "scatterpolargl"
           }
          ],
          "scatterpolar": [
           {
            "marker": {
             "colorbar": {
              "outlinewidth": 1,
              "tickcolor": "rgb(36,36,36)",
              "ticks": "outside"
             }
            },
            "type": "scatterpolar"
           }
          ],
          "scatter": [
           {
            "marker": {
             "colorbar": {
              "outlinewidth": 1,
              "tickcolor": "rgb(36,36,36)",
              "ticks": "outside"
             }
            },
            "type": "scatter"
           }
          ],
          "scatterternary": [
           {
            "marker": {
             "colorbar": {
              "outlinewidth": 1,
              "tickcolor": "rgb(36,36,36)",
              "ticks": "outside"
             }
            },
            "type": "scatterternary"
           }
          ],
          "surface": [
           {
            "colorbar": {
             "outlinewidth": 1,
             "tickcolor": "rgb(36,36,36)",
             "ticks": "outside"
            },
            "colorscale": [
             [
              0.0,
              "#440154"
             ],
             [
              0.1111111111111111,
              "#482878"
             ],
             [
              0.2222222222222222,
              "#3e4989"
             ],
             [
              0.3333333333333333,
              "#31688e"
             ],
             [
              0.4444444444444444,
              "#26828e"
             ],
             [
              0.5555555555555556,
              "#1f9e89"
             ],
             [
              0.6666666666666666,
              "#35b779"
             ],
             [
              0.7777777777777778,
              "#6ece58"
             ],
             [
              0.8888888888888888,
              "#b5de2b"
             ],
             [
              1.0,
              "#fde725"
             ]
            ],
            "type": "surface"
           }
          ],
          "table": [
           {
            "cells": {
             "fill": {
              "color": "rgb(237,237,237)"
             },
             "line": {
              "color": "white"
             }
            },
            "header": {
             "fill": {
              "color": "rgb(217,217,217)"
             },
             "line": {
              "color": "white"
             }
            },
            "type": "table"
           }
          ]
         },
         "layout": {
          "annotationdefaults": {
           "arrowhead": 0,
           "arrowwidth": 1
          },
          "autotypenumbers": "strict",
          "coloraxis": {
           "colorbar": {
            "outlinewidth": 1,
            "tickcolor": "rgb(36,36,36)",
            "ticks": "outside"
           }
          },
          "colorscale": {
           "diverging": [
            [
             0.0,
             "rgb(103,0,31)"
            ],
            [
             0.1,
             "rgb(178,24,43)"
            ],
            [
             0.2,
             "rgb(214,96,77)"
            ],
            [
             0.3,
             "rgb(244,165,130)"
            ],
            [
             0.4,
             "rgb(253,219,199)"
            ],
            [
             0.5,
             "rgb(247,247,247)"
            ],
            [
             0.6,
             "rgb(209,229,240)"
            ],
            [
             0.7,
             "rgb(146,197,222)"
            ],
            [
             0.8,
             "rgb(67,147,195)"
            ],
            [
             0.9,
             "rgb(33,102,172)"
            ],
            [
             1.0,
             "rgb(5,48,97)"
            ]
           ],
           "sequential": [
            [
             0.0,
             "#440154"
            ],
            [
             0.1111111111111111,
             "#482878"
            ],
            [
             0.2222222222222222,
             "#3e4989"
            ],
            [
             0.3333333333333333,
             "#31688e"
            ],
            [
             0.4444444444444444,
             "#26828e"
            ],
            [
             0.5555555555555556,
             "#1f9e89"
            ],
            [
             0.6666666666666666,
             "#35b779"
            ],
            [
             0.7777777777777778,
             "#6ece58"
            ],
            [
             0.8888888888888888,
             "#b5de2b"
            ],
            [
             1.0,
             "#fde725"
            ]
           ],
           "sequentialminus": [
            [
             0.0,
             "#440154"
            ],
            [
             0.1111111111111111,
             "#482878"
            ],
            [
             0.2222222222222222,
             "#3e4989"
            ],
            [
             0.3333333333333333,
             "#31688e"
            ],
            [
             0.4444444444444444,
             "#26828e"
            ],
            [
             0.5555555555555556,
             "#1f9e89"
            ],
            [
             0.6666666666666666,
             "#35b779"
            ],
            [
             0.7777777777777778,
             "#6ece58"
            ],
            [
             0.8888888888888888,
             "#b5de2b"
            ],
            [
             1.0,
             "#fde725"
            ]
           ]
          },
          "colorway": [
           "#1F77B4",
           "#FF7F0E",
           "#2CA02C",
           "#D62728",
           "#9467BD",
           "#8C564B",
           "#E377C2",
           "#7F7F7F",
           "#BCBD22",
           "#17BECF"
          ],
          "font": {
           "color": "rgb(36,36,36)"
          },
          "geo": {
           "bgcolor": "white",
           "lakecolor": "white",
           "landcolor": "white",
           "showlakes": true,
           "showland": true,
           "subunitcolor": "white"
          },
          "hoverlabel": {
           "align": "left"
          },
          "hovermode": "closest",
          "mapbox": {
           "style": "light"
          },
          "paper_bgcolor": "white",
          "plot_bgcolor": "white",
          "polar": {
           "angularaxis": {
            "gridcolor": "rgb(232,232,232)",
            "linecolor": "rgb(36,36,36)",
            "showgrid": false,
            "showline": true,
            "ticks": "outside"
           },
           "bgcolor": "white",
           "radialaxis": {
            "gridcolor": "rgb(232,232,232)",
            "linecolor": "rgb(36,36,36)",
            "showgrid": false,
            "showline": true,
            "ticks": "outside"
           }
          },
          "scene": {
           "xaxis": {
            "backgroundcolor": "white",
            "gridcolor": "rgb(232,232,232)",
            "gridwidth": 2,
            "linecolor": "rgb(36,36,36)",
            "showbackground": true,
            "showgrid": false,
            "showline": true,
            "ticks": "outside",
            "zeroline": false,
            "zerolinecolor": "rgb(36,36,36)"
           },
           "yaxis": {
            "backgroundcolor": "white",
            "gridcolor": "rgb(232,232,232)",
            "gridwidth": 2,
            "linecolor": "rgb(36,36,36)",
            "showbackground": true,
            "showgrid": false,
            "showline": true,
            "ticks": "outside",
            "zeroline": false,
            "zerolinecolor": "rgb(36,36,36)"
           },
           "zaxis": {
            "backgroundcolor": "white",
            "gridcolor": "rgb(232,232,232)",
            "gridwidth": 2,
            "linecolor": "rgb(36,36,36)",
            "showbackground": true,
            "showgrid": false,
            "showline": true,
            "ticks": "outside",
            "zeroline": false,
            "zerolinecolor": "rgb(36,36,36)"
           }
          },
          "shapedefaults": {
           "fillcolor": "black",
           "line": {
            "width": 0
           },
           "opacity": 0.3
          },
          "ternary": {
           "aaxis": {
            "gridcolor": "rgb(232,232,232)",
            "linecolor": "rgb(36,36,36)",
            "showgrid": false,
            "showline": true,
            "ticks": "outside"
           },
           "baxis": {
            "gridcolor": "rgb(232,232,232)",
            "linecolor": "rgb(36,36,36)",
            "showgrid": false,
            "showline": true,
            "ticks": "outside"
           },
           "bgcolor": "white",
           "caxis": {
            "gridcolor": "rgb(232,232,232)",
            "linecolor": "rgb(36,36,36)",
            "showgrid": false,
            "showline": true,
            "ticks": "outside"
           }
          },
          "title": {
           "x": 0.05
          },
          "xaxis": {
           "automargin": true,
           "gridcolor": "rgb(232,232,232)",
           "linecolor": "rgb(36,36,36)",
           "showgrid": false,
           "showline": true,
           "ticks": "outside",
           "title": {
            "standoff": 15
           },
           "zeroline": false,
           "zerolinecolor": "rgb(36,36,36)"
          },
          "yaxis": {
           "automargin": true,
           "gridcolor": "rgb(232,232,232)",
           "linecolor": "rgb(36,36,36)",
           "showgrid": false,
           "showline": true,
           "ticks": "outside",
           "title": {
            "standoff": 15
           },
           "zeroline": false,
           "zerolinecolor": "rgb(36,36,36)"
          },
          "margin": {
           "b": 0,
           "l": 20,
           "r": 20,
           "t": 40
          }
         }
        }
       },
       "config": {
        "plotlyServerURL": "https://plot.ly"
       }
      },
      "text/html": "<div>                            <div id=\"c4cf9e1f-2f07-4061-9243-e6c5de21b7f1\" class=\"plotly-graph-div\" style=\"height:400px; width:100%;\"></div>            <script type=\"text/javascript\">                require([\"plotly\"], function(Plotly) {                    window.PLOTLYENV=window.PLOTLYENV || {};                                    if (document.getElementById(\"c4cf9e1f-2f07-4061-9243-e6c5de21b7f1\")) {                    Plotly.newPlot(                        \"c4cf9e1f-2f07-4061-9243-e6c5de21b7f1\",                        [{\"line\":{\"color\":\"black\",\"dash\":\"dash\",\"width\":1},\"marker\":{\"color\":\"black\",\"opacity\":0.7},\"name\":\"Real Model\",\"showlegend\":true,\"x\":[0.0,11.11111111111111,22.22222222222222,33.33333333333333,44.44444444444444,55.55555555555556,66.66666666666666,77.77777777777777,88.88888888888889,100.0],\"y\":[1.0,23.22222222222222,45.44444444444444,67.66666666666666,89.88888888888889,112.11111111111111,134.33333333333331,156.55555555555554,178.77777777777777,201.0],\"type\":\"scatter\"},{\"line\":{\"width\":1},\"mode\":\"markers\",\"name\":\"Observed Points\",\"x\":[0.0,11.11111111111111,22.22222222222222,33.33333333333333,44.44444444444444,55.55555555555556,66.66666666666666,77.77777777777777,88.88888888888889,100.0],\"y\":[-15.441830650505388,7.807503396134663,-98.2686580601409,-2.010034370269832,-44.20377346201805,-41.39563805414265,-23.45965414211258,7.586999977565874,5.617752312310891,-29.038292183549746],\"type\":\"scatter\"}],                        {\"height\":400,\"title\":{\"text\":\"$\\\\text{(2) Simulated Data - With Noise}$\"},\"xaxis\":{\"title\":{\"text\":\"x - Explanatory Variable\"}},\"yaxis\":{\"title\":{\"text\":\"y - Response\"}},\"template\":{\"data\":{\"barpolar\":[{\"marker\":{\"line\":{\"color\":\"white\",\"width\":0.5},\"pattern\":{\"fillmode\":\"overlay\",\"size\":10,\"solidity\":0.2}},\"type\":\"barpolar\"}],\"bar\":[{\"error_x\":{\"color\":\"rgb(36,36,36)\"},\"error_y\":{\"color\":\"rgb(36,36,36)\"},\"marker\":{\"line\":{\"color\":\"white\",\"width\":0.5},\"pattern\":{\"fillmode\":\"overlay\",\"size\":10,\"solidity\":0.2}},\"type\":\"bar\"}],\"carpet\":[{\"aaxis\":{\"endlinecolor\":\"rgb(36,36,36)\",\"gridcolor\":\"white\",\"linecolor\":\"white\",\"minorgridcolor\":\"white\",\"startlinecolor\":\"rgb(36,36,36)\"},\"baxis\":{\"endlinecolor\":\"rgb(36,36,36)\",\"gridcolor\":\"white\",\"linecolor\":\"white\",\"minorgridcolor\":\"white\",\"startlinecolor\":\"rgb(36,36,36)\"},\"type\":\"carpet\"}],\"choropleth\":[{\"colorbar\":{\"outlinewidth\":1,\"tickcolor\":\"rgb(36,36,36)\",\"ticks\":\"outside\"},\"type\":\"choropleth\"}],\"contourcarpet\":[{\"colorbar\":{\"outlinewidth\":1,\"tickcolor\":\"rgb(36,36,36)\",\"ticks\":\"outside\"},\"type\":\"contourcarpet\"}],\"contour\":[{\"colorbar\":{\"outlinewidth\":1,\"tickcolor\":\"rgb(36,36,36)\",\"ticks\":\"outside\"},\"colorscale\":[[0.0,\"#440154\"],[0.1111111111111111,\"#482878\"],[0.2222222222222222,\"#3e4989\"],[0.3333333333333333,\"#31688e\"],[0.4444444444444444,\"#26828e\"],[0.5555555555555556,\"#1f9e89\"],[0.6666666666666666,\"#35b779\"],[0.7777777777777778,\"#6ece58\"],[0.8888888888888888,\"#b5de2b\"],[1.0,\"#fde725\"]],\"type\":\"contour\"}],\"heatmapgl\":[{\"colorbar\":{\"outlinewidth\":1,\"tickcolor\":\"rgb(36,36,36)\",\"ticks\":\"outside\"},\"colorscale\":[[0.0,\"#440154\"],[0.1111111111111111,\"#482878\"],[0.2222222222222222,\"#3e4989\"],[0.3333333333333333,\"#31688e\"],[0.4444444444444444,\"#26828e\"],[0.5555555555555556,\"#1f9e89\"],[0.6666666666666666,\"#35b779\"],[0.7777777777777778,\"#6ece58\"],[0.8888888888888888,\"#b5de2b\"],[1.0,\"#fde725\"]],\"type\":\"heatmapgl\"}],\"heatmap\":[{\"colorbar\":{\"outlinewidth\":1,\"tickcolor\":\"rgb(36,36,36)\",\"ticks\":\"outside\"},\"colorscale\":[[0.0,\"#440154\"],[0.1111111111111111,\"#482878\"],[0.2222222222222222,\"#3e4989\"],[0.3333333333333333,\"#31688e\"],[0.4444444444444444,\"#26828e\"],[0.5555555555555556,\"#1f9e89\"],[0.6666666666666666,\"#35b779\"],[0.7777777777777778,\"#6ece58\"],[0.8888888888888888,\"#b5de2b\"],[1.0,\"#fde725\"]],\"type\":\"heatmap\"}],\"histogram2dcontour\":[{\"colorbar\":{\"outlinewidth\":1,\"tickcolor\":\"rgb(36,36,36)\",\"ticks\":\"outside\"},\"colorscale\":[[0.0,\"#440154\"],[0.1111111111111111,\"#482878\"],[0.2222222222222222,\"#3e4989\"],[0.3333333333333333,\"#31688e\"],[0.4444444444444444,\"#26828e\"],[0.5555555555555556,\"#1f9e89\"],[0.6666666666666666,\"#35b779\"],[0.7777777777777778,\"#6ece58\"],[0.8888888888888888,\"#b5de2b\"],[1.0,\"#fde725\"]],\"type\":\"histogram2dcontour\"}],\"histogram2d\":[{\"colorbar\":{\"outlinewidth\":1,\"tickcolor\":\"rgb(36,36,36)\",\"ticks\":\"outside\"},\"colorscale\":[[0.0,\"#440154\"],[0.1111111111111111,\"#482878\"],[0.2222222222222222,\"#3e4989\"],[0.3333333333333333,\"#31688e\"],[0.4444444444444444,\"#26828e\"],[0.5555555555555556,\"#1f9e89\"],[0.6666666666666666,\"#35b779\"],[0.7777777777777778,\"#6ece58\"],[0.8888888888888888,\"#b5de2b\"],[1.0,\"#fde725\"]],\"type\":\"histogram2d\"}],\"histogram\":[{\"marker\":{\"line\":{\"color\":\"white\",\"width\":0.6}},\"type\":\"histogram\"}],\"mesh3d\":[{\"colorbar\":{\"outlinewidth\":1,\"tickcolor\":\"rgb(36,36,36)\",\"ticks\":\"outside\"},\"type\":\"mesh3d\"}],\"parcoords\":[{\"line\":{\"colorbar\":{\"outlinewidth\":1,\"tickcolor\":\"rgb(36,36,36)\",\"ticks\":\"outside\"}},\"type\":\"parcoords\"}],\"pie\":[{\"automargin\":true,\"type\":\"pie\"}],\"scatter3d\":[{\"line\":{\"colorbar\":{\"outlinewidth\":1,\"tickcolor\":\"rgb(36,36,36)\",\"ticks\":\"outside\"}},\"marker\":{\"colorbar\":{\"outlinewidth\":1,\"tickcolor\":\"rgb(36,36,36)\",\"ticks\":\"outside\"}},\"type\":\"scatter3d\"}],\"scattercarpet\":[{\"marker\":{\"colorbar\":{\"outlinewidth\":1,\"tickcolor\":\"rgb(36,36,36)\",\"ticks\":\"outside\"}},\"type\":\"scattercarpet\"}],\"scattergeo\":[{\"marker\":{\"colorbar\":{\"outlinewidth\":1,\"tickcolor\":\"rgb(36,36,36)\",\"ticks\":\"outside\"}},\"type\":\"scattergeo\"}],\"scattergl\":[{\"marker\":{\"colorbar\":{\"outlinewidth\":1,\"tickcolor\":\"rgb(36,36,36)\",\"ticks\":\"outside\"}},\"type\":\"scattergl\"}],\"scattermapbox\":[{\"marker\":{\"colorbar\":{\"outlinewidth\":1,\"tickcolor\":\"rgb(36,36,36)\",\"ticks\":\"outside\"}},\"type\":\"scattermapbox\"}],\"scatterpolargl\":[{\"marker\":{\"colorbar\":{\"outlinewidth\":1,\"tickcolor\":\"rgb(36,36,36)\",\"ticks\":\"outside\"}},\"type\":\"scatterpolargl\"}],\"scatterpolar\":[{\"marker\":{\"colorbar\":{\"outlinewidth\":1,\"tickcolor\":\"rgb(36,36,36)\",\"ticks\":\"outside\"}},\"type\":\"scatterpolar\"}],\"scatter\":[{\"marker\":{\"colorbar\":{\"outlinewidth\":1,\"tickcolor\":\"rgb(36,36,36)\",\"ticks\":\"outside\"}},\"type\":\"scatter\"}],\"scatterternary\":[{\"marker\":{\"colorbar\":{\"outlinewidth\":1,\"tickcolor\":\"rgb(36,36,36)\",\"ticks\":\"outside\"}},\"type\":\"scatterternary\"}],\"surface\":[{\"colorbar\":{\"outlinewidth\":1,\"tickcolor\":\"rgb(36,36,36)\",\"ticks\":\"outside\"},\"colorscale\":[[0.0,\"#440154\"],[0.1111111111111111,\"#482878\"],[0.2222222222222222,\"#3e4989\"],[0.3333333333333333,\"#31688e\"],[0.4444444444444444,\"#26828e\"],[0.5555555555555556,\"#1f9e89\"],[0.6666666666666666,\"#35b779\"],[0.7777777777777778,\"#6ece58\"],[0.8888888888888888,\"#b5de2b\"],[1.0,\"#fde725\"]],\"type\":\"surface\"}],\"table\":[{\"cells\":{\"fill\":{\"color\":\"rgb(237,237,237)\"},\"line\":{\"color\":\"white\"}},\"header\":{\"fill\":{\"color\":\"rgb(217,217,217)\"},\"line\":{\"color\":\"white\"}},\"type\":\"table\"}]},\"layout\":{\"annotationdefaults\":{\"arrowhead\":0,\"arrowwidth\":1},\"autotypenumbers\":\"strict\",\"coloraxis\":{\"colorbar\":{\"outlinewidth\":1,\"tickcolor\":\"rgb(36,36,36)\",\"ticks\":\"outside\"}},\"colorscale\":{\"diverging\":[[0.0,\"rgb(103,0,31)\"],[0.1,\"rgb(178,24,43)\"],[0.2,\"rgb(214,96,77)\"],[0.3,\"rgb(244,165,130)\"],[0.4,\"rgb(253,219,199)\"],[0.5,\"rgb(247,247,247)\"],[0.6,\"rgb(209,229,240)\"],[0.7,\"rgb(146,197,222)\"],[0.8,\"rgb(67,147,195)\"],[0.9,\"rgb(33,102,172)\"],[1.0,\"rgb(5,48,97)\"]],\"sequential\":[[0.0,\"#440154\"],[0.1111111111111111,\"#482878\"],[0.2222222222222222,\"#3e4989\"],[0.3333333333333333,\"#31688e\"],[0.4444444444444444,\"#26828e\"],[0.5555555555555556,\"#1f9e89\"],[0.6666666666666666,\"#35b779\"],[0.7777777777777778,\"#6ece58\"],[0.8888888888888888,\"#b5de2b\"],[1.0,\"#fde725\"]],\"sequentialminus\":[[0.0,\"#440154\"],[0.1111111111111111,\"#482878\"],[0.2222222222222222,\"#3e4989\"],[0.3333333333333333,\"#31688e\"],[0.4444444444444444,\"#26828e\"],[0.5555555555555556,\"#1f9e89\"],[0.6666666666666666,\"#35b779\"],[0.7777777777777778,\"#6ece58\"],[0.8888888888888888,\"#b5de2b\"],[1.0,\"#fde725\"]]},\"colorway\":[\"#1F77B4\",\"#FF7F0E\",\"#2CA02C\",\"#D62728\",\"#9467BD\",\"#8C564B\",\"#E377C2\",\"#7F7F7F\",\"#BCBD22\",\"#17BECF\"],\"font\":{\"color\":\"rgb(36,36,36)\"},\"geo\":{\"bgcolor\":\"white\",\"lakecolor\":\"white\",\"landcolor\":\"white\",\"showlakes\":true,\"showland\":true,\"subunitcolor\":\"white\"},\"hoverlabel\":{\"align\":\"left\"},\"hovermode\":\"closest\",\"mapbox\":{\"style\":\"light\"},\"paper_bgcolor\":\"white\",\"plot_bgcolor\":\"white\",\"polar\":{\"angularaxis\":{\"gridcolor\":\"rgb(232,232,232)\",\"linecolor\":\"rgb(36,36,36)\",\"showgrid\":false,\"showline\":true,\"ticks\":\"outside\"},\"bgcolor\":\"white\",\"radialaxis\":{\"gridcolor\":\"rgb(232,232,232)\",\"linecolor\":\"rgb(36,36,36)\",\"showgrid\":false,\"showline\":true,\"ticks\":\"outside\"}},\"scene\":{\"xaxis\":{\"backgroundcolor\":\"white\",\"gridcolor\":\"rgb(232,232,232)\",\"gridwidth\":2,\"linecolor\":\"rgb(36,36,36)\",\"showbackground\":true,\"showgrid\":false,\"showline\":true,\"ticks\":\"outside\",\"zeroline\":false,\"zerolinecolor\":\"rgb(36,36,36)\"},\"yaxis\":{\"backgroundcolor\":\"white\",\"gridcolor\":\"rgb(232,232,232)\",\"gridwidth\":2,\"linecolor\":\"rgb(36,36,36)\",\"showbackground\":true,\"showgrid\":false,\"showline\":true,\"ticks\":\"outside\",\"zeroline\":false,\"zerolinecolor\":\"rgb(36,36,36)\"},\"zaxis\":{\"backgroundcolor\":\"white\",\"gridcolor\":\"rgb(232,232,232)\",\"gridwidth\":2,\"linecolor\":\"rgb(36,36,36)\",\"showbackground\":true,\"showgrid\":false,\"showline\":true,\"ticks\":\"outside\",\"zeroline\":false,\"zerolinecolor\":\"rgb(36,36,36)\"}},\"shapedefaults\":{\"fillcolor\":\"black\",\"line\":{\"width\":0},\"opacity\":0.3},\"ternary\":{\"aaxis\":{\"gridcolor\":\"rgb(232,232,232)\",\"linecolor\":\"rgb(36,36,36)\",\"showgrid\":false,\"showline\":true,\"ticks\":\"outside\"},\"baxis\":{\"gridcolor\":\"rgb(232,232,232)\",\"linecolor\":\"rgb(36,36,36)\",\"showgrid\":false,\"showline\":true,\"ticks\":\"outside\"},\"bgcolor\":\"white\",\"caxis\":{\"gridcolor\":\"rgb(232,232,232)\",\"linecolor\":\"rgb(36,36,36)\",\"showgrid\":false,\"showline\":true,\"ticks\":\"outside\"}},\"title\":{\"x\":0.05},\"xaxis\":{\"automargin\":true,\"gridcolor\":\"rgb(232,232,232)\",\"linecolor\":\"rgb(36,36,36)\",\"showgrid\":false,\"showline\":true,\"ticks\":\"outside\",\"title\":{\"standoff\":15},\"zeroline\":false,\"zerolinecolor\":\"rgb(36,36,36)\"},\"yaxis\":{\"automargin\":true,\"gridcolor\":\"rgb(232,232,232)\",\"linecolor\":\"rgb(36,36,36)\",\"showgrid\":false,\"showline\":true,\"ticks\":\"outside\",\"title\":{\"standoff\":15},\"zeroline\":false,\"zerolinecolor\":\"rgb(36,36,36)\"},\"margin\":{\"b\":0,\"l\":20,\"r\":20,\"t\":40}}}},                        {\"responsive\": true}                    ).then(function(){\n                            \nvar gd = document.getElementById('c4cf9e1f-2f07-4061-9243-e6c5de21b7f1');\nvar x = new MutationObserver(function (mutations, observer) {{\n        var display = window.getComputedStyle(gd).display;\n        if (!display || display === 'none') {{\n            console.log([gd, 'removed!']);\n            Plotly.purge(gd);\n            observer.disconnect();\n        }}\n}});\n\n// Listen for the removal of the full notebook cells\nvar notebookContainer = gd.closest('#notebook-container');\nif (notebookContainer) {{\n    x.observe(notebookContainer, {childList: true});\n}}\n\n// Listen for the clearing of the current output cell\nvar outputEl = gd.closest('.output');\nif (outputEl) {{\n    x.observe(outputEl, {childList: true});\n}}\n\n                        })                };                });            </script>        </div>"
     },
     "metadata": {},
     "output_type": "display_data"
    }
   ],
   "source": [
    "if \"y_\" not in locals(): y_ = y\n",
    "epsilon = np.random.normal(loc=0, scale=40, size=len(x))\n",
    "y = y_ + epsilon\n",
    "\n",
    "fig.add_trace(go.Scatter(x=x, y=y, name=\"Observed Points\", mode=\"markers\", line=dict(width=1)))\n",
    "fig.update_layout(title=r\"$\\text{(2) Simulated Data - With Noise}$\")\n",
    "fig.show()\n"
   ]
  },
  {
   "cell_type": "markdown",
   "metadata": {
    "pycharm": {
     "name": "#%% md\n"
    }
   },
   "source": [
    "Try and execute the block above several times. See how each time the \"Observed Points\" look different. These datasets,\n",
    "though all come from the same model, look very different. Try to think:\n",
    "\n",
    "* What would happen if we attempt fitting a model to these observations (i.e. the ones with the noise)? \n",
    "* How would it influence our estimation of the coefficients $w_0, w_1$? \n",
    "* Where will the regression line be?\n"
   ]
  },
  {
   "cell_type": "code",
   "execution_count": 38,
   "metadata": {
    "pycharm": {
     "name": "#%%\n"
    }
   },
   "outputs": [
    {
     "data": {
      "text/plain": "        Model  Intercept     Slope\n0  Noise-less   1.000000  2.000000\n1       Noisy -32.281685  0.180022",
      "text/html": "<div>\n<style scoped>\n    .dataframe tbody tr th:only-of-type {\n        vertical-align: middle;\n    }\n\n    .dataframe tbody tr th {\n        vertical-align: top;\n    }\n\n    .dataframe thead th {\n        text-align: right;\n    }\n</style>\n<table border=\"1\" class=\"dataframe\">\n  <thead>\n    <tr style=\"text-align: right;\">\n      <th></th>\n      <th>Model</th>\n      <th>Intercept</th>\n      <th>Slope</th>\n    </tr>\n  </thead>\n  <tbody>\n    <tr>\n      <th>0</th>\n      <td>Noise-less</td>\n      <td>1.000000</td>\n      <td>2.000000</td>\n    </tr>\n    <tr>\n      <th>1</th>\n      <td>Noisy</td>\n      <td>-32.281685</td>\n      <td>0.180022</td>\n    </tr>\n  </tbody>\n</table>\n</div>"
     },
     "execution_count": 38,
     "metadata": {},
     "output_type": "execute_result"
    }
   ],
   "source": [
    "from pandas import DataFrame \n",
    "model = LinearRegression().fit(x.reshape((-1,1)), y)\n",
    "\n",
    "DataFrame({\"Model\":[\"Noise-less\",\"Noisy\"], \n",
    "           \"Intercept\": [noiseless_model.intercept_, model.intercept_],\n",
    "           \"Slope\": [noiseless_model.coef_[0], model.coef_[0]]})\n"
   ]
  },
  {
   "cell_type": "code",
   "execution_count": 39,
   "metadata": {
    "pycharm": {
     "name": "#%%\n"
    }
   },
   "outputs": [
    {
     "data": {
      "application/vnd.plotly.v1+json": {
       "data": [
        {
         "line": {
          "color": "black",
          "dash": "dash",
          "width": 1
         },
         "marker": {
          "color": "black",
          "opacity": 0.7
         },
         "name": "Real Model",
         "showlegend": true,
         "x": [
          0.0,
          11.11111111111111,
          22.22222222222222,
          33.33333333333333,
          44.44444444444444,
          55.55555555555556,
          66.66666666666666,
          77.77777777777777,
          88.88888888888889,
          100.0
         ],
         "y": [
          1.0,
          23.22222222222222,
          45.44444444444444,
          67.66666666666666,
          89.88888888888889,
          112.11111111111111,
          134.33333333333331,
          156.55555555555554,
          178.77777777777777,
          201.0
         ],
         "type": "scatter"
        },
        {
         "line": {
          "width": 1
         },
         "mode": "markers",
         "name": "Observed Points",
         "x": [
          0.0,
          11.11111111111111,
          22.22222222222222,
          33.33333333333333,
          44.44444444444444,
          55.55555555555556,
          66.66666666666666,
          77.77777777777777,
          88.88888888888889,
          100.0
         ],
         "y": [
          -15.441830650505388,
          7.807503396134663,
          -98.2686580601409,
          -2.010034370269832,
          -44.20377346201805,
          -41.39563805414265,
          -23.45965414211258,
          7.586999977565874,
          5.617752312310891,
          -29.038292183549746
         ],
         "type": "scatter"
        },
        {
         "marker": {
          "color": "blue"
         },
         "mode": "markers",
         "name": "Predicted Responses",
         "x": [
          0.0,
          11.11111111111111,
          22.22222222222222,
          33.33333333333333,
          44.44444444444444,
          55.55555555555556,
          66.66666666666666,
          77.77777777777777,
          88.88888888888889,
          100.0
         ],
         "y": [
          -32.28168492994683,
          -30.28143550633037,
          -28.281186082713912,
          -26.280936659097456,
          -24.280687235480997,
          -22.28043781186454,
          -20.280188388248085,
          -18.279938964631626,
          -16.27968954101517,
          -14.27944011739871
         ],
         "type": "scatter"
        },
        {
         "line": {
          "color": "blue",
          "width": 1
         },
         "mode": "lines",
         "name": "Fitted Model",
         "x": [
          0.0,
          11.11111111111111,
          22.22222222222222,
          33.33333333333333,
          44.44444444444444,
          55.55555555555556,
          66.66666666666666,
          77.77777777777777,
          88.88888888888889,
          100.0
         ],
         "y": [
          -32.28168492994683,
          -30.28143550633037,
          -28.281186082713912,
          -26.280936659097456,
          -24.280687235480997,
          -22.28043781186454,
          -20.280188388248085,
          -18.279938964631626,
          -16.27968954101517,
          -14.27944011739871
         ],
         "type": "scatter"
        }
       ],
       "layout": {
        "height": 400,
        "title": {
         "text": "$\\text{(3) Fitted Model Over Noisy Data}$"
        },
        "xaxis": {
         "title": {
          "text": "x - Explanatory Variable"
         }
        },
        "yaxis": {
         "title": {
          "text": "y - Response"
         }
        },
        "template": {
         "data": {
          "barpolar": [
           {
            "marker": {
             "line": {
              "color": "white",
              "width": 0.5
             },
             "pattern": {
              "fillmode": "overlay",
              "size": 10,
              "solidity": 0.2
             }
            },
            "type": "barpolar"
           }
          ],
          "bar": [
           {
            "error_x": {
             "color": "rgb(36,36,36)"
            },
            "error_y": {
             "color": "rgb(36,36,36)"
            },
            "marker": {
             "line": {
              "color": "white",
              "width": 0.5
             },
             "pattern": {
              "fillmode": "overlay",
              "size": 10,
              "solidity": 0.2
             }
            },
            "type": "bar"
           }
          ],
          "carpet": [
           {
            "aaxis": {
             "endlinecolor": "rgb(36,36,36)",
             "gridcolor": "white",
             "linecolor": "white",
             "minorgridcolor": "white",
             "startlinecolor": "rgb(36,36,36)"
            },
            "baxis": {
             "endlinecolor": "rgb(36,36,36)",
             "gridcolor": "white",
             "linecolor": "white",
             "minorgridcolor": "white",
             "startlinecolor": "rgb(36,36,36)"
            },
            "type": "carpet"
           }
          ],
          "choropleth": [
           {
            "colorbar": {
             "outlinewidth": 1,
             "tickcolor": "rgb(36,36,36)",
             "ticks": "outside"
            },
            "type": "choropleth"
           }
          ],
          "contourcarpet": [
           {
            "colorbar": {
             "outlinewidth": 1,
             "tickcolor": "rgb(36,36,36)",
             "ticks": "outside"
            },
            "type": "contourcarpet"
           }
          ],
          "contour": [
           {
            "colorbar": {
             "outlinewidth": 1,
             "tickcolor": "rgb(36,36,36)",
             "ticks": "outside"
            },
            "colorscale": [
             [
              0.0,
              "#440154"
             ],
             [
              0.1111111111111111,
              "#482878"
             ],
             [
              0.2222222222222222,
              "#3e4989"
             ],
             [
              0.3333333333333333,
              "#31688e"
             ],
             [
              0.4444444444444444,
              "#26828e"
             ],
             [
              0.5555555555555556,
              "#1f9e89"
             ],
             [
              0.6666666666666666,
              "#35b779"
             ],
             [
              0.7777777777777778,
              "#6ece58"
             ],
             [
              0.8888888888888888,
              "#b5de2b"
             ],
             [
              1.0,
              "#fde725"
             ]
            ],
            "type": "contour"
           }
          ],
          "heatmapgl": [
           {
            "colorbar": {
             "outlinewidth": 1,
             "tickcolor": "rgb(36,36,36)",
             "ticks": "outside"
            },
            "colorscale": [
             [
              0.0,
              "#440154"
             ],
             [
              0.1111111111111111,
              "#482878"
             ],
             [
              0.2222222222222222,
              "#3e4989"
             ],
             [
              0.3333333333333333,
              "#31688e"
             ],
             [
              0.4444444444444444,
              "#26828e"
             ],
             [
              0.5555555555555556,
              "#1f9e89"
             ],
             [
              0.6666666666666666,
              "#35b779"
             ],
             [
              0.7777777777777778,
              "#6ece58"
             ],
             [
              0.8888888888888888,
              "#b5de2b"
             ],
             [
              1.0,
              "#fde725"
             ]
            ],
            "type": "heatmapgl"
           }
          ],
          "heatmap": [
           {
            "colorbar": {
             "outlinewidth": 1,
             "tickcolor": "rgb(36,36,36)",
             "ticks": "outside"
            },
            "colorscale": [
             [
              0.0,
              "#440154"
             ],
             [
              0.1111111111111111,
              "#482878"
             ],
             [
              0.2222222222222222,
              "#3e4989"
             ],
             [
              0.3333333333333333,
              "#31688e"
             ],
             [
              0.4444444444444444,
              "#26828e"
             ],
             [
              0.5555555555555556,
              "#1f9e89"
             ],
             [
              0.6666666666666666,
              "#35b779"
             ],
             [
              0.7777777777777778,
              "#6ece58"
             ],
             [
              0.8888888888888888,
              "#b5de2b"
             ],
             [
              1.0,
              "#fde725"
             ]
            ],
            "type": "heatmap"
           }
          ],
          "histogram2dcontour": [
           {
            "colorbar": {
             "outlinewidth": 1,
             "tickcolor": "rgb(36,36,36)",
             "ticks": "outside"
            },
            "colorscale": [
             [
              0.0,
              "#440154"
             ],
             [
              0.1111111111111111,
              "#482878"
             ],
             [
              0.2222222222222222,
              "#3e4989"
             ],
             [
              0.3333333333333333,
              "#31688e"
             ],
             [
              0.4444444444444444,
              "#26828e"
             ],
             [
              0.5555555555555556,
              "#1f9e89"
             ],
             [
              0.6666666666666666,
              "#35b779"
             ],
             [
              0.7777777777777778,
              "#6ece58"
             ],
             [
              0.8888888888888888,
              "#b5de2b"
             ],
             [
              1.0,
              "#fde725"
             ]
            ],
            "type": "histogram2dcontour"
           }
          ],
          "histogram2d": [
           {
            "colorbar": {
             "outlinewidth": 1,
             "tickcolor": "rgb(36,36,36)",
             "ticks": "outside"
            },
            "colorscale": [
             [
              0.0,
              "#440154"
             ],
             [
              0.1111111111111111,
              "#482878"
             ],
             [
              0.2222222222222222,
              "#3e4989"
             ],
             [
              0.3333333333333333,
              "#31688e"
             ],
             [
              0.4444444444444444,
              "#26828e"
             ],
             [
              0.5555555555555556,
              "#1f9e89"
             ],
             [
              0.6666666666666666,
              "#35b779"
             ],
             [
              0.7777777777777778,
              "#6ece58"
             ],
             [
              0.8888888888888888,
              "#b5de2b"
             ],
             [
              1.0,
              "#fde725"
             ]
            ],
            "type": "histogram2d"
           }
          ],
          "histogram": [
           {
            "marker": {
             "line": {
              "color": "white",
              "width": 0.6
             }
            },
            "type": "histogram"
           }
          ],
          "mesh3d": [
           {
            "colorbar": {
             "outlinewidth": 1,
             "tickcolor": "rgb(36,36,36)",
             "ticks": "outside"
            },
            "type": "mesh3d"
           }
          ],
          "parcoords": [
           {
            "line": {
             "colorbar": {
              "outlinewidth": 1,
              "tickcolor": "rgb(36,36,36)",
              "ticks": "outside"
             }
            },
            "type": "parcoords"
           }
          ],
          "pie": [
           {
            "automargin": true,
            "type": "pie"
           }
          ],
          "scatter3d": [
           {
            "line": {
             "colorbar": {
              "outlinewidth": 1,
              "tickcolor": "rgb(36,36,36)",
              "ticks": "outside"
             }
            },
            "marker": {
             "colorbar": {
              "outlinewidth": 1,
              "tickcolor": "rgb(36,36,36)",
              "ticks": "outside"
             }
            },
            "type": "scatter3d"
           }
          ],
          "scattercarpet": [
           {
            "marker": {
             "colorbar": {
              "outlinewidth": 1,
              "tickcolor": "rgb(36,36,36)",
              "ticks": "outside"
             }
            },
            "type": "scattercarpet"
           }
          ],
          "scattergeo": [
           {
            "marker": {
             "colorbar": {
              "outlinewidth": 1,
              "tickcolor": "rgb(36,36,36)",
              "ticks": "outside"
             }
            },
            "type": "scattergeo"
           }
          ],
          "scattergl": [
           {
            "marker": {
             "colorbar": {
              "outlinewidth": 1,
              "tickcolor": "rgb(36,36,36)",
              "ticks": "outside"
             }
            },
            "type": "scattergl"
           }
          ],
          "scattermapbox": [
           {
            "marker": {
             "colorbar": {
              "outlinewidth": 1,
              "tickcolor": "rgb(36,36,36)",
              "ticks": "outside"
             }
            },
            "type": "scattermapbox"
           }
          ],
          "scatterpolargl": [
           {
            "marker": {
             "colorbar": {
              "outlinewidth": 1,
              "tickcolor": "rgb(36,36,36)",
              "ticks": "outside"
             }
            },
            "type": "scatterpolargl"
           }
          ],
          "scatterpolar": [
           {
            "marker": {
             "colorbar": {
              "outlinewidth": 1,
              "tickcolor": "rgb(36,36,36)",
              "ticks": "outside"
             }
            },
            "type": "scatterpolar"
           }
          ],
          "scatter": [
           {
            "marker": {
             "colorbar": {
              "outlinewidth": 1,
              "tickcolor": "rgb(36,36,36)",
              "ticks": "outside"
             }
            },
            "type": "scatter"
           }
          ],
          "scatterternary": [
           {
            "marker": {
             "colorbar": {
              "outlinewidth": 1,
              "tickcolor": "rgb(36,36,36)",
              "ticks": "outside"
             }
            },
            "type": "scatterternary"
           }
          ],
          "surface": [
           {
            "colorbar": {
             "outlinewidth": 1,
             "tickcolor": "rgb(36,36,36)",
             "ticks": "outside"
            },
            "colorscale": [
             [
              0.0,
              "#440154"
             ],
             [
              0.1111111111111111,
              "#482878"
             ],
             [
              0.2222222222222222,
              "#3e4989"
             ],
             [
              0.3333333333333333,
              "#31688e"
             ],
             [
              0.4444444444444444,
              "#26828e"
             ],
             [
              0.5555555555555556,
              "#1f9e89"
             ],
             [
              0.6666666666666666,
              "#35b779"
             ],
             [
              0.7777777777777778,
              "#6ece58"
             ],
             [
              0.8888888888888888,
              "#b5de2b"
             ],
             [
              1.0,
              "#fde725"
             ]
            ],
            "type": "surface"
           }
          ],
          "table": [
           {
            "cells": {
             "fill": {
              "color": "rgb(237,237,237)"
             },
             "line": {
              "color": "white"
             }
            },
            "header": {
             "fill": {
              "color": "rgb(217,217,217)"
             },
             "line": {
              "color": "white"
             }
            },
            "type": "table"
           }
          ]
         },
         "layout": {
          "annotationdefaults": {
           "arrowhead": 0,
           "arrowwidth": 1
          },
          "autotypenumbers": "strict",
          "coloraxis": {
           "colorbar": {
            "outlinewidth": 1,
            "tickcolor": "rgb(36,36,36)",
            "ticks": "outside"
           }
          },
          "colorscale": {
           "diverging": [
            [
             0.0,
             "rgb(103,0,31)"
            ],
            [
             0.1,
             "rgb(178,24,43)"
            ],
            [
             0.2,
             "rgb(214,96,77)"
            ],
            [
             0.3,
             "rgb(244,165,130)"
            ],
            [
             0.4,
             "rgb(253,219,199)"
            ],
            [
             0.5,
             "rgb(247,247,247)"
            ],
            [
             0.6,
             "rgb(209,229,240)"
            ],
            [
             0.7,
             "rgb(146,197,222)"
            ],
            [
             0.8,
             "rgb(67,147,195)"
            ],
            [
             0.9,
             "rgb(33,102,172)"
            ],
            [
             1.0,
             "rgb(5,48,97)"
            ]
           ],
           "sequential": [
            [
             0.0,
             "#440154"
            ],
            [
             0.1111111111111111,
             "#482878"
            ],
            [
             0.2222222222222222,
             "#3e4989"
            ],
            [
             0.3333333333333333,
             "#31688e"
            ],
            [
             0.4444444444444444,
             "#26828e"
            ],
            [
             0.5555555555555556,
             "#1f9e89"
            ],
            [
             0.6666666666666666,
             "#35b779"
            ],
            [
             0.7777777777777778,
             "#6ece58"
            ],
            [
             0.8888888888888888,
             "#b5de2b"
            ],
            [
             1.0,
             "#fde725"
            ]
           ],
           "sequentialminus": [
            [
             0.0,
             "#440154"
            ],
            [
             0.1111111111111111,
             "#482878"
            ],
            [
             0.2222222222222222,
             "#3e4989"
            ],
            [
             0.3333333333333333,
             "#31688e"
            ],
            [
             0.4444444444444444,
             "#26828e"
            ],
            [
             0.5555555555555556,
             "#1f9e89"
            ],
            [
             0.6666666666666666,
             "#35b779"
            ],
            [
             0.7777777777777778,
             "#6ece58"
            ],
            [
             0.8888888888888888,
             "#b5de2b"
            ],
            [
             1.0,
             "#fde725"
            ]
           ]
          },
          "colorway": [
           "#1F77B4",
           "#FF7F0E",
           "#2CA02C",
           "#D62728",
           "#9467BD",
           "#8C564B",
           "#E377C2",
           "#7F7F7F",
           "#BCBD22",
           "#17BECF"
          ],
          "font": {
           "color": "rgb(36,36,36)"
          },
          "geo": {
           "bgcolor": "white",
           "lakecolor": "white",
           "landcolor": "white",
           "showlakes": true,
           "showland": true,
           "subunitcolor": "white"
          },
          "hoverlabel": {
           "align": "left"
          },
          "hovermode": "closest",
          "mapbox": {
           "style": "light"
          },
          "paper_bgcolor": "white",
          "plot_bgcolor": "white",
          "polar": {
           "angularaxis": {
            "gridcolor": "rgb(232,232,232)",
            "linecolor": "rgb(36,36,36)",
            "showgrid": false,
            "showline": true,
            "ticks": "outside"
           },
           "bgcolor": "white",
           "radialaxis": {
            "gridcolor": "rgb(232,232,232)",
            "linecolor": "rgb(36,36,36)",
            "showgrid": false,
            "showline": true,
            "ticks": "outside"
           }
          },
          "scene": {
           "xaxis": {
            "backgroundcolor": "white",
            "gridcolor": "rgb(232,232,232)",
            "gridwidth": 2,
            "linecolor": "rgb(36,36,36)",
            "showbackground": true,
            "showgrid": false,
            "showline": true,
            "ticks": "outside",
            "zeroline": false,
            "zerolinecolor": "rgb(36,36,36)"
           },
           "yaxis": {
            "backgroundcolor": "white",
            "gridcolor": "rgb(232,232,232)",
            "gridwidth": 2,
            "linecolor": "rgb(36,36,36)",
            "showbackground": true,
            "showgrid": false,
            "showline": true,
            "ticks": "outside",
            "zeroline": false,
            "zerolinecolor": "rgb(36,36,36)"
           },
           "zaxis": {
            "backgroundcolor": "white",
            "gridcolor": "rgb(232,232,232)",
            "gridwidth": 2,
            "linecolor": "rgb(36,36,36)",
            "showbackground": true,
            "showgrid": false,
            "showline": true,
            "ticks": "outside",
            "zeroline": false,
            "zerolinecolor": "rgb(36,36,36)"
           }
          },
          "shapedefaults": {
           "fillcolor": "black",
           "line": {
            "width": 0
           },
           "opacity": 0.3
          },
          "ternary": {
           "aaxis": {
            "gridcolor": "rgb(232,232,232)",
            "linecolor": "rgb(36,36,36)",
            "showgrid": false,
            "showline": true,
            "ticks": "outside"
           },
           "baxis": {
            "gridcolor": "rgb(232,232,232)",
            "linecolor": "rgb(36,36,36)",
            "showgrid": false,
            "showline": true,
            "ticks": "outside"
           },
           "bgcolor": "white",
           "caxis": {
            "gridcolor": "rgb(232,232,232)",
            "linecolor": "rgb(36,36,36)",
            "showgrid": false,
            "showline": true,
            "ticks": "outside"
           }
          },
          "title": {
           "x": 0.05
          },
          "xaxis": {
           "automargin": true,
           "gridcolor": "rgb(232,232,232)",
           "linecolor": "rgb(36,36,36)",
           "showgrid": false,
           "showline": true,
           "ticks": "outside",
           "title": {
            "standoff": 15
           },
           "zeroline": false,
           "zerolinecolor": "rgb(36,36,36)"
          },
          "yaxis": {
           "automargin": true,
           "gridcolor": "rgb(232,232,232)",
           "linecolor": "rgb(36,36,36)",
           "showgrid": false,
           "showline": true,
           "ticks": "outside",
           "title": {
            "standoff": 15
           },
           "zeroline": false,
           "zerolinecolor": "rgb(36,36,36)"
          },
          "margin": {
           "b": 0,
           "l": 20,
           "r": 20,
           "t": 40
          }
         }
        }
       },
       "config": {
        "plotlyServerURL": "https://plot.ly"
       }
      },
      "text/html": "<div>                            <div id=\"adb79d3e-9338-424f-897b-67d90c22e618\" class=\"plotly-graph-div\" style=\"height:400px; width:100%;\"></div>            <script type=\"text/javascript\">                require([\"plotly\"], function(Plotly) {                    window.PLOTLYENV=window.PLOTLYENV || {};                                    if (document.getElementById(\"adb79d3e-9338-424f-897b-67d90c22e618\")) {                    Plotly.newPlot(                        \"adb79d3e-9338-424f-897b-67d90c22e618\",                        [{\"line\":{\"color\":\"black\",\"dash\":\"dash\",\"width\":1},\"marker\":{\"color\":\"black\",\"opacity\":0.7},\"name\":\"Real Model\",\"showlegend\":true,\"x\":[0.0,11.11111111111111,22.22222222222222,33.33333333333333,44.44444444444444,55.55555555555556,66.66666666666666,77.77777777777777,88.88888888888889,100.0],\"y\":[1.0,23.22222222222222,45.44444444444444,67.66666666666666,89.88888888888889,112.11111111111111,134.33333333333331,156.55555555555554,178.77777777777777,201.0],\"type\":\"scatter\"},{\"line\":{\"width\":1},\"mode\":\"markers\",\"name\":\"Observed Points\",\"x\":[0.0,11.11111111111111,22.22222222222222,33.33333333333333,44.44444444444444,55.55555555555556,66.66666666666666,77.77777777777777,88.88888888888889,100.0],\"y\":[-15.441830650505388,7.807503396134663,-98.2686580601409,-2.010034370269832,-44.20377346201805,-41.39563805414265,-23.45965414211258,7.586999977565874,5.617752312310891,-29.038292183549746],\"type\":\"scatter\"},{\"marker\":{\"color\":\"blue\"},\"mode\":\"markers\",\"name\":\"Predicted Responses\",\"x\":[0.0,11.11111111111111,22.22222222222222,33.33333333333333,44.44444444444444,55.55555555555556,66.66666666666666,77.77777777777777,88.88888888888889,100.0],\"y\":[-32.28168492994683,-30.28143550633037,-28.281186082713912,-26.280936659097456,-24.280687235480997,-22.28043781186454,-20.280188388248085,-18.279938964631626,-16.27968954101517,-14.27944011739871],\"type\":\"scatter\"},{\"line\":{\"color\":\"blue\",\"width\":1},\"mode\":\"lines\",\"name\":\"Fitted Model\",\"x\":[0.0,11.11111111111111,22.22222222222222,33.33333333333333,44.44444444444444,55.55555555555556,66.66666666666666,77.77777777777777,88.88888888888889,100.0],\"y\":[-32.28168492994683,-30.28143550633037,-28.281186082713912,-26.280936659097456,-24.280687235480997,-22.28043781186454,-20.280188388248085,-18.279938964631626,-16.27968954101517,-14.27944011739871],\"type\":\"scatter\"}],                        {\"height\":400,\"title\":{\"text\":\"$\\\\text{(3) Fitted Model Over Noisy Data}$\"},\"xaxis\":{\"title\":{\"text\":\"x - Explanatory Variable\"}},\"yaxis\":{\"title\":{\"text\":\"y - Response\"}},\"template\":{\"data\":{\"barpolar\":[{\"marker\":{\"line\":{\"color\":\"white\",\"width\":0.5},\"pattern\":{\"fillmode\":\"overlay\",\"size\":10,\"solidity\":0.2}},\"type\":\"barpolar\"}],\"bar\":[{\"error_x\":{\"color\":\"rgb(36,36,36)\"},\"error_y\":{\"color\":\"rgb(36,36,36)\"},\"marker\":{\"line\":{\"color\":\"white\",\"width\":0.5},\"pattern\":{\"fillmode\":\"overlay\",\"size\":10,\"solidity\":0.2}},\"type\":\"bar\"}],\"carpet\":[{\"aaxis\":{\"endlinecolor\":\"rgb(36,36,36)\",\"gridcolor\":\"white\",\"linecolor\":\"white\",\"minorgridcolor\":\"white\",\"startlinecolor\":\"rgb(36,36,36)\"},\"baxis\":{\"endlinecolor\":\"rgb(36,36,36)\",\"gridcolor\":\"white\",\"linecolor\":\"white\",\"minorgridcolor\":\"white\",\"startlinecolor\":\"rgb(36,36,36)\"},\"type\":\"carpet\"}],\"choropleth\":[{\"colorbar\":{\"outlinewidth\":1,\"tickcolor\":\"rgb(36,36,36)\",\"ticks\":\"outside\"},\"type\":\"choropleth\"}],\"contourcarpet\":[{\"colorbar\":{\"outlinewidth\":1,\"tickcolor\":\"rgb(36,36,36)\",\"ticks\":\"outside\"},\"type\":\"contourcarpet\"}],\"contour\":[{\"colorbar\":{\"outlinewidth\":1,\"tickcolor\":\"rgb(36,36,36)\",\"ticks\":\"outside\"},\"colorscale\":[[0.0,\"#440154\"],[0.1111111111111111,\"#482878\"],[0.2222222222222222,\"#3e4989\"],[0.3333333333333333,\"#31688e\"],[0.4444444444444444,\"#26828e\"],[0.5555555555555556,\"#1f9e89\"],[0.6666666666666666,\"#35b779\"],[0.7777777777777778,\"#6ece58\"],[0.8888888888888888,\"#b5de2b\"],[1.0,\"#fde725\"]],\"type\":\"contour\"}],\"heatmapgl\":[{\"colorbar\":{\"outlinewidth\":1,\"tickcolor\":\"rgb(36,36,36)\",\"ticks\":\"outside\"},\"colorscale\":[[0.0,\"#440154\"],[0.1111111111111111,\"#482878\"],[0.2222222222222222,\"#3e4989\"],[0.3333333333333333,\"#31688e\"],[0.4444444444444444,\"#26828e\"],[0.5555555555555556,\"#1f9e89\"],[0.6666666666666666,\"#35b779\"],[0.7777777777777778,\"#6ece58\"],[0.8888888888888888,\"#b5de2b\"],[1.0,\"#fde725\"]],\"type\":\"heatmapgl\"}],\"heatmap\":[{\"colorbar\":{\"outlinewidth\":1,\"tickcolor\":\"rgb(36,36,36)\",\"ticks\":\"outside\"},\"colorscale\":[[0.0,\"#440154\"],[0.1111111111111111,\"#482878\"],[0.2222222222222222,\"#3e4989\"],[0.3333333333333333,\"#31688e\"],[0.4444444444444444,\"#26828e\"],[0.5555555555555556,\"#1f9e89\"],[0.6666666666666666,\"#35b779\"],[0.7777777777777778,\"#6ece58\"],[0.8888888888888888,\"#b5de2b\"],[1.0,\"#fde725\"]],\"type\":\"heatmap\"}],\"histogram2dcontour\":[{\"colorbar\":{\"outlinewidth\":1,\"tickcolor\":\"rgb(36,36,36)\",\"ticks\":\"outside\"},\"colorscale\":[[0.0,\"#440154\"],[0.1111111111111111,\"#482878\"],[0.2222222222222222,\"#3e4989\"],[0.3333333333333333,\"#31688e\"],[0.4444444444444444,\"#26828e\"],[0.5555555555555556,\"#1f9e89\"],[0.6666666666666666,\"#35b779\"],[0.7777777777777778,\"#6ece58\"],[0.8888888888888888,\"#b5de2b\"],[1.0,\"#fde725\"]],\"type\":\"histogram2dcontour\"}],\"histogram2d\":[{\"colorbar\":{\"outlinewidth\":1,\"tickcolor\":\"rgb(36,36,36)\",\"ticks\":\"outside\"},\"colorscale\":[[0.0,\"#440154\"],[0.1111111111111111,\"#482878\"],[0.2222222222222222,\"#3e4989\"],[0.3333333333333333,\"#31688e\"],[0.4444444444444444,\"#26828e\"],[0.5555555555555556,\"#1f9e89\"],[0.6666666666666666,\"#35b779\"],[0.7777777777777778,\"#6ece58\"],[0.8888888888888888,\"#b5de2b\"],[1.0,\"#fde725\"]],\"type\":\"histogram2d\"}],\"histogram\":[{\"marker\":{\"line\":{\"color\":\"white\",\"width\":0.6}},\"type\":\"histogram\"}],\"mesh3d\":[{\"colorbar\":{\"outlinewidth\":1,\"tickcolor\":\"rgb(36,36,36)\",\"ticks\":\"outside\"},\"type\":\"mesh3d\"}],\"parcoords\":[{\"line\":{\"colorbar\":{\"outlinewidth\":1,\"tickcolor\":\"rgb(36,36,36)\",\"ticks\":\"outside\"}},\"type\":\"parcoords\"}],\"pie\":[{\"automargin\":true,\"type\":\"pie\"}],\"scatter3d\":[{\"line\":{\"colorbar\":{\"outlinewidth\":1,\"tickcolor\":\"rgb(36,36,36)\",\"ticks\":\"outside\"}},\"marker\":{\"colorbar\":{\"outlinewidth\":1,\"tickcolor\":\"rgb(36,36,36)\",\"ticks\":\"outside\"}},\"type\":\"scatter3d\"}],\"scattercarpet\":[{\"marker\":{\"colorbar\":{\"outlinewidth\":1,\"tickcolor\":\"rgb(36,36,36)\",\"ticks\":\"outside\"}},\"type\":\"scattercarpet\"}],\"scattergeo\":[{\"marker\":{\"colorbar\":{\"outlinewidth\":1,\"tickcolor\":\"rgb(36,36,36)\",\"ticks\":\"outside\"}},\"type\":\"scattergeo\"}],\"scattergl\":[{\"marker\":{\"colorbar\":{\"outlinewidth\":1,\"tickcolor\":\"rgb(36,36,36)\",\"ticks\":\"outside\"}},\"type\":\"scattergl\"}],\"scattermapbox\":[{\"marker\":{\"colorbar\":{\"outlinewidth\":1,\"tickcolor\":\"rgb(36,36,36)\",\"ticks\":\"outside\"}},\"type\":\"scattermapbox\"}],\"scatterpolargl\":[{\"marker\":{\"colorbar\":{\"outlinewidth\":1,\"tickcolor\":\"rgb(36,36,36)\",\"ticks\":\"outside\"}},\"type\":\"scatterpolargl\"}],\"scatterpolar\":[{\"marker\":{\"colorbar\":{\"outlinewidth\":1,\"tickcolor\":\"rgb(36,36,36)\",\"ticks\":\"outside\"}},\"type\":\"scatterpolar\"}],\"scatter\":[{\"marker\":{\"colorbar\":{\"outlinewidth\":1,\"tickcolor\":\"rgb(36,36,36)\",\"ticks\":\"outside\"}},\"type\":\"scatter\"}],\"scatterternary\":[{\"marker\":{\"colorbar\":{\"outlinewidth\":1,\"tickcolor\":\"rgb(36,36,36)\",\"ticks\":\"outside\"}},\"type\":\"scatterternary\"}],\"surface\":[{\"colorbar\":{\"outlinewidth\":1,\"tickcolor\":\"rgb(36,36,36)\",\"ticks\":\"outside\"},\"colorscale\":[[0.0,\"#440154\"],[0.1111111111111111,\"#482878\"],[0.2222222222222222,\"#3e4989\"],[0.3333333333333333,\"#31688e\"],[0.4444444444444444,\"#26828e\"],[0.5555555555555556,\"#1f9e89\"],[0.6666666666666666,\"#35b779\"],[0.7777777777777778,\"#6ece58\"],[0.8888888888888888,\"#b5de2b\"],[1.0,\"#fde725\"]],\"type\":\"surface\"}],\"table\":[{\"cells\":{\"fill\":{\"color\":\"rgb(237,237,237)\"},\"line\":{\"color\":\"white\"}},\"header\":{\"fill\":{\"color\":\"rgb(217,217,217)\"},\"line\":{\"color\":\"white\"}},\"type\":\"table\"}]},\"layout\":{\"annotationdefaults\":{\"arrowhead\":0,\"arrowwidth\":1},\"autotypenumbers\":\"strict\",\"coloraxis\":{\"colorbar\":{\"outlinewidth\":1,\"tickcolor\":\"rgb(36,36,36)\",\"ticks\":\"outside\"}},\"colorscale\":{\"diverging\":[[0.0,\"rgb(103,0,31)\"],[0.1,\"rgb(178,24,43)\"],[0.2,\"rgb(214,96,77)\"],[0.3,\"rgb(244,165,130)\"],[0.4,\"rgb(253,219,199)\"],[0.5,\"rgb(247,247,247)\"],[0.6,\"rgb(209,229,240)\"],[0.7,\"rgb(146,197,222)\"],[0.8,\"rgb(67,147,195)\"],[0.9,\"rgb(33,102,172)\"],[1.0,\"rgb(5,48,97)\"]],\"sequential\":[[0.0,\"#440154\"],[0.1111111111111111,\"#482878\"],[0.2222222222222222,\"#3e4989\"],[0.3333333333333333,\"#31688e\"],[0.4444444444444444,\"#26828e\"],[0.5555555555555556,\"#1f9e89\"],[0.6666666666666666,\"#35b779\"],[0.7777777777777778,\"#6ece58\"],[0.8888888888888888,\"#b5de2b\"],[1.0,\"#fde725\"]],\"sequentialminus\":[[0.0,\"#440154\"],[0.1111111111111111,\"#482878\"],[0.2222222222222222,\"#3e4989\"],[0.3333333333333333,\"#31688e\"],[0.4444444444444444,\"#26828e\"],[0.5555555555555556,\"#1f9e89\"],[0.6666666666666666,\"#35b779\"],[0.7777777777777778,\"#6ece58\"],[0.8888888888888888,\"#b5de2b\"],[1.0,\"#fde725\"]]},\"colorway\":[\"#1F77B4\",\"#FF7F0E\",\"#2CA02C\",\"#D62728\",\"#9467BD\",\"#8C564B\",\"#E377C2\",\"#7F7F7F\",\"#BCBD22\",\"#17BECF\"],\"font\":{\"color\":\"rgb(36,36,36)\"},\"geo\":{\"bgcolor\":\"white\",\"lakecolor\":\"white\",\"landcolor\":\"white\",\"showlakes\":true,\"showland\":true,\"subunitcolor\":\"white\"},\"hoverlabel\":{\"align\":\"left\"},\"hovermode\":\"closest\",\"mapbox\":{\"style\":\"light\"},\"paper_bgcolor\":\"white\",\"plot_bgcolor\":\"white\",\"polar\":{\"angularaxis\":{\"gridcolor\":\"rgb(232,232,232)\",\"linecolor\":\"rgb(36,36,36)\",\"showgrid\":false,\"showline\":true,\"ticks\":\"outside\"},\"bgcolor\":\"white\",\"radialaxis\":{\"gridcolor\":\"rgb(232,232,232)\",\"linecolor\":\"rgb(36,36,36)\",\"showgrid\":false,\"showline\":true,\"ticks\":\"outside\"}},\"scene\":{\"xaxis\":{\"backgroundcolor\":\"white\",\"gridcolor\":\"rgb(232,232,232)\",\"gridwidth\":2,\"linecolor\":\"rgb(36,36,36)\",\"showbackground\":true,\"showgrid\":false,\"showline\":true,\"ticks\":\"outside\",\"zeroline\":false,\"zerolinecolor\":\"rgb(36,36,36)\"},\"yaxis\":{\"backgroundcolor\":\"white\",\"gridcolor\":\"rgb(232,232,232)\",\"gridwidth\":2,\"linecolor\":\"rgb(36,36,36)\",\"showbackground\":true,\"showgrid\":false,\"showline\":true,\"ticks\":\"outside\",\"zeroline\":false,\"zerolinecolor\":\"rgb(36,36,36)\"},\"zaxis\":{\"backgroundcolor\":\"white\",\"gridcolor\":\"rgb(232,232,232)\",\"gridwidth\":2,\"linecolor\":\"rgb(36,36,36)\",\"showbackground\":true,\"showgrid\":false,\"showline\":true,\"ticks\":\"outside\",\"zeroline\":false,\"zerolinecolor\":\"rgb(36,36,36)\"}},\"shapedefaults\":{\"fillcolor\":\"black\",\"line\":{\"width\":0},\"opacity\":0.3},\"ternary\":{\"aaxis\":{\"gridcolor\":\"rgb(232,232,232)\",\"linecolor\":\"rgb(36,36,36)\",\"showgrid\":false,\"showline\":true,\"ticks\":\"outside\"},\"baxis\":{\"gridcolor\":\"rgb(232,232,232)\",\"linecolor\":\"rgb(36,36,36)\",\"showgrid\":false,\"showline\":true,\"ticks\":\"outside\"},\"bgcolor\":\"white\",\"caxis\":{\"gridcolor\":\"rgb(232,232,232)\",\"linecolor\":\"rgb(36,36,36)\",\"showgrid\":false,\"showline\":true,\"ticks\":\"outside\"}},\"title\":{\"x\":0.05},\"xaxis\":{\"automargin\":true,\"gridcolor\":\"rgb(232,232,232)\",\"linecolor\":\"rgb(36,36,36)\",\"showgrid\":false,\"showline\":true,\"ticks\":\"outside\",\"title\":{\"standoff\":15},\"zeroline\":false,\"zerolinecolor\":\"rgb(36,36,36)\"},\"yaxis\":{\"automargin\":true,\"gridcolor\":\"rgb(232,232,232)\",\"linecolor\":\"rgb(36,36,36)\",\"showgrid\":false,\"showline\":true,\"ticks\":\"outside\",\"title\":{\"standoff\":15},\"zeroline\":false,\"zerolinecolor\":\"rgb(36,36,36)\"},\"margin\":{\"b\":0,\"l\":20,\"r\":20,\"t\":40}}}},                        {\"responsive\": true}                    ).then(function(){\n                            \nvar gd = document.getElementById('adb79d3e-9338-424f-897b-67d90c22e618');\nvar x = new MutationObserver(function (mutations, observer) {{\n        var display = window.getComputedStyle(gd).display;\n        if (!display || display === 'none') {{\n            console.log([gd, 'removed!']);\n            Plotly.purge(gd);\n            observer.disconnect();\n        }}\n}});\n\n// Listen for the removal of the full notebook cells\nvar notebookContainer = gd.closest('#notebook-container');\nif (notebookContainer) {{\n    x.observe(notebookContainer, {childList: true});\n}}\n\n// Listen for the clearing of the current output cell\nvar outputEl = gd.closest('.output');\nif (outputEl) {{\n    x.observe(outputEl, {childList: true});\n}}\n\n                        })                };                });            </script>        </div>"
     },
     "metadata": {},
     "output_type": "display_data"
    }
   ],
   "source": [
    "y_hat = model.predict(x.reshape(-1,1))\n",
    "\n",
    "fig.data = [fig.data[0], fig.data[1]]\n",
    "fig.update_layout(title=r\"$\\text{(3) Fitted Model Over Noisy Data}$\")\n",
    "fig.add_traces([go.Scatter(x=x, y=y_hat, mode=\"markers\", name=\"Predicted Responses\", marker=dict(color=\"blue\")),\n",
    "                go.Scatter(x=x, y=y_hat, mode=\"lines\", name=\"Fitted Model\", line=dict(color=\"blue\", width=1))])\n",
    "fig.show()\n"
   ]
  },
  {
   "cell_type": "markdown",
   "metadata": {
    "pycharm": {
     "name": "#%% md\n"
    }
   },
   "source": [
    "Let us better understand what took place. Schematically, we started with some model\n",
    "$$ Y=w_1X+w_0 \\quad s.t. w_1=2,w_0=1 $$\n",
    "\n",
    "and obtained a dataset from this model \n",
    "$$ Y=w_1X + w_0 + \\mathcal{N}\\left(0,\\sigma^2\\right) $$ \n",
    "\n",
    "Then, using the dataset we estimated the model parameters to obtain $\\widehat{w_1},\\widehat{w_0}$. However, we should look\n",
    "at these steps from two different points of view: the \"observer\" and the \"all-knowing\".\n",
    "- The \"observer\" is us whenever we work with data. We somehow obtained samples/observations that we assume to be generated\n",
    "from some \"true\" function/model $f$. As in reality data is noisy, when we assume something about the \"true\" function we \n",
    "also make assumptions about the noise. Then, as we do not know $f$ we try to learn it based on the observations.\n",
    "- The \"all-knowing\", unlike the \"observer\", knows exactly how $f$ looks and for each sample what is the noise.  \n",
    "\n",
    "In the graph above the <span style=\"color:Black\">**Real Model**</span> is only known to the \"all-knowing\". We, as the \n",
    "\"observer\" only witness the <span style=\"color:red\">**Observed Points**</span>. We **assumed** the data came from a linear\n",
    "model with Gaussian Noise and therefore fitted the OLS estimators $\\widehat{w}_1, \\widehat{w}_0$. These estimators give\n",
    "us the <span style=\"color:blue\">**Fitted Model**</span> and a <span style=\"color:blue\">**Predicted Response**</span> to \n",
    "each observation."
   ]
  },
  {
   "cell_type": "markdown",
   "metadata": {
    "pycharm": {
     "name": "#%% md\n"
    }
   },
   "source": [
    "Using these estimators of the model coefficients we can do two things:\n",
    "- **Inference**: We can study the estimated model. What are the statistical properties of our estimators? How confident are\n",
    "we in the estimation? Are the features associated with the helpful/relevant for predicting/explaining the response? Etc.\n",
    "- **Prediction**: We can use this estimated model to predict the responses of new data-points. How accurate are our predictions? How does the training set (and its size) influence this accuracy? \n",
    "\n",
    "In the scope of this course we are mainly interested in using the fitted model for prediction, with only slightly \n",
    "investigating the properties of our fitted model."
   ]
  },
  {
   "cell_type": "markdown",
   "metadata": {
    "pycharm": {
     "name": "#%% md\n"
    }
   },
   "source": [
    "## Multivatiate Linaer Regression\n",
    "Lastly, using a more complicated model, we fit a model and answer some inference and prediction questions. \n",
    "To gain a better understanding, please look at the graph below and answer the question before reading the code.\n"
   ]
  },
  {
   "cell_type": "code",
   "execution_count": 44,
   "metadata": {
    "pycharm": {
     "name": "#%%\n"
    },
    "scrolled": true
   },
   "outputs": [
    {
     "data": {
      "text/plain": "  Coefficient  Estimated Value\n0       $w_0$        -0.558147\n1       $w_1$         5.352162\n2       $w_2$         0.764667",
      "text/html": "<div>\n<style scoped>\n    .dataframe tbody tr th:only-of-type {\n        vertical-align: middle;\n    }\n\n    .dataframe tbody tr th {\n        vertical-align: top;\n    }\n\n    .dataframe thead th {\n        text-align: right;\n    }\n</style>\n<table border=\"1\" class=\"dataframe\">\n  <thead>\n    <tr style=\"text-align: right;\">\n      <th></th>\n      <th>Coefficient</th>\n      <th>Estimated Value</th>\n    </tr>\n  </thead>\n  <tbody>\n    <tr>\n      <th>0</th>\n      <td>$w_0$</td>\n      <td>-0.558147</td>\n    </tr>\n    <tr>\n      <th>1</th>\n      <td>$w_1$</td>\n      <td>5.352162</td>\n    </tr>\n    <tr>\n      <th>2</th>\n      <td>$w_2$</td>\n      <td>0.764667</td>\n    </tr>\n  </tbody>\n</table>\n</div>"
     },
     "execution_count": 44,
     "metadata": {},
     "output_type": "execute_result"
    }
   ],
   "source": [
    "response = lambda x1, x2: 5*x1 + .1*x2 + 3\n",
    "\n",
    "min_x1, min_x2, max_x1, max_x2 = -10, -10, 10, 10\n",
    "xv1, xv2 = np.meshgrid(np.linspace(min_x1, max_x1, 10), np.linspace(min_x2, max_x2, 100))\n",
    "surface = response(xv1, xv2)\n",
    "\n",
    "x = np.random.uniform((min_x1, min_x2), (max_x1, max_x2), (100, 2))\n",
    "y_ = response(x[:,0], x[:,1])\n",
    "y = y_ + np.random.normal(0, 30, len(x))\n",
    "\n",
    "model = LinearRegression().fit(x, y)\n",
    "y_hat = model.predict(x)\n",
    "\n",
    "DataFrame({\"Coefficient\": [rf\"$w_{{0}}$\".format(i) for i in range(len(model.coef_)+1)],\n",
    "           \"Estimated Value\": np.concatenate([[model.intercept_], model.coef_])})\n"
   ]
  },
  {
   "cell_type": "code",
   "execution_count": 45,
   "metadata": {
    "pycharm": {
     "name": "#%%\n"
    }
   },
   "outputs": [
    {
     "data": {
      "application/vnd.plotly.v1+json": {
       "data": [
        {
         "opacity": 0.5,
         "showscale": false,
         "x": [
          [
           -10.0,
           -7.777777777777778,
           -5.555555555555555,
           -3.333333333333333,
           -1.1111111111111107,
           1.1111111111111107,
           3.333333333333334,
           5.555555555555557,
           7.777777777777779,
           10.0
          ],
          [
           -10.0,
           -7.777777777777778,
           -5.555555555555555,
           -3.333333333333333,
           -1.1111111111111107,
           1.1111111111111107,
           3.333333333333334,
           5.555555555555557,
           7.777777777777779,
           10.0
          ],
          [
           -10.0,
           -7.777777777777778,
           -5.555555555555555,
           -3.333333333333333,
           -1.1111111111111107,
           1.1111111111111107,
           3.333333333333334,
           5.555555555555557,
           7.777777777777779,
           10.0
          ],
          [
           -10.0,
           -7.777777777777778,
           -5.555555555555555,
           -3.333333333333333,
           -1.1111111111111107,
           1.1111111111111107,
           3.333333333333334,
           5.555555555555557,
           7.777777777777779,
           10.0
          ],
          [
           -10.0,
           -7.777777777777778,
           -5.555555555555555,
           -3.333333333333333,
           -1.1111111111111107,
           1.1111111111111107,
           3.333333333333334,
           5.555555555555557,
           7.777777777777779,
           10.0
          ],
          [
           -10.0,
           -7.777777777777778,
           -5.555555555555555,
           -3.333333333333333,
           -1.1111111111111107,
           1.1111111111111107,
           3.333333333333334,
           5.555555555555557,
           7.777777777777779,
           10.0
          ],
          [
           -10.0,
           -7.777777777777778,
           -5.555555555555555,
           -3.333333333333333,
           -1.1111111111111107,
           1.1111111111111107,
           3.333333333333334,
           5.555555555555557,
           7.777777777777779,
           10.0
          ],
          [
           -10.0,
           -7.777777777777778,
           -5.555555555555555,
           -3.333333333333333,
           -1.1111111111111107,
           1.1111111111111107,
           3.333333333333334,
           5.555555555555557,
           7.777777777777779,
           10.0
          ],
          [
           -10.0,
           -7.777777777777778,
           -5.555555555555555,
           -3.333333333333333,
           -1.1111111111111107,
           1.1111111111111107,
           3.333333333333334,
           5.555555555555557,
           7.777777777777779,
           10.0
          ],
          [
           -10.0,
           -7.777777777777778,
           -5.555555555555555,
           -3.333333333333333,
           -1.1111111111111107,
           1.1111111111111107,
           3.333333333333334,
           5.555555555555557,
           7.777777777777779,
           10.0
          ],
          [
           -10.0,
           -7.777777777777778,
           -5.555555555555555,
           -3.333333333333333,
           -1.1111111111111107,
           1.1111111111111107,
           3.333333333333334,
           5.555555555555557,
           7.777777777777779,
           10.0
          ],
          [
           -10.0,
           -7.777777777777778,
           -5.555555555555555,
           -3.333333333333333,
           -1.1111111111111107,
           1.1111111111111107,
           3.333333333333334,
           5.555555555555557,
           7.777777777777779,
           10.0
          ],
          [
           -10.0,
           -7.777777777777778,
           -5.555555555555555,
           -3.333333333333333,
           -1.1111111111111107,
           1.1111111111111107,
           3.333333333333334,
           5.555555555555557,
           7.777777777777779,
           10.0
          ],
          [
           -10.0,
           -7.777777777777778,
           -5.555555555555555,
           -3.333333333333333,
           -1.1111111111111107,
           1.1111111111111107,
           3.333333333333334,
           5.555555555555557,
           7.777777777777779,
           10.0
          ],
          [
           -10.0,
           -7.777777777777778,
           -5.555555555555555,
           -3.333333333333333,
           -1.1111111111111107,
           1.1111111111111107,
           3.333333333333334,
           5.555555555555557,
           7.777777777777779,
           10.0
          ],
          [
           -10.0,
           -7.777777777777778,
           -5.555555555555555,
           -3.333333333333333,
           -1.1111111111111107,
           1.1111111111111107,
           3.333333333333334,
           5.555555555555557,
           7.777777777777779,
           10.0
          ],
          [
           -10.0,
           -7.777777777777778,
           -5.555555555555555,
           -3.333333333333333,
           -1.1111111111111107,
           1.1111111111111107,
           3.333333333333334,
           5.555555555555557,
           7.777777777777779,
           10.0
          ],
          [
           -10.0,
           -7.777777777777778,
           -5.555555555555555,
           -3.333333333333333,
           -1.1111111111111107,
           1.1111111111111107,
           3.333333333333334,
           5.555555555555557,
           7.777777777777779,
           10.0
          ],
          [
           -10.0,
           -7.777777777777778,
           -5.555555555555555,
           -3.333333333333333,
           -1.1111111111111107,
           1.1111111111111107,
           3.333333333333334,
           5.555555555555557,
           7.777777777777779,
           10.0
          ],
          [
           -10.0,
           -7.777777777777778,
           -5.555555555555555,
           -3.333333333333333,
           -1.1111111111111107,
           1.1111111111111107,
           3.333333333333334,
           5.555555555555557,
           7.777777777777779,
           10.0
          ],
          [
           -10.0,
           -7.777777777777778,
           -5.555555555555555,
           -3.333333333333333,
           -1.1111111111111107,
           1.1111111111111107,
           3.333333333333334,
           5.555555555555557,
           7.777777777777779,
           10.0
          ],
          [
           -10.0,
           -7.777777777777778,
           -5.555555555555555,
           -3.333333333333333,
           -1.1111111111111107,
           1.1111111111111107,
           3.333333333333334,
           5.555555555555557,
           7.777777777777779,
           10.0
          ],
          [
           -10.0,
           -7.777777777777778,
           -5.555555555555555,
           -3.333333333333333,
           -1.1111111111111107,
           1.1111111111111107,
           3.333333333333334,
           5.555555555555557,
           7.777777777777779,
           10.0
          ],
          [
           -10.0,
           -7.777777777777778,
           -5.555555555555555,
           -3.333333333333333,
           -1.1111111111111107,
           1.1111111111111107,
           3.333333333333334,
           5.555555555555557,
           7.777777777777779,
           10.0
          ],
          [
           -10.0,
           -7.777777777777778,
           -5.555555555555555,
           -3.333333333333333,
           -1.1111111111111107,
           1.1111111111111107,
           3.333333333333334,
           5.555555555555557,
           7.777777777777779,
           10.0
          ],
          [
           -10.0,
           -7.777777777777778,
           -5.555555555555555,
           -3.333333333333333,
           -1.1111111111111107,
           1.1111111111111107,
           3.333333333333334,
           5.555555555555557,
           7.777777777777779,
           10.0
          ],
          [
           -10.0,
           -7.777777777777778,
           -5.555555555555555,
           -3.333333333333333,
           -1.1111111111111107,
           1.1111111111111107,
           3.333333333333334,
           5.555555555555557,
           7.777777777777779,
           10.0
          ],
          [
           -10.0,
           -7.777777777777778,
           -5.555555555555555,
           -3.333333333333333,
           -1.1111111111111107,
           1.1111111111111107,
           3.333333333333334,
           5.555555555555557,
           7.777777777777779,
           10.0
          ],
          [
           -10.0,
           -7.777777777777778,
           -5.555555555555555,
           -3.333333333333333,
           -1.1111111111111107,
           1.1111111111111107,
           3.333333333333334,
           5.555555555555557,
           7.777777777777779,
           10.0
          ],
          [
           -10.0,
           -7.777777777777778,
           -5.555555555555555,
           -3.333333333333333,
           -1.1111111111111107,
           1.1111111111111107,
           3.333333333333334,
           5.555555555555557,
           7.777777777777779,
           10.0
          ],
          [
           -10.0,
           -7.777777777777778,
           -5.555555555555555,
           -3.333333333333333,
           -1.1111111111111107,
           1.1111111111111107,
           3.333333333333334,
           5.555555555555557,
           7.777777777777779,
           10.0
          ],
          [
           -10.0,
           -7.777777777777778,
           -5.555555555555555,
           -3.333333333333333,
           -1.1111111111111107,
           1.1111111111111107,
           3.333333333333334,
           5.555555555555557,
           7.777777777777779,
           10.0
          ],
          [
           -10.0,
           -7.777777777777778,
           -5.555555555555555,
           -3.333333333333333,
           -1.1111111111111107,
           1.1111111111111107,
           3.333333333333334,
           5.555555555555557,
           7.777777777777779,
           10.0
          ],
          [
           -10.0,
           -7.777777777777778,
           -5.555555555555555,
           -3.333333333333333,
           -1.1111111111111107,
           1.1111111111111107,
           3.333333333333334,
           5.555555555555557,
           7.777777777777779,
           10.0
          ],
          [
           -10.0,
           -7.777777777777778,
           -5.555555555555555,
           -3.333333333333333,
           -1.1111111111111107,
           1.1111111111111107,
           3.333333333333334,
           5.555555555555557,
           7.777777777777779,
           10.0
          ],
          [
           -10.0,
           -7.777777777777778,
           -5.555555555555555,
           -3.333333333333333,
           -1.1111111111111107,
           1.1111111111111107,
           3.333333333333334,
           5.555555555555557,
           7.777777777777779,
           10.0
          ],
          [
           -10.0,
           -7.777777777777778,
           -5.555555555555555,
           -3.333333333333333,
           -1.1111111111111107,
           1.1111111111111107,
           3.333333333333334,
           5.555555555555557,
           7.777777777777779,
           10.0
          ],
          [
           -10.0,
           -7.777777777777778,
           -5.555555555555555,
           -3.333333333333333,
           -1.1111111111111107,
           1.1111111111111107,
           3.333333333333334,
           5.555555555555557,
           7.777777777777779,
           10.0
          ],
          [
           -10.0,
           -7.777777777777778,
           -5.555555555555555,
           -3.333333333333333,
           -1.1111111111111107,
           1.1111111111111107,
           3.333333333333334,
           5.555555555555557,
           7.777777777777779,
           10.0
          ],
          [
           -10.0,
           -7.777777777777778,
           -5.555555555555555,
           -3.333333333333333,
           -1.1111111111111107,
           1.1111111111111107,
           3.333333333333334,
           5.555555555555557,
           7.777777777777779,
           10.0
          ],
          [
           -10.0,
           -7.777777777777778,
           -5.555555555555555,
           -3.333333333333333,
           -1.1111111111111107,
           1.1111111111111107,
           3.333333333333334,
           5.555555555555557,
           7.777777777777779,
           10.0
          ],
          [
           -10.0,
           -7.777777777777778,
           -5.555555555555555,
           -3.333333333333333,
           -1.1111111111111107,
           1.1111111111111107,
           3.333333333333334,
           5.555555555555557,
           7.777777777777779,
           10.0
          ],
          [
           -10.0,
           -7.777777777777778,
           -5.555555555555555,
           -3.333333333333333,
           -1.1111111111111107,
           1.1111111111111107,
           3.333333333333334,
           5.555555555555557,
           7.777777777777779,
           10.0
          ],
          [
           -10.0,
           -7.777777777777778,
           -5.555555555555555,
           -3.333333333333333,
           -1.1111111111111107,
           1.1111111111111107,
           3.333333333333334,
           5.555555555555557,
           7.777777777777779,
           10.0
          ],
          [
           -10.0,
           -7.777777777777778,
           -5.555555555555555,
           -3.333333333333333,
           -1.1111111111111107,
           1.1111111111111107,
           3.333333333333334,
           5.555555555555557,
           7.777777777777779,
           10.0
          ],
          [
           -10.0,
           -7.777777777777778,
           -5.555555555555555,
           -3.333333333333333,
           -1.1111111111111107,
           1.1111111111111107,
           3.333333333333334,
           5.555555555555557,
           7.777777777777779,
           10.0
          ],
          [
           -10.0,
           -7.777777777777778,
           -5.555555555555555,
           -3.333333333333333,
           -1.1111111111111107,
           1.1111111111111107,
           3.333333333333334,
           5.555555555555557,
           7.777777777777779,
           10.0
          ],
          [
           -10.0,
           -7.777777777777778,
           -5.555555555555555,
           -3.333333333333333,
           -1.1111111111111107,
           1.1111111111111107,
           3.333333333333334,
           5.555555555555557,
           7.777777777777779,
           10.0
          ],
          [
           -10.0,
           -7.777777777777778,
           -5.555555555555555,
           -3.333333333333333,
           -1.1111111111111107,
           1.1111111111111107,
           3.333333333333334,
           5.555555555555557,
           7.777777777777779,
           10.0
          ],
          [
           -10.0,
           -7.777777777777778,
           -5.555555555555555,
           -3.333333333333333,
           -1.1111111111111107,
           1.1111111111111107,
           3.333333333333334,
           5.555555555555557,
           7.777777777777779,
           10.0
          ],
          [
           -10.0,
           -7.777777777777778,
           -5.555555555555555,
           -3.333333333333333,
           -1.1111111111111107,
           1.1111111111111107,
           3.333333333333334,
           5.555555555555557,
           7.777777777777779,
           10.0
          ],
          [
           -10.0,
           -7.777777777777778,
           -5.555555555555555,
           -3.333333333333333,
           -1.1111111111111107,
           1.1111111111111107,
           3.333333333333334,
           5.555555555555557,
           7.777777777777779,
           10.0
          ],
          [
           -10.0,
           -7.777777777777778,
           -5.555555555555555,
           -3.333333333333333,
           -1.1111111111111107,
           1.1111111111111107,
           3.333333333333334,
           5.555555555555557,
           7.777777777777779,
           10.0
          ],
          [
           -10.0,
           -7.777777777777778,
           -5.555555555555555,
           -3.333333333333333,
           -1.1111111111111107,
           1.1111111111111107,
           3.333333333333334,
           5.555555555555557,
           7.777777777777779,
           10.0
          ],
          [
           -10.0,
           -7.777777777777778,
           -5.555555555555555,
           -3.333333333333333,
           -1.1111111111111107,
           1.1111111111111107,
           3.333333333333334,
           5.555555555555557,
           7.777777777777779,
           10.0
          ],
          [
           -10.0,
           -7.777777777777778,
           -5.555555555555555,
           -3.333333333333333,
           -1.1111111111111107,
           1.1111111111111107,
           3.333333333333334,
           5.555555555555557,
           7.777777777777779,
           10.0
          ],
          [
           -10.0,
           -7.777777777777778,
           -5.555555555555555,
           -3.333333333333333,
           -1.1111111111111107,
           1.1111111111111107,
           3.333333333333334,
           5.555555555555557,
           7.777777777777779,
           10.0
          ],
          [
           -10.0,
           -7.777777777777778,
           -5.555555555555555,
           -3.333333333333333,
           -1.1111111111111107,
           1.1111111111111107,
           3.333333333333334,
           5.555555555555557,
           7.777777777777779,
           10.0
          ],
          [
           -10.0,
           -7.777777777777778,
           -5.555555555555555,
           -3.333333333333333,
           -1.1111111111111107,
           1.1111111111111107,
           3.333333333333334,
           5.555555555555557,
           7.777777777777779,
           10.0
          ],
          [
           -10.0,
           -7.777777777777778,
           -5.555555555555555,
           -3.333333333333333,
           -1.1111111111111107,
           1.1111111111111107,
           3.333333333333334,
           5.555555555555557,
           7.777777777777779,
           10.0
          ],
          [
           -10.0,
           -7.777777777777778,
           -5.555555555555555,
           -3.333333333333333,
           -1.1111111111111107,
           1.1111111111111107,
           3.333333333333334,
           5.555555555555557,
           7.777777777777779,
           10.0
          ],
          [
           -10.0,
           -7.777777777777778,
           -5.555555555555555,
           -3.333333333333333,
           -1.1111111111111107,
           1.1111111111111107,
           3.333333333333334,
           5.555555555555557,
           7.777777777777779,
           10.0
          ],
          [
           -10.0,
           -7.777777777777778,
           -5.555555555555555,
           -3.333333333333333,
           -1.1111111111111107,
           1.1111111111111107,
           3.333333333333334,
           5.555555555555557,
           7.777777777777779,
           10.0
          ],
          [
           -10.0,
           -7.777777777777778,
           -5.555555555555555,
           -3.333333333333333,
           -1.1111111111111107,
           1.1111111111111107,
           3.333333333333334,
           5.555555555555557,
           7.777777777777779,
           10.0
          ],
          [
           -10.0,
           -7.777777777777778,
           -5.555555555555555,
           -3.333333333333333,
           -1.1111111111111107,
           1.1111111111111107,
           3.333333333333334,
           5.555555555555557,
           7.777777777777779,
           10.0
          ],
          [
           -10.0,
           -7.777777777777778,
           -5.555555555555555,
           -3.333333333333333,
           -1.1111111111111107,
           1.1111111111111107,
           3.333333333333334,
           5.555555555555557,
           7.777777777777779,
           10.0
          ],
          [
           -10.0,
           -7.777777777777778,
           -5.555555555555555,
           -3.333333333333333,
           -1.1111111111111107,
           1.1111111111111107,
           3.333333333333334,
           5.555555555555557,
           7.777777777777779,
           10.0
          ],
          [
           -10.0,
           -7.777777777777778,
           -5.555555555555555,
           -3.333333333333333,
           -1.1111111111111107,
           1.1111111111111107,
           3.333333333333334,
           5.555555555555557,
           7.777777777777779,
           10.0
          ],
          [
           -10.0,
           -7.777777777777778,
           -5.555555555555555,
           -3.333333333333333,
           -1.1111111111111107,
           1.1111111111111107,
           3.333333333333334,
           5.555555555555557,
           7.777777777777779,
           10.0
          ],
          [
           -10.0,
           -7.777777777777778,
           -5.555555555555555,
           -3.333333333333333,
           -1.1111111111111107,
           1.1111111111111107,
           3.333333333333334,
           5.555555555555557,
           7.777777777777779,
           10.0
          ],
          [
           -10.0,
           -7.777777777777778,
           -5.555555555555555,
           -3.333333333333333,
           -1.1111111111111107,
           1.1111111111111107,
           3.333333333333334,
           5.555555555555557,
           7.777777777777779,
           10.0
          ],
          [
           -10.0,
           -7.777777777777778,
           -5.555555555555555,
           -3.333333333333333,
           -1.1111111111111107,
           1.1111111111111107,
           3.333333333333334,
           5.555555555555557,
           7.777777777777779,
           10.0
          ],
          [
           -10.0,
           -7.777777777777778,
           -5.555555555555555,
           -3.333333333333333,
           -1.1111111111111107,
           1.1111111111111107,
           3.333333333333334,
           5.555555555555557,
           7.777777777777779,
           10.0
          ],
          [
           -10.0,
           -7.777777777777778,
           -5.555555555555555,
           -3.333333333333333,
           -1.1111111111111107,
           1.1111111111111107,
           3.333333333333334,
           5.555555555555557,
           7.777777777777779,
           10.0
          ],
          [
           -10.0,
           -7.777777777777778,
           -5.555555555555555,
           -3.333333333333333,
           -1.1111111111111107,
           1.1111111111111107,
           3.333333333333334,
           5.555555555555557,
           7.777777777777779,
           10.0
          ],
          [
           -10.0,
           -7.777777777777778,
           -5.555555555555555,
           -3.333333333333333,
           -1.1111111111111107,
           1.1111111111111107,
           3.333333333333334,
           5.555555555555557,
           7.777777777777779,
           10.0
          ],
          [
           -10.0,
           -7.777777777777778,
           -5.555555555555555,
           -3.333333333333333,
           -1.1111111111111107,
           1.1111111111111107,
           3.333333333333334,
           5.555555555555557,
           7.777777777777779,
           10.0
          ],
          [
           -10.0,
           -7.777777777777778,
           -5.555555555555555,
           -3.333333333333333,
           -1.1111111111111107,
           1.1111111111111107,
           3.333333333333334,
           5.555555555555557,
           7.777777777777779,
           10.0
          ],
          [
           -10.0,
           -7.777777777777778,
           -5.555555555555555,
           -3.333333333333333,
           -1.1111111111111107,
           1.1111111111111107,
           3.333333333333334,
           5.555555555555557,
           7.777777777777779,
           10.0
          ],
          [
           -10.0,
           -7.777777777777778,
           -5.555555555555555,
           -3.333333333333333,
           -1.1111111111111107,
           1.1111111111111107,
           3.333333333333334,
           5.555555555555557,
           7.777777777777779,
           10.0
          ],
          [
           -10.0,
           -7.777777777777778,
           -5.555555555555555,
           -3.333333333333333,
           -1.1111111111111107,
           1.1111111111111107,
           3.333333333333334,
           5.555555555555557,
           7.777777777777779,
           10.0
          ],
          [
           -10.0,
           -7.777777777777778,
           -5.555555555555555,
           -3.333333333333333,
           -1.1111111111111107,
           1.1111111111111107,
           3.333333333333334,
           5.555555555555557,
           7.777777777777779,
           10.0
          ],
          [
           -10.0,
           -7.777777777777778,
           -5.555555555555555,
           -3.333333333333333,
           -1.1111111111111107,
           1.1111111111111107,
           3.333333333333334,
           5.555555555555557,
           7.777777777777779,
           10.0
          ],
          [
           -10.0,
           -7.777777777777778,
           -5.555555555555555,
           -3.333333333333333,
           -1.1111111111111107,
           1.1111111111111107,
           3.333333333333334,
           5.555555555555557,
           7.777777777777779,
           10.0
          ],
          [
           -10.0,
           -7.777777777777778,
           -5.555555555555555,
           -3.333333333333333,
           -1.1111111111111107,
           1.1111111111111107,
           3.333333333333334,
           5.555555555555557,
           7.777777777777779,
           10.0
          ],
          [
           -10.0,
           -7.777777777777778,
           -5.555555555555555,
           -3.333333333333333,
           -1.1111111111111107,
           1.1111111111111107,
           3.333333333333334,
           5.555555555555557,
           7.777777777777779,
           10.0
          ],
          [
           -10.0,
           -7.777777777777778,
           -5.555555555555555,
           -3.333333333333333,
           -1.1111111111111107,
           1.1111111111111107,
           3.333333333333334,
           5.555555555555557,
           7.777777777777779,
           10.0
          ],
          [
           -10.0,
           -7.777777777777778,
           -5.555555555555555,
           -3.333333333333333,
           -1.1111111111111107,
           1.1111111111111107,
           3.333333333333334,
           5.555555555555557,
           7.777777777777779,
           10.0
          ],
          [
           -10.0,
           -7.777777777777778,
           -5.555555555555555,
           -3.333333333333333,
           -1.1111111111111107,
           1.1111111111111107,
           3.333333333333334,
           5.555555555555557,
           7.777777777777779,
           10.0
          ],
          [
           -10.0,
           -7.777777777777778,
           -5.555555555555555,
           -3.333333333333333,
           -1.1111111111111107,
           1.1111111111111107,
           3.333333333333334,
           5.555555555555557,
           7.777777777777779,
           10.0
          ],
          [
           -10.0,
           -7.777777777777778,
           -5.555555555555555,
           -3.333333333333333,
           -1.1111111111111107,
           1.1111111111111107,
           3.333333333333334,
           5.555555555555557,
           7.777777777777779,
           10.0
          ],
          [
           -10.0,
           -7.777777777777778,
           -5.555555555555555,
           -3.333333333333333,
           -1.1111111111111107,
           1.1111111111111107,
           3.333333333333334,
           5.555555555555557,
           7.777777777777779,
           10.0
          ],
          [
           -10.0,
           -7.777777777777778,
           -5.555555555555555,
           -3.333333333333333,
           -1.1111111111111107,
           1.1111111111111107,
           3.333333333333334,
           5.555555555555557,
           7.777777777777779,
           10.0
          ],
          [
           -10.0,
           -7.777777777777778,
           -5.555555555555555,
           -3.333333333333333,
           -1.1111111111111107,
           1.1111111111111107,
           3.333333333333334,
           5.555555555555557,
           7.777777777777779,
           10.0
          ],
          [
           -10.0,
           -7.777777777777778,
           -5.555555555555555,
           -3.333333333333333,
           -1.1111111111111107,
           1.1111111111111107,
           3.333333333333334,
           5.555555555555557,
           7.777777777777779,
           10.0
          ],
          [
           -10.0,
           -7.777777777777778,
           -5.555555555555555,
           -3.333333333333333,
           -1.1111111111111107,
           1.1111111111111107,
           3.333333333333334,
           5.555555555555557,
           7.777777777777779,
           10.0
          ],
          [
           -10.0,
           -7.777777777777778,
           -5.555555555555555,
           -3.333333333333333,
           -1.1111111111111107,
           1.1111111111111107,
           3.333333333333334,
           5.555555555555557,
           7.777777777777779,
           10.0
          ],
          [
           -10.0,
           -7.777777777777778,
           -5.555555555555555,
           -3.333333333333333,
           -1.1111111111111107,
           1.1111111111111107,
           3.333333333333334,
           5.555555555555557,
           7.777777777777779,
           10.0
          ],
          [
           -10.0,
           -7.777777777777778,
           -5.555555555555555,
           -3.333333333333333,
           -1.1111111111111107,
           1.1111111111111107,
           3.333333333333334,
           5.555555555555557,
           7.777777777777779,
           10.0
          ],
          [
           -10.0,
           -7.777777777777778,
           -5.555555555555555,
           -3.333333333333333,
           -1.1111111111111107,
           1.1111111111111107,
           3.333333333333334,
           5.555555555555557,
           7.777777777777779,
           10.0
          ]
         ],
         "y": [
          [
           -10.0,
           -10.0,
           -10.0,
           -10.0,
           -10.0,
           -10.0,
           -10.0,
           -10.0,
           -10.0,
           -10.0
          ],
          [
           -9.797979797979798,
           -9.797979797979798,
           -9.797979797979798,
           -9.797979797979798,
           -9.797979797979798,
           -9.797979797979798,
           -9.797979797979798,
           -9.797979797979798,
           -9.797979797979798,
           -9.797979797979798
          ],
          [
           -9.595959595959595,
           -9.595959595959595,
           -9.595959595959595,
           -9.595959595959595,
           -9.595959595959595,
           -9.595959595959595,
           -9.595959595959595,
           -9.595959595959595,
           -9.595959595959595,
           -9.595959595959595
          ],
          [
           -9.393939393939394,
           -9.393939393939394,
           -9.393939393939394,
           -9.393939393939394,
           -9.393939393939394,
           -9.393939393939394,
           -9.393939393939394,
           -9.393939393939394,
           -9.393939393939394,
           -9.393939393939394
          ],
          [
           -9.191919191919192,
           -9.191919191919192,
           -9.191919191919192,
           -9.191919191919192,
           -9.191919191919192,
           -9.191919191919192,
           -9.191919191919192,
           -9.191919191919192,
           -9.191919191919192,
           -9.191919191919192
          ],
          [
           -8.98989898989899,
           -8.98989898989899,
           -8.98989898989899,
           -8.98989898989899,
           -8.98989898989899,
           -8.98989898989899,
           -8.98989898989899,
           -8.98989898989899,
           -8.98989898989899,
           -8.98989898989899
          ],
          [
           -8.787878787878787,
           -8.787878787878787,
           -8.787878787878787,
           -8.787878787878787,
           -8.787878787878787,
           -8.787878787878787,
           -8.787878787878787,
           -8.787878787878787,
           -8.787878787878787,
           -8.787878787878787
          ],
          [
           -8.585858585858587,
           -8.585858585858587,
           -8.585858585858587,
           -8.585858585858587,
           -8.585858585858587,
           -8.585858585858587,
           -8.585858585858587,
           -8.585858585858587,
           -8.585858585858587,
           -8.585858585858587
          ],
          [
           -8.383838383838384,
           -8.383838383838384,
           -8.383838383838384,
           -8.383838383838384,
           -8.383838383838384,
           -8.383838383838384,
           -8.383838383838384,
           -8.383838383838384,
           -8.383838383838384,
           -8.383838383838384
          ],
          [
           -8.181818181818182,
           -8.181818181818182,
           -8.181818181818182,
           -8.181818181818182,
           -8.181818181818182,
           -8.181818181818182,
           -8.181818181818182,
           -8.181818181818182,
           -8.181818181818182,
           -8.181818181818182
          ],
          [
           -7.979797979797979,
           -7.979797979797979,
           -7.979797979797979,
           -7.979797979797979,
           -7.979797979797979,
           -7.979797979797979,
           -7.979797979797979,
           -7.979797979797979,
           -7.979797979797979,
           -7.979797979797979
          ],
          [
           -7.777777777777778,
           -7.777777777777778,
           -7.777777777777778,
           -7.777777777777778,
           -7.777777777777778,
           -7.777777777777778,
           -7.777777777777778,
           -7.777777777777778,
           -7.777777777777778,
           -7.777777777777778
          ],
          [
           -7.575757575757576,
           -7.575757575757576,
           -7.575757575757576,
           -7.575757575757576,
           -7.575757575757576,
           -7.575757575757576,
           -7.575757575757576,
           -7.575757575757576,
           -7.575757575757576,
           -7.575757575757576
          ],
          [
           -7.373737373737374,
           -7.373737373737374,
           -7.373737373737374,
           -7.373737373737374,
           -7.373737373737374,
           -7.373737373737374,
           -7.373737373737374,
           -7.373737373737374,
           -7.373737373737374,
           -7.373737373737374
          ],
          [
           -7.171717171717171,
           -7.171717171717171,
           -7.171717171717171,
           -7.171717171717171,
           -7.171717171717171,
           -7.171717171717171,
           -7.171717171717171,
           -7.171717171717171,
           -7.171717171717171,
           -7.171717171717171
          ],
          [
           -6.96969696969697,
           -6.96969696969697,
           -6.96969696969697,
           -6.96969696969697,
           -6.96969696969697,
           -6.96969696969697,
           -6.96969696969697,
           -6.96969696969697,
           -6.96969696969697,
           -6.96969696969697
          ],
          [
           -6.767676767676768,
           -6.767676767676768,
           -6.767676767676768,
           -6.767676767676768,
           -6.767676767676768,
           -6.767676767676768,
           -6.767676767676768,
           -6.767676767676768,
           -6.767676767676768,
           -6.767676767676768
          ],
          [
           -6.565656565656566,
           -6.565656565656566,
           -6.565656565656566,
           -6.565656565656566,
           -6.565656565656566,
           -6.565656565656566,
           -6.565656565656566,
           -6.565656565656566,
           -6.565656565656566,
           -6.565656565656566
          ],
          [
           -6.363636363636363,
           -6.363636363636363,
           -6.363636363636363,
           -6.363636363636363,
           -6.363636363636363,
           -6.363636363636363,
           -6.363636363636363,
           -6.363636363636363,
           -6.363636363636363,
           -6.363636363636363
          ],
          [
           -6.161616161616162,
           -6.161616161616162,
           -6.161616161616162,
           -6.161616161616162,
           -6.161616161616162,
           -6.161616161616162,
           -6.161616161616162,
           -6.161616161616162,
           -6.161616161616162,
           -6.161616161616162
          ],
          [
           -5.959595959595959,
           -5.959595959595959,
           -5.959595959595959,
           -5.959595959595959,
           -5.959595959595959,
           -5.959595959595959,
           -5.959595959595959,
           -5.959595959595959,
           -5.959595959595959,
           -5.959595959595959
          ],
          [
           -5.757575757575758,
           -5.757575757575758,
           -5.757575757575758,
           -5.757575757575758,
           -5.757575757575758,
           -5.757575757575758,
           -5.757575757575758,
           -5.757575757575758,
           -5.757575757575758,
           -5.757575757575758
          ],
          [
           -5.555555555555555,
           -5.555555555555555,
           -5.555555555555555,
           -5.555555555555555,
           -5.555555555555555,
           -5.555555555555555,
           -5.555555555555555,
           -5.555555555555555,
           -5.555555555555555,
           -5.555555555555555
          ],
          [
           -5.353535353535354,
           -5.353535353535354,
           -5.353535353535354,
           -5.353535353535354,
           -5.353535353535354,
           -5.353535353535354,
           -5.353535353535354,
           -5.353535353535354,
           -5.353535353535354,
           -5.353535353535354
          ],
          [
           -5.151515151515151,
           -5.151515151515151,
           -5.151515151515151,
           -5.151515151515151,
           -5.151515151515151,
           -5.151515151515151,
           -5.151515151515151,
           -5.151515151515151,
           -5.151515151515151,
           -5.151515151515151
          ],
          [
           -4.94949494949495,
           -4.94949494949495,
           -4.94949494949495,
           -4.94949494949495,
           -4.94949494949495,
           -4.94949494949495,
           -4.94949494949495,
           -4.94949494949495,
           -4.94949494949495,
           -4.94949494949495
          ],
          [
           -4.747474747474747,
           -4.747474747474747,
           -4.747474747474747,
           -4.747474747474747,
           -4.747474747474747,
           -4.747474747474747,
           -4.747474747474747,
           -4.747474747474747,
           -4.747474747474747,
           -4.747474747474747
          ],
          [
           -4.545454545454546,
           -4.545454545454546,
           -4.545454545454546,
           -4.545454545454546,
           -4.545454545454546,
           -4.545454545454546,
           -4.545454545454546,
           -4.545454545454546,
           -4.545454545454546,
           -4.545454545454546
          ],
          [
           -4.343434343434343,
           -4.343434343434343,
           -4.343434343434343,
           -4.343434343434343,
           -4.343434343434343,
           -4.343434343434343,
           -4.343434343434343,
           -4.343434343434343,
           -4.343434343434343,
           -4.343434343434343
          ],
          [
           -4.141414141414142,
           -4.141414141414142,
           -4.141414141414142,
           -4.141414141414142,
           -4.141414141414142,
           -4.141414141414142,
           -4.141414141414142,
           -4.141414141414142,
           -4.141414141414142,
           -4.141414141414142
          ],
          [
           -3.9393939393939394,
           -3.9393939393939394,
           -3.9393939393939394,
           -3.9393939393939394,
           -3.9393939393939394,
           -3.9393939393939394,
           -3.9393939393939394,
           -3.9393939393939394,
           -3.9393939393939394,
           -3.9393939393939394
          ],
          [
           -3.737373737373738,
           -3.737373737373738,
           -3.737373737373738,
           -3.737373737373738,
           -3.737373737373738,
           -3.737373737373738,
           -3.737373737373738,
           -3.737373737373738,
           -3.737373737373738,
           -3.737373737373738
          ],
          [
           -3.5353535353535355,
           -3.5353535353535355,
           -3.5353535353535355,
           -3.5353535353535355,
           -3.5353535353535355,
           -3.5353535353535355,
           -3.5353535353535355,
           -3.5353535353535355,
           -3.5353535353535355,
           -3.5353535353535355
          ],
          [
           -3.333333333333333,
           -3.333333333333333,
           -3.333333333333333,
           -3.333333333333333,
           -3.333333333333333,
           -3.333333333333333,
           -3.333333333333333,
           -3.333333333333333,
           -3.333333333333333,
           -3.333333333333333
          ],
          [
           -3.1313131313131315,
           -3.1313131313131315,
           -3.1313131313131315,
           -3.1313131313131315,
           -3.1313131313131315,
           -3.1313131313131315,
           -3.1313131313131315,
           -3.1313131313131315,
           -3.1313131313131315,
           -3.1313131313131315
          ],
          [
           -2.929292929292929,
           -2.929292929292929,
           -2.929292929292929,
           -2.929292929292929,
           -2.929292929292929,
           -2.929292929292929,
           -2.929292929292929,
           -2.929292929292929,
           -2.929292929292929,
           -2.929292929292929
          ],
          [
           -2.7272727272727275,
           -2.7272727272727275,
           -2.7272727272727275,
           -2.7272727272727275,
           -2.7272727272727275,
           -2.7272727272727275,
           -2.7272727272727275,
           -2.7272727272727275,
           -2.7272727272727275,
           -2.7272727272727275
          ],
          [
           -2.525252525252525,
           -2.525252525252525,
           -2.525252525252525,
           -2.525252525252525,
           -2.525252525252525,
           -2.525252525252525,
           -2.525252525252525,
           -2.525252525252525,
           -2.525252525252525,
           -2.525252525252525
          ],
          [
           -2.3232323232323235,
           -2.3232323232323235,
           -2.3232323232323235,
           -2.3232323232323235,
           -2.3232323232323235,
           -2.3232323232323235,
           -2.3232323232323235,
           -2.3232323232323235,
           -2.3232323232323235,
           -2.3232323232323235
          ],
          [
           -2.121212121212121,
           -2.121212121212121,
           -2.121212121212121,
           -2.121212121212121,
           -2.121212121212121,
           -2.121212121212121,
           -2.121212121212121,
           -2.121212121212121,
           -2.121212121212121,
           -2.121212121212121
          ],
          [
           -1.9191919191919187,
           -1.9191919191919187,
           -1.9191919191919187,
           -1.9191919191919187,
           -1.9191919191919187,
           -1.9191919191919187,
           -1.9191919191919187,
           -1.9191919191919187,
           -1.9191919191919187,
           -1.9191919191919187
          ],
          [
           -1.717171717171718,
           -1.717171717171718,
           -1.717171717171718,
           -1.717171717171718,
           -1.717171717171718,
           -1.717171717171718,
           -1.717171717171718,
           -1.717171717171718,
           -1.717171717171718,
           -1.717171717171718
          ],
          [
           -1.5151515151515156,
           -1.5151515151515156,
           -1.5151515151515156,
           -1.5151515151515156,
           -1.5151515151515156,
           -1.5151515151515156,
           -1.5151515151515156,
           -1.5151515151515156,
           -1.5151515151515156,
           -1.5151515151515156
          ],
          [
           -1.3131313131313131,
           -1.3131313131313131,
           -1.3131313131313131,
           -1.3131313131313131,
           -1.3131313131313131,
           -1.3131313131313131,
           -1.3131313131313131,
           -1.3131313131313131,
           -1.3131313131313131,
           -1.3131313131313131
          ],
          [
           -1.1111111111111107,
           -1.1111111111111107,
           -1.1111111111111107,
           -1.1111111111111107,
           -1.1111111111111107,
           -1.1111111111111107,
           -1.1111111111111107,
           -1.1111111111111107,
           -1.1111111111111107,
           -1.1111111111111107
          ],
          [
           -0.9090909090909101,
           -0.9090909090909101,
           -0.9090909090909101,
           -0.9090909090909101,
           -0.9090909090909101,
           -0.9090909090909101,
           -0.9090909090909101,
           -0.9090909090909101,
           -0.9090909090909101,
           -0.9090909090909101
          ],
          [
           -0.7070707070707076,
           -0.7070707070707076,
           -0.7070707070707076,
           -0.7070707070707076,
           -0.7070707070707076,
           -0.7070707070707076,
           -0.7070707070707076,
           -0.7070707070707076,
           -0.7070707070707076,
           -0.7070707070707076
          ],
          [
           -0.5050505050505052,
           -0.5050505050505052,
           -0.5050505050505052,
           -0.5050505050505052,
           -0.5050505050505052,
           -0.5050505050505052,
           -0.5050505050505052,
           -0.5050505050505052,
           -0.5050505050505052,
           -0.5050505050505052
          ],
          [
           -0.30303030303030276,
           -0.30303030303030276,
           -0.30303030303030276,
           -0.30303030303030276,
           -0.30303030303030276,
           -0.30303030303030276,
           -0.30303030303030276,
           -0.30303030303030276,
           -0.30303030303030276,
           -0.30303030303030276
          ],
          [
           -0.10101010101010033,
           -0.10101010101010033,
           -0.10101010101010033,
           -0.10101010101010033,
           -0.10101010101010033,
           -0.10101010101010033,
           -0.10101010101010033,
           -0.10101010101010033,
           -0.10101010101010033,
           -0.10101010101010033
          ],
          [
           0.10101010101010033,
           0.10101010101010033,
           0.10101010101010033,
           0.10101010101010033,
           0.10101010101010033,
           0.10101010101010033,
           0.10101010101010033,
           0.10101010101010033,
           0.10101010101010033,
           0.10101010101010033
          ],
          [
           0.30303030303030276,
           0.30303030303030276,
           0.30303030303030276,
           0.30303030303030276,
           0.30303030303030276,
           0.30303030303030276,
           0.30303030303030276,
           0.30303030303030276,
           0.30303030303030276,
           0.30303030303030276
          ],
          [
           0.5050505050505052,
           0.5050505050505052,
           0.5050505050505052,
           0.5050505050505052,
           0.5050505050505052,
           0.5050505050505052,
           0.5050505050505052,
           0.5050505050505052,
           0.5050505050505052,
           0.5050505050505052
          ],
          [
           0.7070707070707076,
           0.7070707070707076,
           0.7070707070707076,
           0.7070707070707076,
           0.7070707070707076,
           0.7070707070707076,
           0.7070707070707076,
           0.7070707070707076,
           0.7070707070707076,
           0.7070707070707076
          ],
          [
           0.9090909090909083,
           0.9090909090909083,
           0.9090909090909083,
           0.9090909090909083,
           0.9090909090909083,
           0.9090909090909083,
           0.9090909090909083,
           0.9090909090909083,
           0.9090909090909083,
           0.9090909090909083
          ],
          [
           1.1111111111111107,
           1.1111111111111107,
           1.1111111111111107,
           1.1111111111111107,
           1.1111111111111107,
           1.1111111111111107,
           1.1111111111111107,
           1.1111111111111107,
           1.1111111111111107,
           1.1111111111111107
          ],
          [
           1.3131313131313131,
           1.3131313131313131,
           1.3131313131313131,
           1.3131313131313131,
           1.3131313131313131,
           1.3131313131313131,
           1.3131313131313131,
           1.3131313131313131,
           1.3131313131313131,
           1.3131313131313131
          ],
          [
           1.5151515151515156,
           1.5151515151515156,
           1.5151515151515156,
           1.5151515151515156,
           1.5151515151515156,
           1.5151515151515156,
           1.5151515151515156,
           1.5151515151515156,
           1.5151515151515156,
           1.5151515151515156
          ],
          [
           1.7171717171717162,
           1.7171717171717162,
           1.7171717171717162,
           1.7171717171717162,
           1.7171717171717162,
           1.7171717171717162,
           1.7171717171717162,
           1.7171717171717162,
           1.7171717171717162,
           1.7171717171717162
          ],
          [
           1.9191919191919187,
           1.9191919191919187,
           1.9191919191919187,
           1.9191919191919187,
           1.9191919191919187,
           1.9191919191919187,
           1.9191919191919187,
           1.9191919191919187,
           1.9191919191919187,
           1.9191919191919187
          ],
          [
           2.121212121212121,
           2.121212121212121,
           2.121212121212121,
           2.121212121212121,
           2.121212121212121,
           2.121212121212121,
           2.121212121212121,
           2.121212121212121,
           2.121212121212121,
           2.121212121212121
          ],
          [
           2.3232323232323235,
           2.3232323232323235,
           2.3232323232323235,
           2.3232323232323235,
           2.3232323232323235,
           2.3232323232323235,
           2.3232323232323235,
           2.3232323232323235,
           2.3232323232323235,
           2.3232323232323235
          ],
          [
           2.525252525252524,
           2.525252525252524,
           2.525252525252524,
           2.525252525252524,
           2.525252525252524,
           2.525252525252524,
           2.525252525252524,
           2.525252525252524,
           2.525252525252524,
           2.525252525252524
          ],
          [
           2.7272727272727266,
           2.7272727272727266,
           2.7272727272727266,
           2.7272727272727266,
           2.7272727272727266,
           2.7272727272727266,
           2.7272727272727266,
           2.7272727272727266,
           2.7272727272727266,
           2.7272727272727266
          ],
          [
           2.929292929292929,
           2.929292929292929,
           2.929292929292929,
           2.929292929292929,
           2.929292929292929,
           2.929292929292929,
           2.929292929292929,
           2.929292929292929,
           2.929292929292929,
           2.929292929292929
          ],
          [
           3.1313131313131315,
           3.1313131313131315,
           3.1313131313131315,
           3.1313131313131315,
           3.1313131313131315,
           3.1313131313131315,
           3.1313131313131315,
           3.1313131313131315,
           3.1313131313131315,
           3.1313131313131315
          ],
          [
           3.333333333333334,
           3.333333333333334,
           3.333333333333334,
           3.333333333333334,
           3.333333333333334,
           3.333333333333334,
           3.333333333333334,
           3.333333333333334,
           3.333333333333334,
           3.333333333333334
          ],
          [
           3.5353535353535346,
           3.5353535353535346,
           3.5353535353535346,
           3.5353535353535346,
           3.5353535353535346,
           3.5353535353535346,
           3.5353535353535346,
           3.5353535353535346,
           3.5353535353535346,
           3.5353535353535346
          ],
          [
           3.737373737373737,
           3.737373737373737,
           3.737373737373737,
           3.737373737373737,
           3.737373737373737,
           3.737373737373737,
           3.737373737373737,
           3.737373737373737,
           3.737373737373737,
           3.737373737373737
          ],
          [
           3.9393939393939394,
           3.9393939393939394,
           3.9393939393939394,
           3.9393939393939394,
           3.9393939393939394,
           3.9393939393939394,
           3.9393939393939394,
           3.9393939393939394,
           3.9393939393939394,
           3.9393939393939394
          ],
          [
           4.141414141414142,
           4.141414141414142,
           4.141414141414142,
           4.141414141414142,
           4.141414141414142,
           4.141414141414142,
           4.141414141414142,
           4.141414141414142,
           4.141414141414142,
           4.141414141414142
          ],
          [
           4.3434343434343425,
           4.3434343434343425,
           4.3434343434343425,
           4.3434343434343425,
           4.3434343434343425,
           4.3434343434343425,
           4.3434343434343425,
           4.3434343434343425,
           4.3434343434343425,
           4.3434343434343425
          ],
          [
           4.545454545454545,
           4.545454545454545,
           4.545454545454545,
           4.545454545454545,
           4.545454545454545,
           4.545454545454545,
           4.545454545454545,
           4.545454545454545,
           4.545454545454545,
           4.545454545454545
          ],
          [
           4.747474747474747,
           4.747474747474747,
           4.747474747474747,
           4.747474747474747,
           4.747474747474747,
           4.747474747474747,
           4.747474747474747,
           4.747474747474747,
           4.747474747474747,
           4.747474747474747
          ],
          [
           4.94949494949495,
           4.94949494949495,
           4.94949494949495,
           4.94949494949495,
           4.94949494949495,
           4.94949494949495,
           4.94949494949495,
           4.94949494949495,
           4.94949494949495,
           4.94949494949495
          ],
          [
           5.1515151515151505,
           5.1515151515151505,
           5.1515151515151505,
           5.1515151515151505,
           5.1515151515151505,
           5.1515151515151505,
           5.1515151515151505,
           5.1515151515151505,
           5.1515151515151505,
           5.1515151515151505
          ],
          [
           5.353535353535353,
           5.353535353535353,
           5.353535353535353,
           5.353535353535353,
           5.353535353535353,
           5.353535353535353,
           5.353535353535353,
           5.353535353535353,
           5.353535353535353,
           5.353535353535353
          ],
          [
           5.555555555555555,
           5.555555555555555,
           5.555555555555555,
           5.555555555555555,
           5.555555555555555,
           5.555555555555555,
           5.555555555555555,
           5.555555555555555,
           5.555555555555555,
           5.555555555555555
          ],
          [
           5.757575757575758,
           5.757575757575758,
           5.757575757575758,
           5.757575757575758,
           5.757575757575758,
           5.757575757575758,
           5.757575757575758,
           5.757575757575758,
           5.757575757575758,
           5.757575757575758
          ],
          [
           5.9595959595959584,
           5.9595959595959584,
           5.9595959595959584,
           5.9595959595959584,
           5.9595959595959584,
           5.9595959595959584,
           5.9595959595959584,
           5.9595959595959584,
           5.9595959595959584,
           5.9595959595959584
          ],
          [
           6.161616161616163,
           6.161616161616163,
           6.161616161616163,
           6.161616161616163,
           6.161616161616163,
           6.161616161616163,
           6.161616161616163,
           6.161616161616163,
           6.161616161616163,
           6.161616161616163
          ],
          [
           6.363636363636363,
           6.363636363636363,
           6.363636363636363,
           6.363636363636363,
           6.363636363636363,
           6.363636363636363,
           6.363636363636363,
           6.363636363636363,
           6.363636363636363,
           6.363636363636363
          ],
          [
           6.565656565656564,
           6.565656565656564,
           6.565656565656564,
           6.565656565656564,
           6.565656565656564,
           6.565656565656564,
           6.565656565656564,
           6.565656565656564,
           6.565656565656564,
           6.565656565656564
          ],
          [
           6.767676767676768,
           6.767676767676768,
           6.767676767676768,
           6.767676767676768,
           6.767676767676768,
           6.767676767676768,
           6.767676767676768,
           6.767676767676768,
           6.767676767676768,
           6.767676767676768
          ],
          [
           6.969696969696969,
           6.969696969696969,
           6.969696969696969,
           6.969696969696969,
           6.969696969696969,
           6.969696969696969,
           6.969696969696969,
           6.969696969696969,
           6.969696969696969,
           6.969696969696969
          ],
          [
           7.171717171717173,
           7.171717171717173,
           7.171717171717173,
           7.171717171717173,
           7.171717171717173,
           7.171717171717173,
           7.171717171717173,
           7.171717171717173,
           7.171717171717173,
           7.171717171717173
          ],
          [
           7.373737373737374,
           7.373737373737374,
           7.373737373737374,
           7.373737373737374,
           7.373737373737374,
           7.373737373737374,
           7.373737373737374,
           7.373737373737374,
           7.373737373737374,
           7.373737373737374
          ],
          [
           7.575757575757574,
           7.575757575757574,
           7.575757575757574,
           7.575757575757574,
           7.575757575757574,
           7.575757575757574,
           7.575757575757574,
           7.575757575757574,
           7.575757575757574,
           7.575757575757574
          ],
          [
           7.777777777777779,
           7.777777777777779,
           7.777777777777779,
           7.777777777777779,
           7.777777777777779,
           7.777777777777779,
           7.777777777777779,
           7.777777777777779,
           7.777777777777779,
           7.777777777777779
          ],
          [
           7.979797979797979,
           7.979797979797979,
           7.979797979797979,
           7.979797979797979,
           7.979797979797979,
           7.979797979797979,
           7.979797979797979,
           7.979797979797979,
           7.979797979797979,
           7.979797979797979
          ],
          [
           8.18181818181818,
           8.18181818181818,
           8.18181818181818,
           8.18181818181818,
           8.18181818181818,
           8.18181818181818,
           8.18181818181818,
           8.18181818181818,
           8.18181818181818,
           8.18181818181818
          ],
          [
           8.383838383838384,
           8.383838383838384,
           8.383838383838384,
           8.383838383838384,
           8.383838383838384,
           8.383838383838384,
           8.383838383838384,
           8.383838383838384,
           8.383838383838384,
           8.383838383838384
          ],
          [
           8.585858585858585,
           8.585858585858585,
           8.585858585858585,
           8.585858585858585,
           8.585858585858585,
           8.585858585858585,
           8.585858585858585,
           8.585858585858585,
           8.585858585858585,
           8.585858585858585
          ],
          [
           8.787878787878789,
           8.787878787878789,
           8.787878787878789,
           8.787878787878789,
           8.787878787878789,
           8.787878787878789,
           8.787878787878789,
           8.787878787878789,
           8.787878787878789,
           8.787878787878789
          ],
          [
           8.98989898989899,
           8.98989898989899,
           8.98989898989899,
           8.98989898989899,
           8.98989898989899,
           8.98989898989899,
           8.98989898989899,
           8.98989898989899,
           8.98989898989899,
           8.98989898989899
          ],
          [
           9.19191919191919,
           9.19191919191919,
           9.19191919191919,
           9.19191919191919,
           9.19191919191919,
           9.19191919191919,
           9.19191919191919,
           9.19191919191919,
           9.19191919191919,
           9.19191919191919
          ],
          [
           9.393939393939394,
           9.393939393939394,
           9.393939393939394,
           9.393939393939394,
           9.393939393939394,
           9.393939393939394,
           9.393939393939394,
           9.393939393939394,
           9.393939393939394,
           9.393939393939394
          ],
          [
           9.595959595959595,
           9.595959595959595,
           9.595959595959595,
           9.595959595959595,
           9.595959595959595,
           9.595959595959595,
           9.595959595959595,
           9.595959595959595,
           9.595959595959595,
           9.595959595959595
          ],
          [
           9.7979797979798,
           9.7979797979798,
           9.7979797979798,
           9.7979797979798,
           9.7979797979798,
           9.7979797979798,
           9.7979797979798,
           9.7979797979798,
           9.7979797979798,
           9.7979797979798
          ],
          [
           10.0,
           10.0,
           10.0,
           10.0,
           10.0,
           10.0,
           10.0,
           10.0,
           10.0,
           10.0
          ]
         ],
         "z": [
          [
           -48.0,
           -36.888888888888886,
           -25.77777777777778,
           -14.666666666666664,
           -3.5555555555555536,
           7.555555555555554,
           18.66666666666667,
           29.777777777777786,
           40.88888888888889,
           52.0
          ],
          [
           -47.97979797979798,
           -36.868686868686865,
           -25.757575757575758,
           -14.646464646464644,
           -3.5353535353535337,
           7.5757575757575735,
           18.686868686868692,
           29.797979797979806,
           40.909090909090914,
           52.02020202020202
          ],
          [
           -47.95959595959596,
           -36.848484848484844,
           -25.737373737373737,
           -14.626262626262623,
           -3.515151515151513,
           7.595959595959594,
           18.707070707070713,
           29.818181818181827,
           40.929292929292934,
           52.04040404040404
          ],
          [
           -47.93939393939394,
           -36.82828282828282,
           -25.717171717171716,
           -14.606060606060602,
           -3.494949494949493,
           7.616161616161614,
           18.727272727272734,
           29.838383838383848,
           40.949494949494955,
           52.06060606060606
          ],
          [
           -47.91919191919192,
           -36.8080808080808,
           -25.6969696969697,
           -14.585858585858585,
           -3.474747474747473,
           7.636363636363634,
           18.747474747474755,
           29.858585858585865,
           40.969696969696976,
           52.08080808080808
          ],
          [
           -47.898989898989896,
           -36.78787878787878,
           -25.67676767676768,
           -14.565656565656564,
           -3.4545454545454524,
           7.656565656565655,
           18.76767676767677,
           29.878787878787886,
           40.989898989899,
           52.101010101010104
          ],
          [
           -47.878787878787875,
           -36.76767676767676,
           -25.656565656565657,
           -14.545454545454543,
           -3.4343434343434325,
           7.676767676767675,
           18.787878787878793,
           29.898989898989907,
           41.01010101010102,
           52.121212121212125
          ],
          [
           -47.85858585858586,
           -36.74747474747475,
           -25.636363636363637,
           -14.525252525252522,
           -3.4141414141414126,
           7.696969696969695,
           18.808080808080813,
           29.919191919191928,
           41.03030303030303,
           52.14141414141414
          ],
          [
           -47.83838383838384,
           -36.72727272727273,
           -25.616161616161616,
           -14.505050505050502,
           -3.393939393939392,
           7.717171717171715,
           18.82828282828283,
           29.93939393939395,
           41.05050505050505,
           52.16161616161616
          ],
          [
           -47.81818181818182,
           -36.707070707070706,
           -25.595959595959595,
           -14.48484848484848,
           -3.373737373737372,
           7.737373737373735,
           18.84848484848485,
           29.95959595959597,
           41.07070707070707,
           52.18181818181818
          ],
          [
           -47.7979797979798,
           -36.686868686868685,
           -25.575757575757578,
           -14.464646464646464,
           -3.353535353535351,
           7.757575757575756,
           18.868686868686872,
           29.979797979797986,
           41.09090909090909,
           52.2020202020202
          ],
          [
           -47.77777777777778,
           -36.666666666666664,
           -25.555555555555557,
           -14.444444444444443,
           -3.3333333333333313,
           7.777777777777776,
           18.888888888888893,
           30.000000000000007,
           41.111111111111114,
           52.22222222222222
          ],
          [
           -47.75757575757576,
           -36.64646464646464,
           -25.535353535353536,
           -14.424242424242422,
           -3.3131313131313114,
           7.797979797979796,
           18.909090909090914,
           30.020202020202028,
           41.131313131313135,
           52.24242424242424
          ],
          [
           -47.73737373737374,
           -36.62626262626262,
           -25.515151515151516,
           -14.404040404040401,
           -3.2929292929292906,
           7.818181818181817,
           18.929292929292934,
           30.04040404040405,
           41.151515151515156,
           52.26262626262626
          ],
          [
           -47.717171717171716,
           -36.6060606060606,
           -25.494949494949495,
           -14.38383838383838,
           -3.2727272727272707,
           7.8383838383838365,
           18.949494949494955,
           30.06060606060607,
           41.17171717171718,
           52.282828282828284
          ],
          [
           -47.696969696969695,
           -36.58585858585858,
           -25.474747474747474,
           -14.36363636363636,
           -3.252525252525251,
           7.858585858585856,
           18.969696969696976,
           30.08080808080809,
           41.1919191919192,
           52.303030303030305
          ],
          [
           -47.676767676767675,
           -36.56565656565656,
           -25.454545454545457,
           -14.343434343434343,
           -3.23232323232323,
           7.878787878787877,
           18.989898989898997,
           30.101010101010107,
           41.21212121212122,
           52.323232323232325
          ],
          [
           -47.656565656565654,
           -36.54545454545454,
           -25.434343434343436,
           -14.323232323232322,
           -3.21212121212121,
           7.898989898989897,
           19.010101010101014,
           30.121212121212128,
           41.23232323232324,
           52.343434343434346
          ],
          [
           -47.63636363636363,
           -36.52525252525252,
           -25.414141414141415,
           -14.303030303030301,
           -3.1919191919191903,
           7.919191919191917,
           19.030303030303035,
           30.14141414141415,
           41.25252525252526,
           52.36363636363637
          ],
          [
           -47.61616161616162,
           -36.505050505050505,
           -25.393939393939394,
           -14.28282828282828,
           -3.1717171717171695,
           7.939393939393938,
           19.050505050505055,
           30.16161616161617,
           41.27272727272727,
           52.38383838383838
          ],
          [
           -47.5959595959596,
           -36.484848484848484,
           -25.373737373737374,
           -14.26262626262626,
           -3.1515151515151496,
           7.959595959595958,
           19.070707070707076,
           30.18181818181819,
           41.292929292929294,
           52.4040404040404
          ],
          [
           -47.57575757575758,
           -36.464646464646464,
           -25.353535353535353,
           -14.242424242424239,
           -3.1313131313131297,
           7.9797979797979774,
           19.090909090909097,
           30.20202020202021,
           41.313131313131315,
           52.42424242424242
          ],
          [
           -47.55555555555556,
           -36.44444444444444,
           -25.333333333333336,
           -14.222222222222221,
           -3.111111111111109,
           7.999999999999998,
           19.111111111111114,
           30.22222222222223,
           41.333333333333336,
           52.44444444444444
          ],
          [
           -47.535353535353536,
           -36.42424242424242,
           -25.313131313131315,
           -14.2020202020202,
           -3.090909090909089,
           8.020202020202017,
           19.131313131313135,
           30.24242424242425,
           41.35353535353536,
           52.464646464646464
          ],
          [
           -47.515151515151516,
           -36.4040404040404,
           -25.292929292929294,
           -14.18181818181818,
           -3.070707070707069,
           8.040404040404038,
           19.151515151515156,
           30.26262626262627,
           41.37373737373738,
           52.484848484848484
          ],
          [
           -47.494949494949495,
           -36.38383838383838,
           -25.272727272727273,
           -14.161616161616159,
           -3.0505050505050484,
           8.060606060606059,
           19.171717171717177,
           30.28282828282829,
           41.3939393939394,
           52.505050505050505
          ],
          [
           -47.474747474747474,
           -36.36363636363636,
           -25.252525252525253,
           -14.141414141414138,
           -3.0303030303030285,
           8.08080808080808,
           19.191919191919197,
           30.30303030303031,
           41.41414141414142,
           52.525252525252526
          ],
          [
           -47.45454545454545,
           -36.34343434343434,
           -25.232323232323232,
           -14.121212121212118,
           -3.0101010101010086,
           8.101010101010099,
           19.212121212121218,
           30.323232323232332,
           41.43434343434344,
           52.54545454545455
          ],
          [
           -47.43434343434343,
           -36.32323232323232,
           -25.212121212121215,
           -14.1010101010101,
           -2.989898989898988,
           8.12121212121212,
           19.232323232323235,
           30.34343434343435,
           41.45454545454546,
           52.56565656565657
          ],
          [
           -47.41414141414141,
           -36.3030303030303,
           -25.191919191919194,
           -14.08080808080808,
           -2.969696969696968,
           8.141414141414138,
           19.252525252525256,
           30.36363636363637,
           41.47474747474748,
           52.58585858585859
          ],
          [
           -47.39393939393939,
           -36.28282828282828,
           -25.171717171717173,
           -14.060606060606059,
           -2.949494949494947,
           8.161616161616159,
           19.272727272727277,
           30.38383838383839,
           41.4949494949495,
           52.60606060606061
          ],
          [
           -47.37373737373738,
           -36.26262626262626,
           -25.151515151515152,
           -14.040404040404038,
           -2.9292929292929273,
           8.18181818181818,
           19.292929292929298,
           30.404040404040412,
           41.515151515151516,
           52.62626262626262
          ],
          [
           -47.35353535353536,
           -36.24242424242424,
           -25.13131313131313,
           -14.020202020202017,
           -2.9090909090909074,
           8.2020202020202,
           19.31313131313132,
           30.424242424242433,
           41.535353535353536,
           52.64646464646464
          ],
          [
           -47.333333333333336,
           -36.22222222222222,
           -25.11111111111111,
           -13.999999999999996,
           -2.8888888888888866,
           8.222222222222221,
           19.33333333333334,
           30.444444444444454,
           41.55555555555556,
           52.666666666666664
          ],
          [
           -47.313131313131315,
           -36.2020202020202,
           -25.090909090909093,
           -13.97979797979798,
           -2.8686868686868667,
           8.24242424242424,
           19.353535353535356,
           30.46464646464647,
           41.57575757575758,
           52.686868686868685
          ],
          [
           -47.292929292929294,
           -36.18181818181818,
           -25.070707070707073,
           -13.959595959595958,
           -2.848484848484847,
           8.26262626262626,
           19.373737373737377,
           30.48484848484849,
           41.5959595959596,
           52.707070707070706
          ],
          [
           -47.27272727272727,
           -36.16161616161616,
           -25.050505050505052,
           -13.939393939393938,
           -2.828282828282826,
           8.28282828282828,
           19.393939393939398,
           30.505050505050512,
           41.61616161616162,
           52.72727272727273
          ],
          [
           -47.25252525252525,
           -36.14141414141414,
           -25.03030303030303,
           -13.919191919191917,
           -2.808080808080806,
           8.303030303030301,
           19.41414141414142,
           30.525252525252533,
           41.63636363636364,
           52.74747474747475
          ],
          [
           -47.23232323232323,
           -36.12121212121212,
           -25.01010101010101,
           -13.898989898989896,
           -2.7878787878787863,
           8.323232323232322,
           19.43434343434344,
           30.545454545454554,
           41.65656565656566,
           52.76767676767677
          ],
          [
           -47.21212121212121,
           -36.1010101010101,
           -24.98989898989899,
           -13.878787878787875,
           -2.7676767676767655,
           8.343434343434343,
           19.45454545454546,
           30.565656565656575,
           41.67676767676768,
           52.78787878787879
          ],
          [
           -47.19191919191919,
           -36.080808080808076,
           -24.96969696969697,
           -13.858585858585855,
           -2.7474747474747456,
           8.363636363636362,
           19.47474747474748,
           30.585858585858595,
           41.6969696969697,
           52.80808080808081
          ],
          [
           -47.17171717171717,
           -36.060606060606055,
           -24.94949494949495,
           -13.838383838383837,
           -2.7272727272727257,
           8.38383838383838,
           19.4949494949495,
           30.606060606060613,
           41.71717171717172,
           52.82828282828283
          ],
          [
           -47.15151515151515,
           -36.040404040404034,
           -24.92929292929293,
           -13.818181818181817,
           -2.707070707070705,
           8.404040404040401,
           19.51515151515152,
           30.626262626262633,
           41.737373737373744,
           52.84848484848485
          ],
          [
           -47.13131313131313,
           -36.020202020202014,
           -24.90909090909091,
           -13.797979797979796,
           -2.686868686868685,
           8.424242424242422,
           19.53535353535354,
           30.646464646464654,
           41.757575757575765,
           52.86868686868687
          ],
          [
           -47.111111111111114,
           -36.0,
           -24.88888888888889,
           -13.777777777777775,
           -2.6666666666666643,
           8.444444444444443,
           19.55555555555556,
           30.666666666666675,
           41.77777777777778,
           52.888888888888886
          ],
          [
           -47.09090909090909,
           -35.97979797979798,
           -24.86868686868687,
           -13.757575757575754,
           -2.6464646464646444,
           8.464646464646464,
           19.57575757575758,
           30.686868686868696,
           41.7979797979798,
           52.90909090909091
          ],
          [
           -47.07070707070707,
           -35.95959595959596,
           -24.848484848484848,
           -13.737373737373733,
           -2.6262626262626245,
           8.484848484848483,
           19.595959595959602,
           30.707070707070717,
           41.81818181818182,
           52.92929292929293
          ],
          [
           -47.05050505050505,
           -35.93939393939394,
           -24.82828282828283,
           -13.717171717171716,
           -2.6060606060606037,
           8.505050505050503,
           19.61616161616162,
           30.727272727272734,
           41.83838383838384,
           52.94949494949495
          ],
          [
           -47.03030303030303,
           -35.91919191919192,
           -24.80808080808081,
           -13.696969696969695,
           -2.585858585858584,
           8.525252525252522,
           19.63636363636364,
           30.747474747474755,
           41.85858585858586,
           52.96969696969697
          ],
          [
           -47.01010101010101,
           -35.898989898989896,
           -24.78787878787879,
           -13.676767676767675,
           -2.565656565656564,
           8.545454545454543,
           19.65656565656566,
           30.767676767676775,
           41.87878787878788,
           52.98989898989899
          ],
          [
           -46.98989898989899,
           -35.878787878787875,
           -24.767676767676768,
           -13.656565656565654,
           -2.545454545454543,
           8.565656565656564,
           19.676767676767682,
           30.787878787878796,
           41.8989898989899,
           53.01010101010101
          ],
          [
           -46.96969696969697,
           -35.858585858585855,
           -24.747474747474747,
           -13.636363636363633,
           -2.5252525252525233,
           8.585858585858585,
           19.696969696969703,
           30.808080808080817,
           41.919191919191924,
           53.03030303030303
          ],
          [
           -46.94949494949495,
           -35.838383838383834,
           -24.727272727272727,
           -13.616161616161612,
           -2.5050505050505034,
           8.606060606060604,
           19.717171717171723,
           30.828282828282838,
           41.939393939393945,
           53.05050505050505
          ],
          [
           -46.92929292929293,
           -35.81818181818181,
           -24.70707070707071,
           -13.595959595959595,
           -2.4848484848484826,
           8.626262626262625,
           19.73737373737374,
           30.848484848484855,
           41.959595959595966,
           53.07070707070707
          ],
          [
           -46.90909090909091,
           -35.79797979797979,
           -24.68686868686869,
           -13.575757575757574,
           -2.4646464646464628,
           8.646464646464644,
           19.75757575757576,
           30.868686868686876,
           41.979797979797986,
           53.09090909090909
          ],
          [
           -46.888888888888886,
           -35.77777777777777,
           -24.666666666666668,
           -13.555555555555554,
           -2.444444444444443,
           8.666666666666664,
           19.777777777777782,
           30.888888888888896,
           42.00000000000001,
           53.111111111111114
          ],
          [
           -46.86868686868687,
           -35.75757575757576,
           -24.646464646464647,
           -13.535353535353533,
           -2.424242424242422,
           8.686868686868685,
           19.797979797979803,
           30.909090909090917,
           42.02020202020202,
           53.13131313131313
          ],
          [
           -46.84848484848485,
           -35.73737373737374,
           -24.626262626262626,
           -13.515151515151512,
           -2.404040404040402,
           8.707070707070706,
           19.818181818181824,
           30.929292929292938,
           42.04040404040404,
           53.15151515151515
          ],
          [
           -46.82828282828283,
           -35.717171717171716,
           -24.606060606060606,
           -13.494949494949491,
           -2.3838383838383823,
           8.727272727272725,
           19.838383838383844,
           30.94949494949496,
           42.06060606060606,
           53.17171717171717
          ],
          [
           -46.80808080808081,
           -35.696969696969695,
           -24.58585858585859,
           -13.474747474747474,
           -2.3636363636363615,
           8.747474747474746,
           19.85858585858586,
           30.969696969696976,
           42.08080808080808,
           53.19191919191919
          ],
          [
           -46.78787878787879,
           -35.676767676767675,
           -24.565656565656568,
           -13.454545454545453,
           -2.3434343434343416,
           8.767676767676765,
           19.878787878787882,
           30.989898989898997,
           42.101010101010104,
           53.21212121212121
          ],
          [
           -46.76767676767677,
           -35.656565656565654,
           -24.545454545454547,
           -13.434343434343432,
           -2.323232323232321,
           8.787878787878785,
           19.898989898989903,
           31.010101010101017,
           42.121212121212125,
           53.23232323232323
          ],
          [
           -46.74747474747475,
           -35.63636363636363,
           -24.525252525252526,
           -13.414141414141412,
           -2.303030303030301,
           8.808080808080806,
           19.919191919191924,
           31.03030303030304,
           42.141414141414145,
           53.25252525252525
          ],
          [
           -46.72727272727273,
           -35.61616161616161,
           -24.505050505050505,
           -13.393939393939391,
           -2.282828282828281,
           8.828282828282827,
           19.939393939393945,
           31.05050505050506,
           42.161616161616166,
           53.27272727272727
          ],
          [
           -46.707070707070706,
           -35.59595959595959,
           -24.484848484848484,
           -13.37373737373737,
           -2.2626262626262603,
           8.848484848484848,
           19.959595959595966,
           31.07070707070708,
           42.18181818181819,
           53.292929292929294
          ],
          [
           -46.686868686868685,
           -35.57575757575757,
           -24.464646464646464,
           -13.35353535353535,
           -2.2424242424242404,
           8.868686868686867,
           19.979797979797986,
           31.0909090909091,
           42.20202020202021,
           53.313131313131315
          ],
          [
           -46.666666666666664,
           -35.55555555555555,
           -24.444444444444446,
           -13.333333333333332,
           -2.2222222222222205,
           8.888888888888886,
           20.000000000000004,
           31.111111111111118,
           42.22222222222223,
           53.333333333333336
          ],
          [
           -46.64646464646464,
           -35.53535353535353,
           -24.424242424242426,
           -13.313131313131311,
           -2.2020202020201998,
           8.909090909090907,
           20.020202020202024,
           31.13131313131314,
           42.24242424242425,
           53.35353535353536
          ],
          [
           -46.62626262626263,
           -35.515151515151516,
           -24.404040404040405,
           -13.29292929292929,
           -2.18181818181818,
           8.929292929292927,
           20.040404040404045,
           31.15151515151516,
           42.26262626262627,
           53.37373737373737
          ],
          [
           -46.60606060606061,
           -35.494949494949495,
           -24.383838383838384,
           -13.27272727272727,
           -2.16161616161616,
           8.949494949494948,
           20.060606060606066,
           31.17171717171718,
           42.282828282828284,
           53.39393939393939
          ],
          [
           -46.58585858585859,
           -35.474747474747474,
           -24.363636363636363,
           -13.252525252525249,
           -2.141414141414139,
           8.969696969696969,
           20.080808080808087,
           31.1919191919192,
           42.303030303030305,
           53.41414141414141
          ],
          [
           -46.56565656565657,
           -35.45454545454545,
           -24.343434343434346,
           -13.232323232323232,
           -2.1212121212121193,
           8.989898989898988,
           20.101010101010104,
           31.212121212121218,
           42.323232323232325,
           53.43434343434343
          ],
          [
           -46.54545454545455,
           -35.43434343434343,
           -24.323232323232325,
           -13.212121212121211,
           -2.1010101010100994,
           9.010101010101007,
           20.121212121212125,
           31.23232323232324,
           42.343434343434346,
           53.45454545454545
          ],
          [
           -46.525252525252526,
           -35.41414141414141,
           -24.303030303030305,
           -13.19191919191919,
           -2.0808080808080787,
           9.030303030303028,
           20.141414141414145,
           31.25252525252526,
           42.36363636363637,
           53.474747474747474
          ],
          [
           -46.505050505050505,
           -35.39393939393939,
           -24.282828282828284,
           -13.17171717171717,
           -2.0606060606060588,
           9.050505050505048,
           20.161616161616166,
           31.27272727272728,
           42.38383838383839,
           53.494949494949495
          ],
          [
           -46.484848484848484,
           -35.37373737373737,
           -24.262626262626263,
           -13.151515151515149,
           -2.040404040404039,
           9.07070707070707,
           20.181818181818187,
           31.2929292929293,
           42.40404040404041,
           53.515151515151516
          ],
          [
           -46.464646464646464,
           -35.35353535353535,
           -24.242424242424242,
           -13.131313131313128,
           -2.020202020202018,
           9.09090909090909,
           20.202020202020208,
           31.313131313131322,
           42.42424242424243,
           53.535353535353536
          ],
          [
           -46.44444444444444,
           -35.33333333333333,
           -24.22222222222222,
           -13.111111111111107,
           -1.9999999999999982,
           9.111111111111109,
           20.22222222222223,
           31.333333333333343,
           42.44444444444445,
           53.55555555555556
          ],
          [
           -46.42424242424242,
           -35.31313131313131,
           -24.202020202020204,
           -13.09090909090909,
           -1.9797979797979774,
           9.13131313131313,
           20.242424242424246,
           31.35353535353536,
           42.46464646464647,
           53.57575757575758
          ],
          [
           -46.4040404040404,
           -35.29292929292929,
           -24.181818181818183,
           -13.07070707070707,
           -1.9595959595959576,
           9.151515151515149,
           20.262626262626267,
           31.37373737373738,
           42.48484848484849,
           53.5959595959596
          ],
          [
           -46.38383838383838,
           -35.272727272727266,
           -24.161616161616163,
           -13.050505050505048,
           -1.9393939393939377,
           9.17171717171717,
           20.282828282828287,
           31.3939393939394,
           42.50505050505051,
           53.61616161616162
          ],
          [
           -46.36363636363637,
           -35.25252525252525,
           -24.141414141414142,
           -13.030303030303028,
           -1.919191919191917,
           9.19191919191919,
           20.303030303030308,
           31.414141414141422,
           42.525252525252526,
           53.63636363636363
          ],
          [
           -46.343434343434346,
           -35.23232323232323,
           -24.12121212121212,
           -13.010101010101007,
           -1.898989898989897,
           9.212121212121211,
           20.32323232323233,
           31.434343434343443,
           42.54545454545455,
           53.656565656565654
          ],
          [
           -46.323232323232325,
           -35.21212121212121,
           -24.1010101010101,
           -12.989898989898988,
           -1.8787878787878771,
           9.23232323232323,
           20.34343434343435,
           31.454545454545464,
           42.56565656565657,
           53.676767676767675
          ],
          [
           -46.303030303030305,
           -35.19191919191919,
           -24.080808080808083,
           -12.969696969696967,
           -1.8585858585858563,
           9.25252525252525,
           20.363636363636367,
           31.47474747474748,
           42.58585858585859,
           53.696969696969695
          ],
          [
           -46.282828282828284,
           -35.17171717171717,
           -24.060606060606062,
           -12.949494949494946,
           -1.8383838383838365,
           9.27272727272727,
           20.383838383838388,
           31.494949494949502,
           42.60606060606061,
           53.717171717171716
          ],
          [
           -46.26262626262626,
           -35.15151515151515,
           -24.04040404040404,
           -12.929292929292927,
           -1.8181818181818166,
           9.29292929292929,
           20.40404040404041,
           31.515151515151523,
           42.62626262626263,
           53.73737373737374
          ],
          [
           -46.24242424242424,
           -35.13131313131313,
           -24.02020202020202,
           -12.909090909090907,
           -1.7979797979797958,
           9.313131313131311,
           20.42424242424243,
           31.535353535353543,
           42.64646464646465,
           53.75757575757576
          ],
          [
           -46.22222222222222,
           -35.11111111111111,
           -24.0,
           -12.888888888888886,
           -1.777777777777776,
           9.333333333333332,
           20.44444444444445,
           31.555555555555564,
           42.66666666666667,
           53.77777777777778
          ],
          [
           -46.2020202020202,
           -35.090909090909086,
           -23.97979797979798,
           -12.868686868686867,
           -1.757575757575756,
           9.353535353535351,
           20.46464646464647,
           31.575757575757585,
           42.68686868686869,
           53.7979797979798
          ],
          [
           -46.18181818181818,
           -35.070707070707066,
           -23.959595959595962,
           -12.848484848484846,
           -1.7373737373737352,
           9.373737373737372,
           20.484848484848488,
           31.595959595959602,
           42.70707070707071,
           53.81818181818182
          ],
          [
           -46.16161616161616,
           -35.050505050505045,
           -23.93939393939394,
           -12.828282828282825,
           -1.7171717171717154,
           9.393939393939391,
           20.50505050505051,
           31.616161616161623,
           42.727272727272734,
           53.83838383838384
          ],
          [
           -46.14141414141414,
           -35.030303030303024,
           -23.91919191919192,
           -12.808080808080806,
           -1.6969696969696955,
           9.414141414141412,
           20.52525252525253,
           31.636363636363644,
           42.747474747474755,
           53.85858585858586
          ],
          [
           -46.121212121212125,
           -35.01010101010101,
           -23.8989898989899,
           -12.787878787878785,
           -1.6767676767676747,
           9.434343434343432,
           20.54545454545455,
           31.656565656565665,
           42.767676767676775,
           53.878787878787875
          ],
          [
           -46.101010101010104,
           -34.98989898989899,
           -23.87878787878788,
           -12.767676767676765,
           -1.6565656565656548,
           9.454545454545453,
           20.56565656565657,
           31.676767676767685,
           42.78787878787879,
           53.898989898989896
          ],
          [
           -46.08080808080808,
           -34.96969696969697,
           -23.858585858585858,
           -12.747474747474746,
           -1.636363636363635,
           9.474747474747472,
           20.585858585858592,
           31.696969696969706,
           42.80808080808081,
           53.91919191919192
          ],
          [
           -46.06060606060606,
           -34.94949494949495,
           -23.83838383838384,
           -12.727272727272725,
           -1.6161616161616141,
           9.494949494949493,
           20.60606060606061,
           31.717171717171723,
           42.82828282828283,
           53.93939393939394
          ],
          [
           -46.04040404040404,
           -34.92929292929293,
           -23.81818181818182,
           -12.707070707070704,
           -1.5959595959595942,
           9.515151515151512,
           20.62626262626263,
           31.737373737373744,
           42.84848484848485,
           53.95959595959596
          ],
          [
           -46.02020202020202,
           -34.90909090909091,
           -23.7979797979798,
           -12.686868686868685,
           -1.5757575757575735,
           9.535353535353533,
           20.64646464646465,
           31.757575757575765,
           42.86868686868687,
           53.97979797979798
          ],
          [
           -46.0,
           -34.888888888888886,
           -23.77777777777778,
           -12.666666666666664,
           -1.5555555555555536,
           9.555555555555554,
           20.66666666666667,
           31.777777777777786,
           42.88888888888889,
           54.0
          ]
         ],
         "type": "surface"
        },
        {
         "marker": {
          "color": "black",
          "size": 2
         },
         "mode": "markers",
         "name": "Real (noise-less) Points",
         "x": [
          4.2450449569036905,
          -5.393690056583096,
          4.577150065256188,
          3.811886650552971,
          9.555569294828643,
          5.480748846223076,
          6.213700289185912,
          -2.5038171167891976,
          -0.5088608888761126,
          -9.491207300150213,
          2.8562183408437924,
          -7.510349853701879,
          1.4461137602296859,
          -2.0795968762275185,
          3.5559530918031896,
          9.508719624108942,
          -2.4300414540743986,
          7.150455385361099,
          -1.0579641225089382,
          8.588796513032815,
          -1.5927960357856463,
          1.1297397067361494,
          4.71472496412931,
          7.723613811261842,
          0.49200969735800726,
          -3.140104529281606,
          -3.2900747680897453,
          2.839420890572681,
          -3.187569376230175,
          1.166490948207537,
          4.86772702744857,
          3.714024458397178,
          1.2737774629062564,
          -1.8977684875757728,
          -0.8528878158641273,
          4.366190774600431,
          -4.021416428312687,
          7.935734646940535,
          8.541264382413246,
          -2.3047057764712235,
          7.851471183902806,
          3.9002725728922467,
          3.862410681247674,
          1.5386180190318317,
          -9.756849055380268,
          -6.195869857433385,
          -5.252679545489083,
          9.247176851197349,
          -4.843889627033033,
          -0.8419831856025422,
          -0.9423119957297494,
          -2.103053902547531,
          3.1079631976284716,
          -7.5417840881000675,
          8.54866194485069,
          5.066157825605062,
          4.284115132965095,
          -4.744059607716666,
          -3.940445818224905,
          3.187352472329083,
          -6.87268842595355,
          8.844659144355461,
          4.156949923223959,
          2.248285483826141,
          2.8962573541895154,
          -3.233575582032713,
          -3.2287939460763653,
          7.302525233254379,
          -8.098830046224366,
          -4.153481023618816,
          3.579571024362858,
          8.696673510755367,
          9.268228403205892,
          6.225647311477058,
          -9.679977985853798,
          -9.457492555094841,
          -5.412368866554176,
          1.9272729394466186,
          0.6814362408049401,
          -5.999004730929984,
          -4.0184270130058835,
          7.213222016241101,
          -7.3369959521661805,
          8.628279039320766,
          8.743337407608983,
          0.8520328195811011,
          -7.830161344833493,
          7.407336692248862,
          -8.992390079476705,
          2.7848957299072747,
          7.015298897904188,
          -5.014865310190528,
          -2.0539296104661915,
          -4.969647483363346,
          8.094927962642828,
          0.5557376420193787,
          7.153533814524433,
          3.9359330326297304,
          -4.396159330271329,
          -1.9543663829934044
         ],
         "y": [
          5.287777158588497,
          -2.797985949746968,
          4.475621013263137,
          5.22930531153486,
          -8.541271622724713,
          0.8366668946695626,
          2.9797161437683624,
          9.556335320688337,
          0.8362818967200347,
          -2.4724447275230865,
          -9.924111590061262,
          -8.69794942117462,
          -0.6265264294565469,
          -9.006285600273372,
          5.404676917373781,
          3.673865522596536,
          3.665771268769779,
          9.369831008833806,
          -1.3091401720453284,
          3.347668560625877,
          3.655147588871767,
          -5.368049891231483,
          -0.43574346545265286,
          2.845816387338971,
          -5.967919237920139,
          -3.281265478352906,
          6.382797386056819,
          -8.412713527245867,
          7.4088716442746865,
          3.5045655196501215,
          0.9090872843578985,
          5.828772572593222,
          2.438975411436786,
          6.495211791408973,
          -1.473097984984534,
          7.3098432819442785,
          8.358881139827151,
          4.384632178097247,
          0.44981837429928184,
          -3.276971935449904,
          -4.9787977563810815,
          -0.5667710242848045,
          9.334364833040638,
          7.507941821235889,
          5.630069639169228,
          7.8241078805888655,
          2.8364546452818544,
          -2.6517947544022435,
          4.594891649324733,
          2.9997529865736006,
          -7.825648500621021,
          -4.192701442602338,
          -2.8403383700925193,
          1.7188058339699488,
          -7.10018911374195,
          8.905695612451403,
          9.533210909207455,
          0.1192877977263116,
          -0.791472785672271,
          -9.219668279642155,
          -3.009971655028833,
          -9.070972196437276,
          1.4994051774309547,
          9.720654517989335,
          -8.618284121568802,
          -1.5368385306000434,
          -4.12143793527928,
          0.9344101429390061,
          1.8321666888647385,
          -2.593407835501198,
          8.724310202804446,
          9.212420140643324,
          -2.3078216838731773,
          -7.550303241272374,
          6.234768501560737,
          -7.646084689778738,
          -9.223663966152483,
          -0.8160291053888091,
          0.26329334440191765,
          -8.028659823907216,
          2.141899698522165,
          8.449858410148892,
          -3.6414036879616223,
          0.8221011233602482,
          9.778294075419488,
          6.990483924310883,
          -2.0659457251290743,
          -4.992290044712768,
          -5.616771988845364,
          2.5605683456220945,
          1.4015936432217657,
          -2.8909415615543166,
          3.8848557675311213,
          3.126496307027457,
          -0.7248327926342579,
          -9.723890829349354,
          9.262835955260197,
          6.160908349746791,
          5.487551587916995,
          5.671498715821766
         ],
         "z": [
          24.754002500377304,
          -24.248248877890177,
          26.33331242760725,
          22.58236378391834,
          49.92371931187075,
          30.487410920582334,
          34.3664730603064,
          -8.563452051877153,
          0.5393237452914406,
          -44.703280973503375,
          16.288680545212834,
          -35.42154421062686,
          10.167916158202775,
          -8.298612941164931,
          21.320233150753324,
          50.91098467280436,
          -8.783630143495015,
          39.689260027688874,
          -2.420734629749224,
          46.278749421226664,
          -4.598465420041055,
          8.1118935445576,
          26.530050474101284,
          41.90265069504311,
          4.863256562998022,
          -13.028649194243322,
          -12.812094101843044,
          16.355833100138817,
          -12.196959716723407,
          9.182911293002697,
          27.42954386567864,
          22.152999549245212,
          9.61278485567496,
          -5.839321258737966,
          -1.4117488778190896,
          25.561938201196586,
          -16.27119402758072,
          43.1171364525124,
          45.75130374949616,
          -8.851226075901108,
          41.759476143875915,
          22.444685762032755,
          23.245489889542434,
          11.443884277282747,
          -45.221238312984426,
          -27.19693849910804,
          -22.97975226291723,
          48.97070478054652,
          -20.75995897023269,
          -0.9099406293553507,
          -2.4941248287108495,
          -7.934539656997888,
          18.255782151133104,
          -34.53703985710334,
          45.03329081287926,
          29.22135868927045,
          25.37389675574622,
          -20.7083692588107,
          -16.781376369691753,
          18.014795533681202,
          -31.664439295270633,
          46.316198502133574,
          23.934690133862887,
          15.213492870929638,
          16.619458358790695,
          -13.32156176322357,
          -13.556113523909755,
          39.606067180565795,
          -37.310933562235356,
          -18.0267459016442,
          21.770286142094733,
          47.40460956784117,
          49.11035984764215,
          33.37320623325805,
          -44.77641307911291,
          -45.05207124445209,
          -24.984210729386128,
          12.554761786694211,
          6.433510538464892,
          -27.79788963704064,
          -16.8779450951772,
          39.9110959222204,
          -34.04912012962706,
          46.22360530893985,
          47.69451644558686,
          7.9592124903365935,
          -36.35740129668037,
          39.537454456773034,
          -42.523627596268064,
          17.180535484098584,
          38.21665385384311,
          -22.363420707108073,
          -6.881162475577845,
          -21.535587786113982,
          43.402156533950716,
          4.806299127161958,
          39.69395266814819,
          23.29575599812333,
          -18.43204149256495,
          -6.204682043384846
         ],
         "type": "scatter3d"
        },
        {
         "marker": {
          "color": "red",
          "size": 2
         },
         "mode": "markers",
         "name": "Observed Points",
         "x": [
          4.2450449569036905,
          -5.393690056583096,
          4.577150065256188,
          3.811886650552971,
          9.555569294828643,
          5.480748846223076,
          6.213700289185912,
          -2.5038171167891976,
          -0.5088608888761126,
          -9.491207300150213,
          2.8562183408437924,
          -7.510349853701879,
          1.4461137602296859,
          -2.0795968762275185,
          3.5559530918031896,
          9.508719624108942,
          -2.4300414540743986,
          7.150455385361099,
          -1.0579641225089382,
          8.588796513032815,
          -1.5927960357856463,
          1.1297397067361494,
          4.71472496412931,
          7.723613811261842,
          0.49200969735800726,
          -3.140104529281606,
          -3.2900747680897453,
          2.839420890572681,
          -3.187569376230175,
          1.166490948207537,
          4.86772702744857,
          3.714024458397178,
          1.2737774629062564,
          -1.8977684875757728,
          -0.8528878158641273,
          4.366190774600431,
          -4.021416428312687,
          7.935734646940535,
          8.541264382413246,
          -2.3047057764712235,
          7.851471183902806,
          3.9002725728922467,
          3.862410681247674,
          1.5386180190318317,
          -9.756849055380268,
          -6.195869857433385,
          -5.252679545489083,
          9.247176851197349,
          -4.843889627033033,
          -0.8419831856025422,
          -0.9423119957297494,
          -2.103053902547531,
          3.1079631976284716,
          -7.5417840881000675,
          8.54866194485069,
          5.066157825605062,
          4.284115132965095,
          -4.744059607716666,
          -3.940445818224905,
          3.187352472329083,
          -6.87268842595355,
          8.844659144355461,
          4.156949923223959,
          2.248285483826141,
          2.8962573541895154,
          -3.233575582032713,
          -3.2287939460763653,
          7.302525233254379,
          -8.098830046224366,
          -4.153481023618816,
          3.579571024362858,
          8.696673510755367,
          9.268228403205892,
          6.225647311477058,
          -9.679977985853798,
          -9.457492555094841,
          -5.412368866554176,
          1.9272729394466186,
          0.6814362408049401,
          -5.999004730929984,
          -4.0184270130058835,
          7.213222016241101,
          -7.3369959521661805,
          8.628279039320766,
          8.743337407608983,
          0.8520328195811011,
          -7.830161344833493,
          7.407336692248862,
          -8.992390079476705,
          2.7848957299072747,
          7.015298897904188,
          -5.014865310190528,
          -2.0539296104661915,
          -4.969647483363346,
          8.094927962642828,
          0.5557376420193787,
          7.153533814524433,
          3.9359330326297304,
          -4.396159330271329,
          -1.9543663829934044
         ],
         "y": [
          5.287777158588497,
          -2.797985949746968,
          4.475621013263137,
          5.22930531153486,
          -8.541271622724713,
          0.8366668946695626,
          2.9797161437683624,
          9.556335320688337,
          0.8362818967200347,
          -2.4724447275230865,
          -9.924111590061262,
          -8.69794942117462,
          -0.6265264294565469,
          -9.006285600273372,
          5.404676917373781,
          3.673865522596536,
          3.665771268769779,
          9.369831008833806,
          -1.3091401720453284,
          3.347668560625877,
          3.655147588871767,
          -5.368049891231483,
          -0.43574346545265286,
          2.845816387338971,
          -5.967919237920139,
          -3.281265478352906,
          6.382797386056819,
          -8.412713527245867,
          7.4088716442746865,
          3.5045655196501215,
          0.9090872843578985,
          5.828772572593222,
          2.438975411436786,
          6.495211791408973,
          -1.473097984984534,
          7.3098432819442785,
          8.358881139827151,
          4.384632178097247,
          0.44981837429928184,
          -3.276971935449904,
          -4.9787977563810815,
          -0.5667710242848045,
          9.334364833040638,
          7.507941821235889,
          5.630069639169228,
          7.8241078805888655,
          2.8364546452818544,
          -2.6517947544022435,
          4.594891649324733,
          2.9997529865736006,
          -7.825648500621021,
          -4.192701442602338,
          -2.8403383700925193,
          1.7188058339699488,
          -7.10018911374195,
          8.905695612451403,
          9.533210909207455,
          0.1192877977263116,
          -0.791472785672271,
          -9.219668279642155,
          -3.009971655028833,
          -9.070972196437276,
          1.4994051774309547,
          9.720654517989335,
          -8.618284121568802,
          -1.5368385306000434,
          -4.12143793527928,
          0.9344101429390061,
          1.8321666888647385,
          -2.593407835501198,
          8.724310202804446,
          9.212420140643324,
          -2.3078216838731773,
          -7.550303241272374,
          6.234768501560737,
          -7.646084689778738,
          -9.223663966152483,
          -0.8160291053888091,
          0.26329334440191765,
          -8.028659823907216,
          2.141899698522165,
          8.449858410148892,
          -3.6414036879616223,
          0.8221011233602482,
          9.778294075419488,
          6.990483924310883,
          -2.0659457251290743,
          -4.992290044712768,
          -5.616771988845364,
          2.5605683456220945,
          1.4015936432217657,
          -2.8909415615543166,
          3.8848557675311213,
          3.126496307027457,
          -0.7248327926342579,
          -9.723890829349354,
          9.262835955260197,
          6.160908349746791,
          5.487551587916995,
          5.671498715821766
         ],
         "z": [
          -18.19711183511719,
          -43.65030947784514,
          8.891006979432294,
          2.868185708787774,
          58.84234694083143,
          -31.860312485058536,
          16.619639180227246,
          35.60777141913891,
          -24.852953957478782,
          -75.40883490968687,
          8.607400246072537,
          -96.66808109328205,
          22.35071737020719,
          -48.170277249945315,
          43.33735391475305,
          18.17020529755939,
          18.566739856727317,
          -0.06805126266748118,
          49.80972990414934,
          8.195220346129531,
          52.16490825584944,
          7.380269722672117,
          55.196074079682916,
          73.02681673635935,
          -66.16367576189523,
          -9.74317103010834,
          -60.76531965905333,
          3.604783773954507,
          -59.55848580445103,
          54.16683366329429,
          4.936463048241642,
          16.486173470397635,
          27.578822480245783,
          -29.208670432017847,
          29.132339332053377,
          73.00799991367593,
          0.29487595642551767,
          70.07221224901029,
          9.594726768261182,
          -43.71693733469017,
          77.13695431924853,
          39.62928751057575,
          -13.72118971117905,
          13.361382736351322,
          -50.1757923209581,
          -58.89925335460906,
          3.931990403805017,
          -23.376283622852874,
          36.27812132135267,
          -54.61923508214578,
          10.454249499900598,
          -39.02726845489353,
          15.048254268006524,
          -38.097150802676005,
          52.30623511712461,
          39.18272803715037,
          49.30371069657028,
          -29.517015183446265,
          -81.19551540269539,
          57.392067697778245,
          -51.380408731630496,
          21.279139012649022,
          13.680136755850366,
          23.012284827000613,
          -19.952772108326805,
          -31.29212298541061,
          -22.48381647711103,
          61.21625490957568,
          -56.50846359254261,
          31.19232790919074,
          20.77102525309956,
          38.62485218747767,
          53.266654485471825,
          25.87451038297555,
          -95.45467243266503,
          -23.673441734120942,
          -111.55288222554569,
          9.43838409930803,
          32.72175596609176,
          28.676681495118252,
          -61.33461164217276,
          91.6188256435756,
          7.901378856427698,
          22.300222836678998,
          71.38292863113766,
          37.420655880121316,
          -43.97052999346441,
          40.64681268939993,
          -54.045424442867414,
          40.73914248203486,
          80.3074721708874,
          -12.219925563507426,
          -6.415237327431041,
          -11.645954114789758,
          87.8463393920391,
          -1.4340269338928815,
          27.96555437316359,
          23.061307123177514,
          -0.32674100766841363,
          -0.5660137613962721
         ],
         "type": "scatter3d"
        },
        {
         "marker": {
          "color": "blue",
          "size": 2
         },
         "mode": "markers",
         "name": "Predicted Points",
         "x": [
          4.2450449569036905,
          -5.393690056583096,
          4.577150065256188,
          3.811886650552971,
          9.555569294828643,
          5.480748846223076,
          6.213700289185912,
          -2.5038171167891976,
          -0.5088608888761126,
          -9.491207300150213,
          2.8562183408437924,
          -7.510349853701879,
          1.4461137602296859,
          -2.0795968762275185,
          3.5559530918031896,
          9.508719624108942,
          -2.4300414540743986,
          7.150455385361099,
          -1.0579641225089382,
          8.588796513032815,
          -1.5927960357856463,
          1.1297397067361494,
          4.71472496412931,
          7.723613811261842,
          0.49200969735800726,
          -3.140104529281606,
          -3.2900747680897453,
          2.839420890572681,
          -3.187569376230175,
          1.166490948207537,
          4.86772702744857,
          3.714024458397178,
          1.2737774629062564,
          -1.8977684875757728,
          -0.8528878158641273,
          4.366190774600431,
          -4.021416428312687,
          7.935734646940535,
          8.541264382413246,
          -2.3047057764712235,
          7.851471183902806,
          3.9002725728922467,
          3.862410681247674,
          1.5386180190318317,
          -9.756849055380268,
          -6.195869857433385,
          -5.252679545489083,
          9.247176851197349,
          -4.843889627033033,
          -0.8419831856025422,
          -0.9423119957297494,
          -2.103053902547531,
          3.1079631976284716,
          -7.5417840881000675,
          8.54866194485069,
          5.066157825605062,
          4.284115132965095,
          -4.744059607716666,
          -3.940445818224905,
          3.187352472329083,
          -6.87268842595355,
          8.844659144355461,
          4.156949923223959,
          2.248285483826141,
          2.8962573541895154,
          -3.233575582032713,
          -3.2287939460763653,
          7.302525233254379,
          -8.098830046224366,
          -4.153481023618816,
          3.579571024362858,
          8.696673510755367,
          9.268228403205892,
          6.225647311477058,
          -9.679977985853798,
          -9.457492555094841,
          -5.412368866554176,
          1.9272729394466186,
          0.6814362408049401,
          -5.999004730929984,
          -4.0184270130058835,
          7.213222016241101,
          -7.3369959521661805,
          8.628279039320766,
          8.743337407608983,
          0.8520328195811011,
          -7.830161344833493,
          7.407336692248862,
          -8.992390079476705,
          2.7848957299072747,
          7.015298897904188,
          -5.014865310190528,
          -2.0539296104661915,
          -4.969647483363346,
          8.094927962642828,
          0.5557376420193787,
          7.153533814524433,
          3.9359330326297304,
          -4.396159330271329,
          -1.9543663829934044
         ],
         "y": [
          5.287777158588497,
          -2.797985949746968,
          4.475621013263137,
          5.22930531153486,
          -8.541271622724713,
          0.8366668946695626,
          2.9797161437683624,
          9.556335320688337,
          0.8362818967200347,
          -2.4724447275230865,
          -9.924111590061262,
          -8.69794942117462,
          -0.6265264294565469,
          -9.006285600273372,
          5.404676917373781,
          3.673865522596536,
          3.665771268769779,
          9.369831008833806,
          -1.3091401720453284,
          3.347668560625877,
          3.655147588871767,
          -5.368049891231483,
          -0.43574346545265286,
          2.845816387338971,
          -5.967919237920139,
          -3.281265478352906,
          6.382797386056819,
          -8.412713527245867,
          7.4088716442746865,
          3.5045655196501215,
          0.9090872843578985,
          5.828772572593222,
          2.438975411436786,
          6.495211791408973,
          -1.473097984984534,
          7.3098432819442785,
          8.358881139827151,
          4.384632178097247,
          0.44981837429928184,
          -3.276971935449904,
          -4.9787977563810815,
          -0.5667710242848045,
          9.334364833040638,
          7.507941821235889,
          5.630069639169228,
          7.8241078805888655,
          2.8364546452818544,
          -2.6517947544022435,
          4.594891649324733,
          2.9997529865736006,
          -7.825648500621021,
          -4.192701442602338,
          -2.8403383700925193,
          1.7188058339699488,
          -7.10018911374195,
          8.905695612451403,
          9.533210909207455,
          0.1192877977263116,
          -0.791472785672271,
          -9.219668279642155,
          -3.009971655028833,
          -9.070972196437276,
          1.4994051774309547,
          9.720654517989335,
          -8.618284121568802,
          -1.5368385306000434,
          -4.12143793527928,
          0.9344101429390061,
          1.8321666888647385,
          -2.593407835501198,
          8.724310202804446,
          9.212420140643324,
          -2.3078216838731773,
          -7.550303241272374,
          6.234768501560737,
          -7.646084689778738,
          -9.223663966152483,
          -0.8160291053888091,
          0.26329334440191765,
          -8.028659823907216,
          2.141899698522165,
          8.449858410148892,
          -3.6414036879616223,
          0.8221011233602482,
          9.778294075419488,
          6.990483924310883,
          -2.0659457251290743,
          -4.992290044712768,
          -5.616771988845364,
          2.5605683456220945,
          1.4015936432217657,
          -2.8909415615543166,
          3.8848557675311213,
          3.126496307027457,
          -0.7248327926342579,
          -9.723890829349354,
          9.262835955260197,
          6.160908349746791,
          5.487551587916995,
          5.671498715821766
         ],
         "z": [
          26.205409054178354,
          -31.565576294273406,
          27.361860461350467,
          23.842364191141243,
          44.05357959176453,
          29.415479767428685,
          34.9770733054684,
          -6.651568321548286,
          -2.6421755775258298,
          -53.24722133472702,
          7.140156831814443,
          -47.405788784766166,
          6.702604169460486,
          -18.575294134766757,
          22.606667208791904,
          53.14334324295078,
          -10.761028200531003,
          44.87704735521393,
          -7.2215981529484745,
          47.97033381818186,
          -6.288078757684696,
          1.3836331188984001,
          24.342625894239227,
          42.95598620541244,
          -2.4883013473399487,
          -19.873569567015792,
          -13.286445872796124,
          8.205970182908112,
          -11.95321543092111,
          8.364926757454603,
          26.189865224931694,
          23.77698264946492,
          8.124320101041942,
          -5.748637690085004,
          -6.249369667779087,
          28.40000805369918,
          -15.689659057392502,
          45.267972710270186,
          45.500044131883556,
          -15.399097070712243,
          37.65707636528289,
          19.883352412910916,
          27.251779993353743,
          13.417860304809624,
          -48.473254722540446,
          -27.736609222216956,
          -26.502395163519736,
          46.906501144302325,
          -22.96986682372917,
          -2.770765374105194,
          -11.585567267046413,
          -15.02005161133377,
          13.90426274750733,
          -39.60868227173802,
          39.76639649807399,
          33.36664043181753,
          29.660861494389742,
          -25.857906382382268,
          -22.253263728945143,
          9.451104770702889,
          -39.64351344511923,
          39.84362889930101,
          22.837067631562306,
          18.908103552678824,
          8.352975114656632,
          -19.039936281158525,
          -20.990701725395553,
          39.24066293864229,
          -42.50339912886213,
          -24.771342668507927,
          25.27148779736457,
          53.032290201193796,
          47.28219726945594,
          26.98905875093351,
          -47.59943512821835,
          -57.02288563158128,
          -36.57905139805867,
          9.132939572813369,
          3.290341993485344,
          -38.80504143796589,
          -20.42757895504065,
          44.50951195841525,
          -42.61139764685317,
          46.25043294634977,
          53.71474798135167,
          9.347462257467669,
          -44.04619815867966,
          35.269679559916774,
          -52.98183369853259,
          16.305047786601413,
          38.060620837607125,
          -29.609125000920777,
          -8.580490067768244,
          -24.765776498134954,
          42.21296252685254,
          -5.019286106953325,
          44.811708033860796,
          25.21864648789532,
          -19.890954313002823,
          -6.6814248872220965
         ],
         "type": "scatter3d"
        }
       ],
       "layout": {
        "scene": {
         "camera": {
          "eye": {
           "x": -1,
           "y": -2,
           "z": 0.5
          }
         },
         "xaxis": {
          "title": {
           "text": "Feature 1"
          }
         },
         "yaxis": {
          "title": {
           "text": "Feature 2"
          }
         },
         "zaxis": {
          "title": {
           "text": "Response"
          }
         }
        },
        "title": {
         "text": "$\\text{(4) Bivariate Linear Regression}$"
        },
        "template": {
         "data": {
          "barpolar": [
           {
            "marker": {
             "line": {
              "color": "white",
              "width": 0.5
             },
             "pattern": {
              "fillmode": "overlay",
              "size": 10,
              "solidity": 0.2
             }
            },
            "type": "barpolar"
           }
          ],
          "bar": [
           {
            "error_x": {
             "color": "rgb(36,36,36)"
            },
            "error_y": {
             "color": "rgb(36,36,36)"
            },
            "marker": {
             "line": {
              "color": "white",
              "width": 0.5
             },
             "pattern": {
              "fillmode": "overlay",
              "size": 10,
              "solidity": 0.2
             }
            },
            "type": "bar"
           }
          ],
          "carpet": [
           {
            "aaxis": {
             "endlinecolor": "rgb(36,36,36)",
             "gridcolor": "white",
             "linecolor": "white",
             "minorgridcolor": "white",
             "startlinecolor": "rgb(36,36,36)"
            },
            "baxis": {
             "endlinecolor": "rgb(36,36,36)",
             "gridcolor": "white",
             "linecolor": "white",
             "minorgridcolor": "white",
             "startlinecolor": "rgb(36,36,36)"
            },
            "type": "carpet"
           }
          ],
          "choropleth": [
           {
            "colorbar": {
             "outlinewidth": 1,
             "tickcolor": "rgb(36,36,36)",
             "ticks": "outside"
            },
            "type": "choropleth"
           }
          ],
          "contourcarpet": [
           {
            "colorbar": {
             "outlinewidth": 1,
             "tickcolor": "rgb(36,36,36)",
             "ticks": "outside"
            },
            "type": "contourcarpet"
           }
          ],
          "contour": [
           {
            "colorbar": {
             "outlinewidth": 1,
             "tickcolor": "rgb(36,36,36)",
             "ticks": "outside"
            },
            "colorscale": [
             [
              0.0,
              "#440154"
             ],
             [
              0.1111111111111111,
              "#482878"
             ],
             [
              0.2222222222222222,
              "#3e4989"
             ],
             [
              0.3333333333333333,
              "#31688e"
             ],
             [
              0.4444444444444444,
              "#26828e"
             ],
             [
              0.5555555555555556,
              "#1f9e89"
             ],
             [
              0.6666666666666666,
              "#35b779"
             ],
             [
              0.7777777777777778,
              "#6ece58"
             ],
             [
              0.8888888888888888,
              "#b5de2b"
             ],
             [
              1.0,
              "#fde725"
             ]
            ],
            "type": "contour"
           }
          ],
          "heatmapgl": [
           {
            "colorbar": {
             "outlinewidth": 1,
             "tickcolor": "rgb(36,36,36)",
             "ticks": "outside"
            },
            "colorscale": [
             [
              0.0,
              "#440154"
             ],
             [
              0.1111111111111111,
              "#482878"
             ],
             [
              0.2222222222222222,
              "#3e4989"
             ],
             [
              0.3333333333333333,
              "#31688e"
             ],
             [
              0.4444444444444444,
              "#26828e"
             ],
             [
              0.5555555555555556,
              "#1f9e89"
             ],
             [
              0.6666666666666666,
              "#35b779"
             ],
             [
              0.7777777777777778,
              "#6ece58"
             ],
             [
              0.8888888888888888,
              "#b5de2b"
             ],
             [
              1.0,
              "#fde725"
             ]
            ],
            "type": "heatmapgl"
           }
          ],
          "heatmap": [
           {
            "colorbar": {
             "outlinewidth": 1,
             "tickcolor": "rgb(36,36,36)",
             "ticks": "outside"
            },
            "colorscale": [
             [
              0.0,
              "#440154"
             ],
             [
              0.1111111111111111,
              "#482878"
             ],
             [
              0.2222222222222222,
              "#3e4989"
             ],
             [
              0.3333333333333333,
              "#31688e"
             ],
             [
              0.4444444444444444,
              "#26828e"
             ],
             [
              0.5555555555555556,
              "#1f9e89"
             ],
             [
              0.6666666666666666,
              "#35b779"
             ],
             [
              0.7777777777777778,
              "#6ece58"
             ],
             [
              0.8888888888888888,
              "#b5de2b"
             ],
             [
              1.0,
              "#fde725"
             ]
            ],
            "type": "heatmap"
           }
          ],
          "histogram2dcontour": [
           {
            "colorbar": {
             "outlinewidth": 1,
             "tickcolor": "rgb(36,36,36)",
             "ticks": "outside"
            },
            "colorscale": [
             [
              0.0,
              "#440154"
             ],
             [
              0.1111111111111111,
              "#482878"
             ],
             [
              0.2222222222222222,
              "#3e4989"
             ],
             [
              0.3333333333333333,
              "#31688e"
             ],
             [
              0.4444444444444444,
              "#26828e"
             ],
             [
              0.5555555555555556,
              "#1f9e89"
             ],
             [
              0.6666666666666666,
              "#35b779"
             ],
             [
              0.7777777777777778,
              "#6ece58"
             ],
             [
              0.8888888888888888,
              "#b5de2b"
             ],
             [
              1.0,
              "#fde725"
             ]
            ],
            "type": "histogram2dcontour"
           }
          ],
          "histogram2d": [
           {
            "colorbar": {
             "outlinewidth": 1,
             "tickcolor": "rgb(36,36,36)",
             "ticks": "outside"
            },
            "colorscale": [
             [
              0.0,
              "#440154"
             ],
             [
              0.1111111111111111,
              "#482878"
             ],
             [
              0.2222222222222222,
              "#3e4989"
             ],
             [
              0.3333333333333333,
              "#31688e"
             ],
             [
              0.4444444444444444,
              "#26828e"
             ],
             [
              0.5555555555555556,
              "#1f9e89"
             ],
             [
              0.6666666666666666,
              "#35b779"
             ],
             [
              0.7777777777777778,
              "#6ece58"
             ],
             [
              0.8888888888888888,
              "#b5de2b"
             ],
             [
              1.0,
              "#fde725"
             ]
            ],
            "type": "histogram2d"
           }
          ],
          "histogram": [
           {
            "marker": {
             "line": {
              "color": "white",
              "width": 0.6
             }
            },
            "type": "histogram"
           }
          ],
          "mesh3d": [
           {
            "colorbar": {
             "outlinewidth": 1,
             "tickcolor": "rgb(36,36,36)",
             "ticks": "outside"
            },
            "type": "mesh3d"
           }
          ],
          "parcoords": [
           {
            "line": {
             "colorbar": {
              "outlinewidth": 1,
              "tickcolor": "rgb(36,36,36)",
              "ticks": "outside"
             }
            },
            "type": "parcoords"
           }
          ],
          "pie": [
           {
            "automargin": true,
            "type": "pie"
           }
          ],
          "scatter3d": [
           {
            "line": {
             "colorbar": {
              "outlinewidth": 1,
              "tickcolor": "rgb(36,36,36)",
              "ticks": "outside"
             }
            },
            "marker": {
             "colorbar": {
              "outlinewidth": 1,
              "tickcolor": "rgb(36,36,36)",
              "ticks": "outside"
             }
            },
            "type": "scatter3d"
           }
          ],
          "scattercarpet": [
           {
            "marker": {
             "colorbar": {
              "outlinewidth": 1,
              "tickcolor": "rgb(36,36,36)",
              "ticks": "outside"
             }
            },
            "type": "scattercarpet"
           }
          ],
          "scattergeo": [
           {
            "marker": {
             "colorbar": {
              "outlinewidth": 1,
              "tickcolor": "rgb(36,36,36)",
              "ticks": "outside"
             }
            },
            "type": "scattergeo"
           }
          ],
          "scattergl": [
           {
            "marker": {
             "colorbar": {
              "outlinewidth": 1,
              "tickcolor": "rgb(36,36,36)",
              "ticks": "outside"
             }
            },
            "type": "scattergl"
           }
          ],
          "scattermapbox": [
           {
            "marker": {
             "colorbar": {
              "outlinewidth": 1,
              "tickcolor": "rgb(36,36,36)",
              "ticks": "outside"
             }
            },
            "type": "scattermapbox"
           }
          ],
          "scatterpolargl": [
           {
            "marker": {
             "colorbar": {
              "outlinewidth": 1,
              "tickcolor": "rgb(36,36,36)",
              "ticks": "outside"
             }
            },
            "type": "scatterpolargl"
           }
          ],
          "scatterpolar": [
           {
            "marker": {
             "colorbar": {
              "outlinewidth": 1,
              "tickcolor": "rgb(36,36,36)",
              "ticks": "outside"
             }
            },
            "type": "scatterpolar"
           }
          ],
          "scatter": [
           {
            "marker": {
             "colorbar": {
              "outlinewidth": 1,
              "tickcolor": "rgb(36,36,36)",
              "ticks": "outside"
             }
            },
            "type": "scatter"
           }
          ],
          "scatterternary": [
           {
            "marker": {
             "colorbar": {
              "outlinewidth": 1,
              "tickcolor": "rgb(36,36,36)",
              "ticks": "outside"
             }
            },
            "type": "scatterternary"
           }
          ],
          "surface": [
           {
            "colorbar": {
             "outlinewidth": 1,
             "tickcolor": "rgb(36,36,36)",
             "ticks": "outside"
            },
            "colorscale": [
             [
              0.0,
              "#440154"
             ],
             [
              0.1111111111111111,
              "#482878"
             ],
             [
              0.2222222222222222,
              "#3e4989"
             ],
             [
              0.3333333333333333,
              "#31688e"
             ],
             [
              0.4444444444444444,
              "#26828e"
             ],
             [
              0.5555555555555556,
              "#1f9e89"
             ],
             [
              0.6666666666666666,
              "#35b779"
             ],
             [
              0.7777777777777778,
              "#6ece58"
             ],
             [
              0.8888888888888888,
              "#b5de2b"
             ],
             [
              1.0,
              "#fde725"
             ]
            ],
            "type": "surface"
           }
          ],
          "table": [
           {
            "cells": {
             "fill": {
              "color": "rgb(237,237,237)"
             },
             "line": {
              "color": "white"
             }
            },
            "header": {
             "fill": {
              "color": "rgb(217,217,217)"
             },
             "line": {
              "color": "white"
             }
            },
            "type": "table"
           }
          ]
         },
         "layout": {
          "annotationdefaults": {
           "arrowhead": 0,
           "arrowwidth": 1
          },
          "autotypenumbers": "strict",
          "coloraxis": {
           "colorbar": {
            "outlinewidth": 1,
            "tickcolor": "rgb(36,36,36)",
            "ticks": "outside"
           }
          },
          "colorscale": {
           "diverging": [
            [
             0.0,
             "rgb(103,0,31)"
            ],
            [
             0.1,
             "rgb(178,24,43)"
            ],
            [
             0.2,
             "rgb(214,96,77)"
            ],
            [
             0.3,
             "rgb(244,165,130)"
            ],
            [
             0.4,
             "rgb(253,219,199)"
            ],
            [
             0.5,
             "rgb(247,247,247)"
            ],
            [
             0.6,
             "rgb(209,229,240)"
            ],
            [
             0.7,
             "rgb(146,197,222)"
            ],
            [
             0.8,
             "rgb(67,147,195)"
            ],
            [
             0.9,
             "rgb(33,102,172)"
            ],
            [
             1.0,
             "rgb(5,48,97)"
            ]
           ],
           "sequential": [
            [
             0.0,
             "#440154"
            ],
            [
             0.1111111111111111,
             "#482878"
            ],
            [
             0.2222222222222222,
             "#3e4989"
            ],
            [
             0.3333333333333333,
             "#31688e"
            ],
            [
             0.4444444444444444,
             "#26828e"
            ],
            [
             0.5555555555555556,
             "#1f9e89"
            ],
            [
             0.6666666666666666,
             "#35b779"
            ],
            [
             0.7777777777777778,
             "#6ece58"
            ],
            [
             0.8888888888888888,
             "#b5de2b"
            ],
            [
             1.0,
             "#fde725"
            ]
           ],
           "sequentialminus": [
            [
             0.0,
             "#440154"
            ],
            [
             0.1111111111111111,
             "#482878"
            ],
            [
             0.2222222222222222,
             "#3e4989"
            ],
            [
             0.3333333333333333,
             "#31688e"
            ],
            [
             0.4444444444444444,
             "#26828e"
            ],
            [
             0.5555555555555556,
             "#1f9e89"
            ],
            [
             0.6666666666666666,
             "#35b779"
            ],
            [
             0.7777777777777778,
             "#6ece58"
            ],
            [
             0.8888888888888888,
             "#b5de2b"
            ],
            [
             1.0,
             "#fde725"
            ]
           ]
          },
          "colorway": [
           "#1F77B4",
           "#FF7F0E",
           "#2CA02C",
           "#D62728",
           "#9467BD",
           "#8C564B",
           "#E377C2",
           "#7F7F7F",
           "#BCBD22",
           "#17BECF"
          ],
          "font": {
           "color": "rgb(36,36,36)"
          },
          "geo": {
           "bgcolor": "white",
           "lakecolor": "white",
           "landcolor": "white",
           "showlakes": true,
           "showland": true,
           "subunitcolor": "white"
          },
          "hoverlabel": {
           "align": "left"
          },
          "hovermode": "closest",
          "mapbox": {
           "style": "light"
          },
          "paper_bgcolor": "white",
          "plot_bgcolor": "white",
          "polar": {
           "angularaxis": {
            "gridcolor": "rgb(232,232,232)",
            "linecolor": "rgb(36,36,36)",
            "showgrid": false,
            "showline": true,
            "ticks": "outside"
           },
           "bgcolor": "white",
           "radialaxis": {
            "gridcolor": "rgb(232,232,232)",
            "linecolor": "rgb(36,36,36)",
            "showgrid": false,
            "showline": true,
            "ticks": "outside"
           }
          },
          "scene": {
           "xaxis": {
            "backgroundcolor": "white",
            "gridcolor": "rgb(232,232,232)",
            "gridwidth": 2,
            "linecolor": "rgb(36,36,36)",
            "showbackground": true,
            "showgrid": false,
            "showline": true,
            "ticks": "outside",
            "zeroline": false,
            "zerolinecolor": "rgb(36,36,36)"
           },
           "yaxis": {
            "backgroundcolor": "white",
            "gridcolor": "rgb(232,232,232)",
            "gridwidth": 2,
            "linecolor": "rgb(36,36,36)",
            "showbackground": true,
            "showgrid": false,
            "showline": true,
            "ticks": "outside",
            "zeroline": false,
            "zerolinecolor": "rgb(36,36,36)"
           },
           "zaxis": {
            "backgroundcolor": "white",
            "gridcolor": "rgb(232,232,232)",
            "gridwidth": 2,
            "linecolor": "rgb(36,36,36)",
            "showbackground": true,
            "showgrid": false,
            "showline": true,
            "ticks": "outside",
            "zeroline": false,
            "zerolinecolor": "rgb(36,36,36)"
           }
          },
          "shapedefaults": {
           "fillcolor": "black",
           "line": {
            "width": 0
           },
           "opacity": 0.3
          },
          "ternary": {
           "aaxis": {
            "gridcolor": "rgb(232,232,232)",
            "linecolor": "rgb(36,36,36)",
            "showgrid": false,
            "showline": true,
            "ticks": "outside"
           },
           "baxis": {
            "gridcolor": "rgb(232,232,232)",
            "linecolor": "rgb(36,36,36)",
            "showgrid": false,
            "showline": true,
            "ticks": "outside"
           },
           "bgcolor": "white",
           "caxis": {
            "gridcolor": "rgb(232,232,232)",
            "linecolor": "rgb(36,36,36)",
            "showgrid": false,
            "showline": true,
            "ticks": "outside"
           }
          },
          "title": {
           "x": 0.05
          },
          "xaxis": {
           "automargin": true,
           "gridcolor": "rgb(232,232,232)",
           "linecolor": "rgb(36,36,36)",
           "showgrid": false,
           "showline": true,
           "ticks": "outside",
           "title": {
            "standoff": 15
           },
           "zeroline": false,
           "zerolinecolor": "rgb(36,36,36)"
          },
          "yaxis": {
           "automargin": true,
           "gridcolor": "rgb(232,232,232)",
           "linecolor": "rgb(36,36,36)",
           "showgrid": false,
           "showline": true,
           "ticks": "outside",
           "title": {
            "standoff": 15
           },
           "zeroline": false,
           "zerolinecolor": "rgb(36,36,36)"
          },
          "margin": {
           "b": 0,
           "l": 20,
           "r": 20,
           "t": 40
          }
         }
        }
       },
       "config": {
        "plotlyServerURL": "https://plot.ly"
       }
      },
      "text/html": "<div>                            <div id=\"be027f48-7f20-42de-a8ed-32567fea3cf0\" class=\"plotly-graph-div\" style=\"height:525px; width:100%;\"></div>            <script type=\"text/javascript\">                require([\"plotly\"], function(Plotly) {                    window.PLOTLYENV=window.PLOTLYENV || {};                                    if (document.getElementById(\"be027f48-7f20-42de-a8ed-32567fea3cf0\")) {                    Plotly.newPlot(                        \"be027f48-7f20-42de-a8ed-32567fea3cf0\",                        [{\"opacity\":0.5,\"showscale\":false,\"x\":[[-10.0,-7.777777777777778,-5.555555555555555,-3.333333333333333,-1.1111111111111107,1.1111111111111107,3.333333333333334,5.555555555555557,7.777777777777779,10.0],[-10.0,-7.777777777777778,-5.555555555555555,-3.333333333333333,-1.1111111111111107,1.1111111111111107,3.333333333333334,5.555555555555557,7.777777777777779,10.0],[-10.0,-7.777777777777778,-5.555555555555555,-3.333333333333333,-1.1111111111111107,1.1111111111111107,3.333333333333334,5.555555555555557,7.777777777777779,10.0],[-10.0,-7.777777777777778,-5.555555555555555,-3.333333333333333,-1.1111111111111107,1.1111111111111107,3.333333333333334,5.555555555555557,7.777777777777779,10.0],[-10.0,-7.777777777777778,-5.555555555555555,-3.333333333333333,-1.1111111111111107,1.1111111111111107,3.333333333333334,5.555555555555557,7.777777777777779,10.0],[-10.0,-7.777777777777778,-5.555555555555555,-3.333333333333333,-1.1111111111111107,1.1111111111111107,3.333333333333334,5.555555555555557,7.777777777777779,10.0],[-10.0,-7.777777777777778,-5.555555555555555,-3.333333333333333,-1.1111111111111107,1.1111111111111107,3.333333333333334,5.555555555555557,7.777777777777779,10.0],[-10.0,-7.777777777777778,-5.555555555555555,-3.333333333333333,-1.1111111111111107,1.1111111111111107,3.333333333333334,5.555555555555557,7.777777777777779,10.0],[-10.0,-7.777777777777778,-5.555555555555555,-3.333333333333333,-1.1111111111111107,1.1111111111111107,3.333333333333334,5.555555555555557,7.777777777777779,10.0],[-10.0,-7.777777777777778,-5.555555555555555,-3.333333333333333,-1.1111111111111107,1.1111111111111107,3.333333333333334,5.555555555555557,7.777777777777779,10.0],[-10.0,-7.777777777777778,-5.555555555555555,-3.333333333333333,-1.1111111111111107,1.1111111111111107,3.333333333333334,5.555555555555557,7.777777777777779,10.0],[-10.0,-7.777777777777778,-5.555555555555555,-3.333333333333333,-1.1111111111111107,1.1111111111111107,3.333333333333334,5.555555555555557,7.777777777777779,10.0],[-10.0,-7.777777777777778,-5.555555555555555,-3.333333333333333,-1.1111111111111107,1.1111111111111107,3.333333333333334,5.555555555555557,7.777777777777779,10.0],[-10.0,-7.777777777777778,-5.555555555555555,-3.333333333333333,-1.1111111111111107,1.1111111111111107,3.333333333333334,5.555555555555557,7.777777777777779,10.0],[-10.0,-7.777777777777778,-5.555555555555555,-3.333333333333333,-1.1111111111111107,1.1111111111111107,3.333333333333334,5.555555555555557,7.777777777777779,10.0],[-10.0,-7.777777777777778,-5.555555555555555,-3.333333333333333,-1.1111111111111107,1.1111111111111107,3.333333333333334,5.555555555555557,7.777777777777779,10.0],[-10.0,-7.777777777777778,-5.555555555555555,-3.333333333333333,-1.1111111111111107,1.1111111111111107,3.333333333333334,5.555555555555557,7.777777777777779,10.0],[-10.0,-7.777777777777778,-5.555555555555555,-3.333333333333333,-1.1111111111111107,1.1111111111111107,3.333333333333334,5.555555555555557,7.777777777777779,10.0],[-10.0,-7.777777777777778,-5.555555555555555,-3.333333333333333,-1.1111111111111107,1.1111111111111107,3.333333333333334,5.555555555555557,7.777777777777779,10.0],[-10.0,-7.777777777777778,-5.555555555555555,-3.333333333333333,-1.1111111111111107,1.1111111111111107,3.333333333333334,5.555555555555557,7.777777777777779,10.0],[-10.0,-7.777777777777778,-5.555555555555555,-3.333333333333333,-1.1111111111111107,1.1111111111111107,3.333333333333334,5.555555555555557,7.777777777777779,10.0],[-10.0,-7.777777777777778,-5.555555555555555,-3.333333333333333,-1.1111111111111107,1.1111111111111107,3.333333333333334,5.555555555555557,7.777777777777779,10.0],[-10.0,-7.777777777777778,-5.555555555555555,-3.333333333333333,-1.1111111111111107,1.1111111111111107,3.333333333333334,5.555555555555557,7.777777777777779,10.0],[-10.0,-7.777777777777778,-5.555555555555555,-3.333333333333333,-1.1111111111111107,1.1111111111111107,3.333333333333334,5.555555555555557,7.777777777777779,10.0],[-10.0,-7.777777777777778,-5.555555555555555,-3.333333333333333,-1.1111111111111107,1.1111111111111107,3.333333333333334,5.555555555555557,7.777777777777779,10.0],[-10.0,-7.777777777777778,-5.555555555555555,-3.333333333333333,-1.1111111111111107,1.1111111111111107,3.333333333333334,5.555555555555557,7.777777777777779,10.0],[-10.0,-7.777777777777778,-5.555555555555555,-3.333333333333333,-1.1111111111111107,1.1111111111111107,3.333333333333334,5.555555555555557,7.777777777777779,10.0],[-10.0,-7.777777777777778,-5.555555555555555,-3.333333333333333,-1.1111111111111107,1.1111111111111107,3.333333333333334,5.555555555555557,7.777777777777779,10.0],[-10.0,-7.777777777777778,-5.555555555555555,-3.333333333333333,-1.1111111111111107,1.1111111111111107,3.333333333333334,5.555555555555557,7.777777777777779,10.0],[-10.0,-7.777777777777778,-5.555555555555555,-3.333333333333333,-1.1111111111111107,1.1111111111111107,3.333333333333334,5.555555555555557,7.777777777777779,10.0],[-10.0,-7.777777777777778,-5.555555555555555,-3.333333333333333,-1.1111111111111107,1.1111111111111107,3.333333333333334,5.555555555555557,7.777777777777779,10.0],[-10.0,-7.777777777777778,-5.555555555555555,-3.333333333333333,-1.1111111111111107,1.1111111111111107,3.333333333333334,5.555555555555557,7.777777777777779,10.0],[-10.0,-7.777777777777778,-5.555555555555555,-3.333333333333333,-1.1111111111111107,1.1111111111111107,3.333333333333334,5.555555555555557,7.777777777777779,10.0],[-10.0,-7.777777777777778,-5.555555555555555,-3.333333333333333,-1.1111111111111107,1.1111111111111107,3.333333333333334,5.555555555555557,7.777777777777779,10.0],[-10.0,-7.777777777777778,-5.555555555555555,-3.333333333333333,-1.1111111111111107,1.1111111111111107,3.333333333333334,5.555555555555557,7.777777777777779,10.0],[-10.0,-7.777777777777778,-5.555555555555555,-3.333333333333333,-1.1111111111111107,1.1111111111111107,3.333333333333334,5.555555555555557,7.777777777777779,10.0],[-10.0,-7.777777777777778,-5.555555555555555,-3.333333333333333,-1.1111111111111107,1.1111111111111107,3.333333333333334,5.555555555555557,7.777777777777779,10.0],[-10.0,-7.777777777777778,-5.555555555555555,-3.333333333333333,-1.1111111111111107,1.1111111111111107,3.333333333333334,5.555555555555557,7.777777777777779,10.0],[-10.0,-7.777777777777778,-5.555555555555555,-3.333333333333333,-1.1111111111111107,1.1111111111111107,3.333333333333334,5.555555555555557,7.777777777777779,10.0],[-10.0,-7.777777777777778,-5.555555555555555,-3.333333333333333,-1.1111111111111107,1.1111111111111107,3.333333333333334,5.555555555555557,7.777777777777779,10.0],[-10.0,-7.777777777777778,-5.555555555555555,-3.333333333333333,-1.1111111111111107,1.1111111111111107,3.333333333333334,5.555555555555557,7.777777777777779,10.0],[-10.0,-7.777777777777778,-5.555555555555555,-3.333333333333333,-1.1111111111111107,1.1111111111111107,3.333333333333334,5.555555555555557,7.777777777777779,10.0],[-10.0,-7.777777777777778,-5.555555555555555,-3.333333333333333,-1.1111111111111107,1.1111111111111107,3.333333333333334,5.555555555555557,7.777777777777779,10.0],[-10.0,-7.777777777777778,-5.555555555555555,-3.333333333333333,-1.1111111111111107,1.1111111111111107,3.333333333333334,5.555555555555557,7.777777777777779,10.0],[-10.0,-7.777777777777778,-5.555555555555555,-3.333333333333333,-1.1111111111111107,1.1111111111111107,3.333333333333334,5.555555555555557,7.777777777777779,10.0],[-10.0,-7.777777777777778,-5.555555555555555,-3.333333333333333,-1.1111111111111107,1.1111111111111107,3.333333333333334,5.555555555555557,7.777777777777779,10.0],[-10.0,-7.777777777777778,-5.555555555555555,-3.333333333333333,-1.1111111111111107,1.1111111111111107,3.333333333333334,5.555555555555557,7.777777777777779,10.0],[-10.0,-7.777777777777778,-5.555555555555555,-3.333333333333333,-1.1111111111111107,1.1111111111111107,3.333333333333334,5.555555555555557,7.777777777777779,10.0],[-10.0,-7.777777777777778,-5.555555555555555,-3.333333333333333,-1.1111111111111107,1.1111111111111107,3.333333333333334,5.555555555555557,7.777777777777779,10.0],[-10.0,-7.777777777777778,-5.555555555555555,-3.333333333333333,-1.1111111111111107,1.1111111111111107,3.333333333333334,5.555555555555557,7.777777777777779,10.0],[-10.0,-7.777777777777778,-5.555555555555555,-3.333333333333333,-1.1111111111111107,1.1111111111111107,3.333333333333334,5.555555555555557,7.777777777777779,10.0],[-10.0,-7.777777777777778,-5.555555555555555,-3.333333333333333,-1.1111111111111107,1.1111111111111107,3.333333333333334,5.555555555555557,7.777777777777779,10.0],[-10.0,-7.777777777777778,-5.555555555555555,-3.333333333333333,-1.1111111111111107,1.1111111111111107,3.333333333333334,5.555555555555557,7.777777777777779,10.0],[-10.0,-7.777777777777778,-5.555555555555555,-3.333333333333333,-1.1111111111111107,1.1111111111111107,3.333333333333334,5.555555555555557,7.777777777777779,10.0],[-10.0,-7.777777777777778,-5.555555555555555,-3.333333333333333,-1.1111111111111107,1.1111111111111107,3.333333333333334,5.555555555555557,7.777777777777779,10.0],[-10.0,-7.777777777777778,-5.555555555555555,-3.333333333333333,-1.1111111111111107,1.1111111111111107,3.333333333333334,5.555555555555557,7.777777777777779,10.0],[-10.0,-7.777777777777778,-5.555555555555555,-3.333333333333333,-1.1111111111111107,1.1111111111111107,3.333333333333334,5.555555555555557,7.777777777777779,10.0],[-10.0,-7.777777777777778,-5.555555555555555,-3.333333333333333,-1.1111111111111107,1.1111111111111107,3.333333333333334,5.555555555555557,7.777777777777779,10.0],[-10.0,-7.777777777777778,-5.555555555555555,-3.333333333333333,-1.1111111111111107,1.1111111111111107,3.333333333333334,5.555555555555557,7.777777777777779,10.0],[-10.0,-7.777777777777778,-5.555555555555555,-3.333333333333333,-1.1111111111111107,1.1111111111111107,3.333333333333334,5.555555555555557,7.777777777777779,10.0],[-10.0,-7.777777777777778,-5.555555555555555,-3.333333333333333,-1.1111111111111107,1.1111111111111107,3.333333333333334,5.555555555555557,7.777777777777779,10.0],[-10.0,-7.777777777777778,-5.555555555555555,-3.333333333333333,-1.1111111111111107,1.1111111111111107,3.333333333333334,5.555555555555557,7.777777777777779,10.0],[-10.0,-7.777777777777778,-5.555555555555555,-3.333333333333333,-1.1111111111111107,1.1111111111111107,3.333333333333334,5.555555555555557,7.777777777777779,10.0],[-10.0,-7.777777777777778,-5.555555555555555,-3.333333333333333,-1.1111111111111107,1.1111111111111107,3.333333333333334,5.555555555555557,7.777777777777779,10.0],[-10.0,-7.777777777777778,-5.555555555555555,-3.333333333333333,-1.1111111111111107,1.1111111111111107,3.333333333333334,5.555555555555557,7.777777777777779,10.0],[-10.0,-7.777777777777778,-5.555555555555555,-3.333333333333333,-1.1111111111111107,1.1111111111111107,3.333333333333334,5.555555555555557,7.777777777777779,10.0],[-10.0,-7.777777777777778,-5.555555555555555,-3.333333333333333,-1.1111111111111107,1.1111111111111107,3.333333333333334,5.555555555555557,7.777777777777779,10.0],[-10.0,-7.777777777777778,-5.555555555555555,-3.333333333333333,-1.1111111111111107,1.1111111111111107,3.333333333333334,5.555555555555557,7.777777777777779,10.0],[-10.0,-7.777777777777778,-5.555555555555555,-3.333333333333333,-1.1111111111111107,1.1111111111111107,3.333333333333334,5.555555555555557,7.777777777777779,10.0],[-10.0,-7.777777777777778,-5.555555555555555,-3.333333333333333,-1.1111111111111107,1.1111111111111107,3.333333333333334,5.555555555555557,7.777777777777779,10.0],[-10.0,-7.777777777777778,-5.555555555555555,-3.333333333333333,-1.1111111111111107,1.1111111111111107,3.333333333333334,5.555555555555557,7.777777777777779,10.0],[-10.0,-7.777777777777778,-5.555555555555555,-3.333333333333333,-1.1111111111111107,1.1111111111111107,3.333333333333334,5.555555555555557,7.777777777777779,10.0],[-10.0,-7.777777777777778,-5.555555555555555,-3.333333333333333,-1.1111111111111107,1.1111111111111107,3.333333333333334,5.555555555555557,7.777777777777779,10.0],[-10.0,-7.777777777777778,-5.555555555555555,-3.333333333333333,-1.1111111111111107,1.1111111111111107,3.333333333333334,5.555555555555557,7.777777777777779,10.0],[-10.0,-7.777777777777778,-5.555555555555555,-3.333333333333333,-1.1111111111111107,1.1111111111111107,3.333333333333334,5.555555555555557,7.777777777777779,10.0],[-10.0,-7.777777777777778,-5.555555555555555,-3.333333333333333,-1.1111111111111107,1.1111111111111107,3.333333333333334,5.555555555555557,7.777777777777779,10.0],[-10.0,-7.777777777777778,-5.555555555555555,-3.333333333333333,-1.1111111111111107,1.1111111111111107,3.333333333333334,5.555555555555557,7.777777777777779,10.0],[-10.0,-7.777777777777778,-5.555555555555555,-3.333333333333333,-1.1111111111111107,1.1111111111111107,3.333333333333334,5.555555555555557,7.777777777777779,10.0],[-10.0,-7.777777777777778,-5.555555555555555,-3.333333333333333,-1.1111111111111107,1.1111111111111107,3.333333333333334,5.555555555555557,7.777777777777779,10.0],[-10.0,-7.777777777777778,-5.555555555555555,-3.333333333333333,-1.1111111111111107,1.1111111111111107,3.333333333333334,5.555555555555557,7.777777777777779,10.0],[-10.0,-7.777777777777778,-5.555555555555555,-3.333333333333333,-1.1111111111111107,1.1111111111111107,3.333333333333334,5.555555555555557,7.777777777777779,10.0],[-10.0,-7.777777777777778,-5.555555555555555,-3.333333333333333,-1.1111111111111107,1.1111111111111107,3.333333333333334,5.555555555555557,7.777777777777779,10.0],[-10.0,-7.777777777777778,-5.555555555555555,-3.333333333333333,-1.1111111111111107,1.1111111111111107,3.333333333333334,5.555555555555557,7.777777777777779,10.0],[-10.0,-7.777777777777778,-5.555555555555555,-3.333333333333333,-1.1111111111111107,1.1111111111111107,3.333333333333334,5.555555555555557,7.777777777777779,10.0],[-10.0,-7.777777777777778,-5.555555555555555,-3.333333333333333,-1.1111111111111107,1.1111111111111107,3.333333333333334,5.555555555555557,7.777777777777779,10.0],[-10.0,-7.777777777777778,-5.555555555555555,-3.333333333333333,-1.1111111111111107,1.1111111111111107,3.333333333333334,5.555555555555557,7.777777777777779,10.0],[-10.0,-7.777777777777778,-5.555555555555555,-3.333333333333333,-1.1111111111111107,1.1111111111111107,3.333333333333334,5.555555555555557,7.777777777777779,10.0],[-10.0,-7.777777777777778,-5.555555555555555,-3.333333333333333,-1.1111111111111107,1.1111111111111107,3.333333333333334,5.555555555555557,7.777777777777779,10.0],[-10.0,-7.777777777777778,-5.555555555555555,-3.333333333333333,-1.1111111111111107,1.1111111111111107,3.333333333333334,5.555555555555557,7.777777777777779,10.0],[-10.0,-7.777777777777778,-5.555555555555555,-3.333333333333333,-1.1111111111111107,1.1111111111111107,3.333333333333334,5.555555555555557,7.777777777777779,10.0],[-10.0,-7.777777777777778,-5.555555555555555,-3.333333333333333,-1.1111111111111107,1.1111111111111107,3.333333333333334,5.555555555555557,7.777777777777779,10.0],[-10.0,-7.777777777777778,-5.555555555555555,-3.333333333333333,-1.1111111111111107,1.1111111111111107,3.333333333333334,5.555555555555557,7.777777777777779,10.0],[-10.0,-7.777777777777778,-5.555555555555555,-3.333333333333333,-1.1111111111111107,1.1111111111111107,3.333333333333334,5.555555555555557,7.777777777777779,10.0],[-10.0,-7.777777777777778,-5.555555555555555,-3.333333333333333,-1.1111111111111107,1.1111111111111107,3.333333333333334,5.555555555555557,7.777777777777779,10.0],[-10.0,-7.777777777777778,-5.555555555555555,-3.333333333333333,-1.1111111111111107,1.1111111111111107,3.333333333333334,5.555555555555557,7.777777777777779,10.0],[-10.0,-7.777777777777778,-5.555555555555555,-3.333333333333333,-1.1111111111111107,1.1111111111111107,3.333333333333334,5.555555555555557,7.777777777777779,10.0],[-10.0,-7.777777777777778,-5.555555555555555,-3.333333333333333,-1.1111111111111107,1.1111111111111107,3.333333333333334,5.555555555555557,7.777777777777779,10.0],[-10.0,-7.777777777777778,-5.555555555555555,-3.333333333333333,-1.1111111111111107,1.1111111111111107,3.333333333333334,5.555555555555557,7.777777777777779,10.0],[-10.0,-7.777777777777778,-5.555555555555555,-3.333333333333333,-1.1111111111111107,1.1111111111111107,3.333333333333334,5.555555555555557,7.777777777777779,10.0],[-10.0,-7.777777777777778,-5.555555555555555,-3.333333333333333,-1.1111111111111107,1.1111111111111107,3.333333333333334,5.555555555555557,7.777777777777779,10.0]],\"y\":[[-10.0,-10.0,-10.0,-10.0,-10.0,-10.0,-10.0,-10.0,-10.0,-10.0],[-9.797979797979798,-9.797979797979798,-9.797979797979798,-9.797979797979798,-9.797979797979798,-9.797979797979798,-9.797979797979798,-9.797979797979798,-9.797979797979798,-9.797979797979798],[-9.595959595959595,-9.595959595959595,-9.595959595959595,-9.595959595959595,-9.595959595959595,-9.595959595959595,-9.595959595959595,-9.595959595959595,-9.595959595959595,-9.595959595959595],[-9.393939393939394,-9.393939393939394,-9.393939393939394,-9.393939393939394,-9.393939393939394,-9.393939393939394,-9.393939393939394,-9.393939393939394,-9.393939393939394,-9.393939393939394],[-9.191919191919192,-9.191919191919192,-9.191919191919192,-9.191919191919192,-9.191919191919192,-9.191919191919192,-9.191919191919192,-9.191919191919192,-9.191919191919192,-9.191919191919192],[-8.98989898989899,-8.98989898989899,-8.98989898989899,-8.98989898989899,-8.98989898989899,-8.98989898989899,-8.98989898989899,-8.98989898989899,-8.98989898989899,-8.98989898989899],[-8.787878787878787,-8.787878787878787,-8.787878787878787,-8.787878787878787,-8.787878787878787,-8.787878787878787,-8.787878787878787,-8.787878787878787,-8.787878787878787,-8.787878787878787],[-8.585858585858587,-8.585858585858587,-8.585858585858587,-8.585858585858587,-8.585858585858587,-8.585858585858587,-8.585858585858587,-8.585858585858587,-8.585858585858587,-8.585858585858587],[-8.383838383838384,-8.383838383838384,-8.383838383838384,-8.383838383838384,-8.383838383838384,-8.383838383838384,-8.383838383838384,-8.383838383838384,-8.383838383838384,-8.383838383838384],[-8.181818181818182,-8.181818181818182,-8.181818181818182,-8.181818181818182,-8.181818181818182,-8.181818181818182,-8.181818181818182,-8.181818181818182,-8.181818181818182,-8.181818181818182],[-7.979797979797979,-7.979797979797979,-7.979797979797979,-7.979797979797979,-7.979797979797979,-7.979797979797979,-7.979797979797979,-7.979797979797979,-7.979797979797979,-7.979797979797979],[-7.777777777777778,-7.777777777777778,-7.777777777777778,-7.777777777777778,-7.777777777777778,-7.777777777777778,-7.777777777777778,-7.777777777777778,-7.777777777777778,-7.777777777777778],[-7.575757575757576,-7.575757575757576,-7.575757575757576,-7.575757575757576,-7.575757575757576,-7.575757575757576,-7.575757575757576,-7.575757575757576,-7.575757575757576,-7.575757575757576],[-7.373737373737374,-7.373737373737374,-7.373737373737374,-7.373737373737374,-7.373737373737374,-7.373737373737374,-7.373737373737374,-7.373737373737374,-7.373737373737374,-7.373737373737374],[-7.171717171717171,-7.171717171717171,-7.171717171717171,-7.171717171717171,-7.171717171717171,-7.171717171717171,-7.171717171717171,-7.171717171717171,-7.171717171717171,-7.171717171717171],[-6.96969696969697,-6.96969696969697,-6.96969696969697,-6.96969696969697,-6.96969696969697,-6.96969696969697,-6.96969696969697,-6.96969696969697,-6.96969696969697,-6.96969696969697],[-6.767676767676768,-6.767676767676768,-6.767676767676768,-6.767676767676768,-6.767676767676768,-6.767676767676768,-6.767676767676768,-6.767676767676768,-6.767676767676768,-6.767676767676768],[-6.565656565656566,-6.565656565656566,-6.565656565656566,-6.565656565656566,-6.565656565656566,-6.565656565656566,-6.565656565656566,-6.565656565656566,-6.565656565656566,-6.565656565656566],[-6.363636363636363,-6.363636363636363,-6.363636363636363,-6.363636363636363,-6.363636363636363,-6.363636363636363,-6.363636363636363,-6.363636363636363,-6.363636363636363,-6.363636363636363],[-6.161616161616162,-6.161616161616162,-6.161616161616162,-6.161616161616162,-6.161616161616162,-6.161616161616162,-6.161616161616162,-6.161616161616162,-6.161616161616162,-6.161616161616162],[-5.959595959595959,-5.959595959595959,-5.959595959595959,-5.959595959595959,-5.959595959595959,-5.959595959595959,-5.959595959595959,-5.959595959595959,-5.959595959595959,-5.959595959595959],[-5.757575757575758,-5.757575757575758,-5.757575757575758,-5.757575757575758,-5.757575757575758,-5.757575757575758,-5.757575757575758,-5.757575757575758,-5.757575757575758,-5.757575757575758],[-5.555555555555555,-5.555555555555555,-5.555555555555555,-5.555555555555555,-5.555555555555555,-5.555555555555555,-5.555555555555555,-5.555555555555555,-5.555555555555555,-5.555555555555555],[-5.353535353535354,-5.353535353535354,-5.353535353535354,-5.353535353535354,-5.353535353535354,-5.353535353535354,-5.353535353535354,-5.353535353535354,-5.353535353535354,-5.353535353535354],[-5.151515151515151,-5.151515151515151,-5.151515151515151,-5.151515151515151,-5.151515151515151,-5.151515151515151,-5.151515151515151,-5.151515151515151,-5.151515151515151,-5.151515151515151],[-4.94949494949495,-4.94949494949495,-4.94949494949495,-4.94949494949495,-4.94949494949495,-4.94949494949495,-4.94949494949495,-4.94949494949495,-4.94949494949495,-4.94949494949495],[-4.747474747474747,-4.747474747474747,-4.747474747474747,-4.747474747474747,-4.747474747474747,-4.747474747474747,-4.747474747474747,-4.747474747474747,-4.747474747474747,-4.747474747474747],[-4.545454545454546,-4.545454545454546,-4.545454545454546,-4.545454545454546,-4.545454545454546,-4.545454545454546,-4.545454545454546,-4.545454545454546,-4.545454545454546,-4.545454545454546],[-4.343434343434343,-4.343434343434343,-4.343434343434343,-4.343434343434343,-4.343434343434343,-4.343434343434343,-4.343434343434343,-4.343434343434343,-4.343434343434343,-4.343434343434343],[-4.141414141414142,-4.141414141414142,-4.141414141414142,-4.141414141414142,-4.141414141414142,-4.141414141414142,-4.141414141414142,-4.141414141414142,-4.141414141414142,-4.141414141414142],[-3.9393939393939394,-3.9393939393939394,-3.9393939393939394,-3.9393939393939394,-3.9393939393939394,-3.9393939393939394,-3.9393939393939394,-3.9393939393939394,-3.9393939393939394,-3.9393939393939394],[-3.737373737373738,-3.737373737373738,-3.737373737373738,-3.737373737373738,-3.737373737373738,-3.737373737373738,-3.737373737373738,-3.737373737373738,-3.737373737373738,-3.737373737373738],[-3.5353535353535355,-3.5353535353535355,-3.5353535353535355,-3.5353535353535355,-3.5353535353535355,-3.5353535353535355,-3.5353535353535355,-3.5353535353535355,-3.5353535353535355,-3.5353535353535355],[-3.333333333333333,-3.333333333333333,-3.333333333333333,-3.333333333333333,-3.333333333333333,-3.333333333333333,-3.333333333333333,-3.333333333333333,-3.333333333333333,-3.333333333333333],[-3.1313131313131315,-3.1313131313131315,-3.1313131313131315,-3.1313131313131315,-3.1313131313131315,-3.1313131313131315,-3.1313131313131315,-3.1313131313131315,-3.1313131313131315,-3.1313131313131315],[-2.929292929292929,-2.929292929292929,-2.929292929292929,-2.929292929292929,-2.929292929292929,-2.929292929292929,-2.929292929292929,-2.929292929292929,-2.929292929292929,-2.929292929292929],[-2.7272727272727275,-2.7272727272727275,-2.7272727272727275,-2.7272727272727275,-2.7272727272727275,-2.7272727272727275,-2.7272727272727275,-2.7272727272727275,-2.7272727272727275,-2.7272727272727275],[-2.525252525252525,-2.525252525252525,-2.525252525252525,-2.525252525252525,-2.525252525252525,-2.525252525252525,-2.525252525252525,-2.525252525252525,-2.525252525252525,-2.525252525252525],[-2.3232323232323235,-2.3232323232323235,-2.3232323232323235,-2.3232323232323235,-2.3232323232323235,-2.3232323232323235,-2.3232323232323235,-2.3232323232323235,-2.3232323232323235,-2.3232323232323235],[-2.121212121212121,-2.121212121212121,-2.121212121212121,-2.121212121212121,-2.121212121212121,-2.121212121212121,-2.121212121212121,-2.121212121212121,-2.121212121212121,-2.121212121212121],[-1.9191919191919187,-1.9191919191919187,-1.9191919191919187,-1.9191919191919187,-1.9191919191919187,-1.9191919191919187,-1.9191919191919187,-1.9191919191919187,-1.9191919191919187,-1.9191919191919187],[-1.717171717171718,-1.717171717171718,-1.717171717171718,-1.717171717171718,-1.717171717171718,-1.717171717171718,-1.717171717171718,-1.717171717171718,-1.717171717171718,-1.717171717171718],[-1.5151515151515156,-1.5151515151515156,-1.5151515151515156,-1.5151515151515156,-1.5151515151515156,-1.5151515151515156,-1.5151515151515156,-1.5151515151515156,-1.5151515151515156,-1.5151515151515156],[-1.3131313131313131,-1.3131313131313131,-1.3131313131313131,-1.3131313131313131,-1.3131313131313131,-1.3131313131313131,-1.3131313131313131,-1.3131313131313131,-1.3131313131313131,-1.3131313131313131],[-1.1111111111111107,-1.1111111111111107,-1.1111111111111107,-1.1111111111111107,-1.1111111111111107,-1.1111111111111107,-1.1111111111111107,-1.1111111111111107,-1.1111111111111107,-1.1111111111111107],[-0.9090909090909101,-0.9090909090909101,-0.9090909090909101,-0.9090909090909101,-0.9090909090909101,-0.9090909090909101,-0.9090909090909101,-0.9090909090909101,-0.9090909090909101,-0.9090909090909101],[-0.7070707070707076,-0.7070707070707076,-0.7070707070707076,-0.7070707070707076,-0.7070707070707076,-0.7070707070707076,-0.7070707070707076,-0.7070707070707076,-0.7070707070707076,-0.7070707070707076],[-0.5050505050505052,-0.5050505050505052,-0.5050505050505052,-0.5050505050505052,-0.5050505050505052,-0.5050505050505052,-0.5050505050505052,-0.5050505050505052,-0.5050505050505052,-0.5050505050505052],[-0.30303030303030276,-0.30303030303030276,-0.30303030303030276,-0.30303030303030276,-0.30303030303030276,-0.30303030303030276,-0.30303030303030276,-0.30303030303030276,-0.30303030303030276,-0.30303030303030276],[-0.10101010101010033,-0.10101010101010033,-0.10101010101010033,-0.10101010101010033,-0.10101010101010033,-0.10101010101010033,-0.10101010101010033,-0.10101010101010033,-0.10101010101010033,-0.10101010101010033],[0.10101010101010033,0.10101010101010033,0.10101010101010033,0.10101010101010033,0.10101010101010033,0.10101010101010033,0.10101010101010033,0.10101010101010033,0.10101010101010033,0.10101010101010033],[0.30303030303030276,0.30303030303030276,0.30303030303030276,0.30303030303030276,0.30303030303030276,0.30303030303030276,0.30303030303030276,0.30303030303030276,0.30303030303030276,0.30303030303030276],[0.5050505050505052,0.5050505050505052,0.5050505050505052,0.5050505050505052,0.5050505050505052,0.5050505050505052,0.5050505050505052,0.5050505050505052,0.5050505050505052,0.5050505050505052],[0.7070707070707076,0.7070707070707076,0.7070707070707076,0.7070707070707076,0.7070707070707076,0.7070707070707076,0.7070707070707076,0.7070707070707076,0.7070707070707076,0.7070707070707076],[0.9090909090909083,0.9090909090909083,0.9090909090909083,0.9090909090909083,0.9090909090909083,0.9090909090909083,0.9090909090909083,0.9090909090909083,0.9090909090909083,0.9090909090909083],[1.1111111111111107,1.1111111111111107,1.1111111111111107,1.1111111111111107,1.1111111111111107,1.1111111111111107,1.1111111111111107,1.1111111111111107,1.1111111111111107,1.1111111111111107],[1.3131313131313131,1.3131313131313131,1.3131313131313131,1.3131313131313131,1.3131313131313131,1.3131313131313131,1.3131313131313131,1.3131313131313131,1.3131313131313131,1.3131313131313131],[1.5151515151515156,1.5151515151515156,1.5151515151515156,1.5151515151515156,1.5151515151515156,1.5151515151515156,1.5151515151515156,1.5151515151515156,1.5151515151515156,1.5151515151515156],[1.7171717171717162,1.7171717171717162,1.7171717171717162,1.7171717171717162,1.7171717171717162,1.7171717171717162,1.7171717171717162,1.7171717171717162,1.7171717171717162,1.7171717171717162],[1.9191919191919187,1.9191919191919187,1.9191919191919187,1.9191919191919187,1.9191919191919187,1.9191919191919187,1.9191919191919187,1.9191919191919187,1.9191919191919187,1.9191919191919187],[2.121212121212121,2.121212121212121,2.121212121212121,2.121212121212121,2.121212121212121,2.121212121212121,2.121212121212121,2.121212121212121,2.121212121212121,2.121212121212121],[2.3232323232323235,2.3232323232323235,2.3232323232323235,2.3232323232323235,2.3232323232323235,2.3232323232323235,2.3232323232323235,2.3232323232323235,2.3232323232323235,2.3232323232323235],[2.525252525252524,2.525252525252524,2.525252525252524,2.525252525252524,2.525252525252524,2.525252525252524,2.525252525252524,2.525252525252524,2.525252525252524,2.525252525252524],[2.7272727272727266,2.7272727272727266,2.7272727272727266,2.7272727272727266,2.7272727272727266,2.7272727272727266,2.7272727272727266,2.7272727272727266,2.7272727272727266,2.7272727272727266],[2.929292929292929,2.929292929292929,2.929292929292929,2.929292929292929,2.929292929292929,2.929292929292929,2.929292929292929,2.929292929292929,2.929292929292929,2.929292929292929],[3.1313131313131315,3.1313131313131315,3.1313131313131315,3.1313131313131315,3.1313131313131315,3.1313131313131315,3.1313131313131315,3.1313131313131315,3.1313131313131315,3.1313131313131315],[3.333333333333334,3.333333333333334,3.333333333333334,3.333333333333334,3.333333333333334,3.333333333333334,3.333333333333334,3.333333333333334,3.333333333333334,3.333333333333334],[3.5353535353535346,3.5353535353535346,3.5353535353535346,3.5353535353535346,3.5353535353535346,3.5353535353535346,3.5353535353535346,3.5353535353535346,3.5353535353535346,3.5353535353535346],[3.737373737373737,3.737373737373737,3.737373737373737,3.737373737373737,3.737373737373737,3.737373737373737,3.737373737373737,3.737373737373737,3.737373737373737,3.737373737373737],[3.9393939393939394,3.9393939393939394,3.9393939393939394,3.9393939393939394,3.9393939393939394,3.9393939393939394,3.9393939393939394,3.9393939393939394,3.9393939393939394,3.9393939393939394],[4.141414141414142,4.141414141414142,4.141414141414142,4.141414141414142,4.141414141414142,4.141414141414142,4.141414141414142,4.141414141414142,4.141414141414142,4.141414141414142],[4.3434343434343425,4.3434343434343425,4.3434343434343425,4.3434343434343425,4.3434343434343425,4.3434343434343425,4.3434343434343425,4.3434343434343425,4.3434343434343425,4.3434343434343425],[4.545454545454545,4.545454545454545,4.545454545454545,4.545454545454545,4.545454545454545,4.545454545454545,4.545454545454545,4.545454545454545,4.545454545454545,4.545454545454545],[4.747474747474747,4.747474747474747,4.747474747474747,4.747474747474747,4.747474747474747,4.747474747474747,4.747474747474747,4.747474747474747,4.747474747474747,4.747474747474747],[4.94949494949495,4.94949494949495,4.94949494949495,4.94949494949495,4.94949494949495,4.94949494949495,4.94949494949495,4.94949494949495,4.94949494949495,4.94949494949495],[5.1515151515151505,5.1515151515151505,5.1515151515151505,5.1515151515151505,5.1515151515151505,5.1515151515151505,5.1515151515151505,5.1515151515151505,5.1515151515151505,5.1515151515151505],[5.353535353535353,5.353535353535353,5.353535353535353,5.353535353535353,5.353535353535353,5.353535353535353,5.353535353535353,5.353535353535353,5.353535353535353,5.353535353535353],[5.555555555555555,5.555555555555555,5.555555555555555,5.555555555555555,5.555555555555555,5.555555555555555,5.555555555555555,5.555555555555555,5.555555555555555,5.555555555555555],[5.757575757575758,5.757575757575758,5.757575757575758,5.757575757575758,5.757575757575758,5.757575757575758,5.757575757575758,5.757575757575758,5.757575757575758,5.757575757575758],[5.9595959595959584,5.9595959595959584,5.9595959595959584,5.9595959595959584,5.9595959595959584,5.9595959595959584,5.9595959595959584,5.9595959595959584,5.9595959595959584,5.9595959595959584],[6.161616161616163,6.161616161616163,6.161616161616163,6.161616161616163,6.161616161616163,6.161616161616163,6.161616161616163,6.161616161616163,6.161616161616163,6.161616161616163],[6.363636363636363,6.363636363636363,6.363636363636363,6.363636363636363,6.363636363636363,6.363636363636363,6.363636363636363,6.363636363636363,6.363636363636363,6.363636363636363],[6.565656565656564,6.565656565656564,6.565656565656564,6.565656565656564,6.565656565656564,6.565656565656564,6.565656565656564,6.565656565656564,6.565656565656564,6.565656565656564],[6.767676767676768,6.767676767676768,6.767676767676768,6.767676767676768,6.767676767676768,6.767676767676768,6.767676767676768,6.767676767676768,6.767676767676768,6.767676767676768],[6.969696969696969,6.969696969696969,6.969696969696969,6.969696969696969,6.969696969696969,6.969696969696969,6.969696969696969,6.969696969696969,6.969696969696969,6.969696969696969],[7.171717171717173,7.171717171717173,7.171717171717173,7.171717171717173,7.171717171717173,7.171717171717173,7.171717171717173,7.171717171717173,7.171717171717173,7.171717171717173],[7.373737373737374,7.373737373737374,7.373737373737374,7.373737373737374,7.373737373737374,7.373737373737374,7.373737373737374,7.373737373737374,7.373737373737374,7.373737373737374],[7.575757575757574,7.575757575757574,7.575757575757574,7.575757575757574,7.575757575757574,7.575757575757574,7.575757575757574,7.575757575757574,7.575757575757574,7.575757575757574],[7.777777777777779,7.777777777777779,7.777777777777779,7.777777777777779,7.777777777777779,7.777777777777779,7.777777777777779,7.777777777777779,7.777777777777779,7.777777777777779],[7.979797979797979,7.979797979797979,7.979797979797979,7.979797979797979,7.979797979797979,7.979797979797979,7.979797979797979,7.979797979797979,7.979797979797979,7.979797979797979],[8.18181818181818,8.18181818181818,8.18181818181818,8.18181818181818,8.18181818181818,8.18181818181818,8.18181818181818,8.18181818181818,8.18181818181818,8.18181818181818],[8.383838383838384,8.383838383838384,8.383838383838384,8.383838383838384,8.383838383838384,8.383838383838384,8.383838383838384,8.383838383838384,8.383838383838384,8.383838383838384],[8.585858585858585,8.585858585858585,8.585858585858585,8.585858585858585,8.585858585858585,8.585858585858585,8.585858585858585,8.585858585858585,8.585858585858585,8.585858585858585],[8.787878787878789,8.787878787878789,8.787878787878789,8.787878787878789,8.787878787878789,8.787878787878789,8.787878787878789,8.787878787878789,8.787878787878789,8.787878787878789],[8.98989898989899,8.98989898989899,8.98989898989899,8.98989898989899,8.98989898989899,8.98989898989899,8.98989898989899,8.98989898989899,8.98989898989899,8.98989898989899],[9.19191919191919,9.19191919191919,9.19191919191919,9.19191919191919,9.19191919191919,9.19191919191919,9.19191919191919,9.19191919191919,9.19191919191919,9.19191919191919],[9.393939393939394,9.393939393939394,9.393939393939394,9.393939393939394,9.393939393939394,9.393939393939394,9.393939393939394,9.393939393939394,9.393939393939394,9.393939393939394],[9.595959595959595,9.595959595959595,9.595959595959595,9.595959595959595,9.595959595959595,9.595959595959595,9.595959595959595,9.595959595959595,9.595959595959595,9.595959595959595],[9.7979797979798,9.7979797979798,9.7979797979798,9.7979797979798,9.7979797979798,9.7979797979798,9.7979797979798,9.7979797979798,9.7979797979798,9.7979797979798],[10.0,10.0,10.0,10.0,10.0,10.0,10.0,10.0,10.0,10.0]],\"z\":[[-48.0,-36.888888888888886,-25.77777777777778,-14.666666666666664,-3.5555555555555536,7.555555555555554,18.66666666666667,29.777777777777786,40.88888888888889,52.0],[-47.97979797979798,-36.868686868686865,-25.757575757575758,-14.646464646464644,-3.5353535353535337,7.5757575757575735,18.686868686868692,29.797979797979806,40.909090909090914,52.02020202020202],[-47.95959595959596,-36.848484848484844,-25.737373737373737,-14.626262626262623,-3.515151515151513,7.595959595959594,18.707070707070713,29.818181818181827,40.929292929292934,52.04040404040404],[-47.93939393939394,-36.82828282828282,-25.717171717171716,-14.606060606060602,-3.494949494949493,7.616161616161614,18.727272727272734,29.838383838383848,40.949494949494955,52.06060606060606],[-47.91919191919192,-36.8080808080808,-25.6969696969697,-14.585858585858585,-3.474747474747473,7.636363636363634,18.747474747474755,29.858585858585865,40.969696969696976,52.08080808080808],[-47.898989898989896,-36.78787878787878,-25.67676767676768,-14.565656565656564,-3.4545454545454524,7.656565656565655,18.76767676767677,29.878787878787886,40.989898989899,52.101010101010104],[-47.878787878787875,-36.76767676767676,-25.656565656565657,-14.545454545454543,-3.4343434343434325,7.676767676767675,18.787878787878793,29.898989898989907,41.01010101010102,52.121212121212125],[-47.85858585858586,-36.74747474747475,-25.636363636363637,-14.525252525252522,-3.4141414141414126,7.696969696969695,18.808080808080813,29.919191919191928,41.03030303030303,52.14141414141414],[-47.83838383838384,-36.72727272727273,-25.616161616161616,-14.505050505050502,-3.393939393939392,7.717171717171715,18.82828282828283,29.93939393939395,41.05050505050505,52.16161616161616],[-47.81818181818182,-36.707070707070706,-25.595959595959595,-14.48484848484848,-3.373737373737372,7.737373737373735,18.84848484848485,29.95959595959597,41.07070707070707,52.18181818181818],[-47.7979797979798,-36.686868686868685,-25.575757575757578,-14.464646464646464,-3.353535353535351,7.757575757575756,18.868686868686872,29.979797979797986,41.09090909090909,52.2020202020202],[-47.77777777777778,-36.666666666666664,-25.555555555555557,-14.444444444444443,-3.3333333333333313,7.777777777777776,18.888888888888893,30.000000000000007,41.111111111111114,52.22222222222222],[-47.75757575757576,-36.64646464646464,-25.535353535353536,-14.424242424242422,-3.3131313131313114,7.797979797979796,18.909090909090914,30.020202020202028,41.131313131313135,52.24242424242424],[-47.73737373737374,-36.62626262626262,-25.515151515151516,-14.404040404040401,-3.2929292929292906,7.818181818181817,18.929292929292934,30.04040404040405,41.151515151515156,52.26262626262626],[-47.717171717171716,-36.6060606060606,-25.494949494949495,-14.38383838383838,-3.2727272727272707,7.8383838383838365,18.949494949494955,30.06060606060607,41.17171717171718,52.282828282828284],[-47.696969696969695,-36.58585858585858,-25.474747474747474,-14.36363636363636,-3.252525252525251,7.858585858585856,18.969696969696976,30.08080808080809,41.1919191919192,52.303030303030305],[-47.676767676767675,-36.56565656565656,-25.454545454545457,-14.343434343434343,-3.23232323232323,7.878787878787877,18.989898989898997,30.101010101010107,41.21212121212122,52.323232323232325],[-47.656565656565654,-36.54545454545454,-25.434343434343436,-14.323232323232322,-3.21212121212121,7.898989898989897,19.010101010101014,30.121212121212128,41.23232323232324,52.343434343434346],[-47.63636363636363,-36.52525252525252,-25.414141414141415,-14.303030303030301,-3.1919191919191903,7.919191919191917,19.030303030303035,30.14141414141415,41.25252525252526,52.36363636363637],[-47.61616161616162,-36.505050505050505,-25.393939393939394,-14.28282828282828,-3.1717171717171695,7.939393939393938,19.050505050505055,30.16161616161617,41.27272727272727,52.38383838383838],[-47.5959595959596,-36.484848484848484,-25.373737373737374,-14.26262626262626,-3.1515151515151496,7.959595959595958,19.070707070707076,30.18181818181819,41.292929292929294,52.4040404040404],[-47.57575757575758,-36.464646464646464,-25.353535353535353,-14.242424242424239,-3.1313131313131297,7.9797979797979774,19.090909090909097,30.20202020202021,41.313131313131315,52.42424242424242],[-47.55555555555556,-36.44444444444444,-25.333333333333336,-14.222222222222221,-3.111111111111109,7.999999999999998,19.111111111111114,30.22222222222223,41.333333333333336,52.44444444444444],[-47.535353535353536,-36.42424242424242,-25.313131313131315,-14.2020202020202,-3.090909090909089,8.020202020202017,19.131313131313135,30.24242424242425,41.35353535353536,52.464646464646464],[-47.515151515151516,-36.4040404040404,-25.292929292929294,-14.18181818181818,-3.070707070707069,8.040404040404038,19.151515151515156,30.26262626262627,41.37373737373738,52.484848484848484],[-47.494949494949495,-36.38383838383838,-25.272727272727273,-14.161616161616159,-3.0505050505050484,8.060606060606059,19.171717171717177,30.28282828282829,41.3939393939394,52.505050505050505],[-47.474747474747474,-36.36363636363636,-25.252525252525253,-14.141414141414138,-3.0303030303030285,8.08080808080808,19.191919191919197,30.30303030303031,41.41414141414142,52.525252525252526],[-47.45454545454545,-36.34343434343434,-25.232323232323232,-14.121212121212118,-3.0101010101010086,8.101010101010099,19.212121212121218,30.323232323232332,41.43434343434344,52.54545454545455],[-47.43434343434343,-36.32323232323232,-25.212121212121215,-14.1010101010101,-2.989898989898988,8.12121212121212,19.232323232323235,30.34343434343435,41.45454545454546,52.56565656565657],[-47.41414141414141,-36.3030303030303,-25.191919191919194,-14.08080808080808,-2.969696969696968,8.141414141414138,19.252525252525256,30.36363636363637,41.47474747474748,52.58585858585859],[-47.39393939393939,-36.28282828282828,-25.171717171717173,-14.060606060606059,-2.949494949494947,8.161616161616159,19.272727272727277,30.38383838383839,41.4949494949495,52.60606060606061],[-47.37373737373738,-36.26262626262626,-25.151515151515152,-14.040404040404038,-2.9292929292929273,8.18181818181818,19.292929292929298,30.404040404040412,41.515151515151516,52.62626262626262],[-47.35353535353536,-36.24242424242424,-25.13131313131313,-14.020202020202017,-2.9090909090909074,8.2020202020202,19.31313131313132,30.424242424242433,41.535353535353536,52.64646464646464],[-47.333333333333336,-36.22222222222222,-25.11111111111111,-13.999999999999996,-2.8888888888888866,8.222222222222221,19.33333333333334,30.444444444444454,41.55555555555556,52.666666666666664],[-47.313131313131315,-36.2020202020202,-25.090909090909093,-13.97979797979798,-2.8686868686868667,8.24242424242424,19.353535353535356,30.46464646464647,41.57575757575758,52.686868686868685],[-47.292929292929294,-36.18181818181818,-25.070707070707073,-13.959595959595958,-2.848484848484847,8.26262626262626,19.373737373737377,30.48484848484849,41.5959595959596,52.707070707070706],[-47.27272727272727,-36.16161616161616,-25.050505050505052,-13.939393939393938,-2.828282828282826,8.28282828282828,19.393939393939398,30.505050505050512,41.61616161616162,52.72727272727273],[-47.25252525252525,-36.14141414141414,-25.03030303030303,-13.919191919191917,-2.808080808080806,8.303030303030301,19.41414141414142,30.525252525252533,41.63636363636364,52.74747474747475],[-47.23232323232323,-36.12121212121212,-25.01010101010101,-13.898989898989896,-2.7878787878787863,8.323232323232322,19.43434343434344,30.545454545454554,41.65656565656566,52.76767676767677],[-47.21212121212121,-36.1010101010101,-24.98989898989899,-13.878787878787875,-2.7676767676767655,8.343434343434343,19.45454545454546,30.565656565656575,41.67676767676768,52.78787878787879],[-47.19191919191919,-36.080808080808076,-24.96969696969697,-13.858585858585855,-2.7474747474747456,8.363636363636362,19.47474747474748,30.585858585858595,41.6969696969697,52.80808080808081],[-47.17171717171717,-36.060606060606055,-24.94949494949495,-13.838383838383837,-2.7272727272727257,8.38383838383838,19.4949494949495,30.606060606060613,41.71717171717172,52.82828282828283],[-47.15151515151515,-36.040404040404034,-24.92929292929293,-13.818181818181817,-2.707070707070705,8.404040404040401,19.51515151515152,30.626262626262633,41.737373737373744,52.84848484848485],[-47.13131313131313,-36.020202020202014,-24.90909090909091,-13.797979797979796,-2.686868686868685,8.424242424242422,19.53535353535354,30.646464646464654,41.757575757575765,52.86868686868687],[-47.111111111111114,-36.0,-24.88888888888889,-13.777777777777775,-2.6666666666666643,8.444444444444443,19.55555555555556,30.666666666666675,41.77777777777778,52.888888888888886],[-47.09090909090909,-35.97979797979798,-24.86868686868687,-13.757575757575754,-2.6464646464646444,8.464646464646464,19.57575757575758,30.686868686868696,41.7979797979798,52.90909090909091],[-47.07070707070707,-35.95959595959596,-24.848484848484848,-13.737373737373733,-2.6262626262626245,8.484848484848483,19.595959595959602,30.707070707070717,41.81818181818182,52.92929292929293],[-47.05050505050505,-35.93939393939394,-24.82828282828283,-13.717171717171716,-2.6060606060606037,8.505050505050503,19.61616161616162,30.727272727272734,41.83838383838384,52.94949494949495],[-47.03030303030303,-35.91919191919192,-24.80808080808081,-13.696969696969695,-2.585858585858584,8.525252525252522,19.63636363636364,30.747474747474755,41.85858585858586,52.96969696969697],[-47.01010101010101,-35.898989898989896,-24.78787878787879,-13.676767676767675,-2.565656565656564,8.545454545454543,19.65656565656566,30.767676767676775,41.87878787878788,52.98989898989899],[-46.98989898989899,-35.878787878787875,-24.767676767676768,-13.656565656565654,-2.545454545454543,8.565656565656564,19.676767676767682,30.787878787878796,41.8989898989899,53.01010101010101],[-46.96969696969697,-35.858585858585855,-24.747474747474747,-13.636363636363633,-2.5252525252525233,8.585858585858585,19.696969696969703,30.808080808080817,41.919191919191924,53.03030303030303],[-46.94949494949495,-35.838383838383834,-24.727272727272727,-13.616161616161612,-2.5050505050505034,8.606060606060604,19.717171717171723,30.828282828282838,41.939393939393945,53.05050505050505],[-46.92929292929293,-35.81818181818181,-24.70707070707071,-13.595959595959595,-2.4848484848484826,8.626262626262625,19.73737373737374,30.848484848484855,41.959595959595966,53.07070707070707],[-46.90909090909091,-35.79797979797979,-24.68686868686869,-13.575757575757574,-2.4646464646464628,8.646464646464644,19.75757575757576,30.868686868686876,41.979797979797986,53.09090909090909],[-46.888888888888886,-35.77777777777777,-24.666666666666668,-13.555555555555554,-2.444444444444443,8.666666666666664,19.777777777777782,30.888888888888896,42.00000000000001,53.111111111111114],[-46.86868686868687,-35.75757575757576,-24.646464646464647,-13.535353535353533,-2.424242424242422,8.686868686868685,19.797979797979803,30.909090909090917,42.02020202020202,53.13131313131313],[-46.84848484848485,-35.73737373737374,-24.626262626262626,-13.515151515151512,-2.404040404040402,8.707070707070706,19.818181818181824,30.929292929292938,42.04040404040404,53.15151515151515],[-46.82828282828283,-35.717171717171716,-24.606060606060606,-13.494949494949491,-2.3838383838383823,8.727272727272725,19.838383838383844,30.94949494949496,42.06060606060606,53.17171717171717],[-46.80808080808081,-35.696969696969695,-24.58585858585859,-13.474747474747474,-2.3636363636363615,8.747474747474746,19.85858585858586,30.969696969696976,42.08080808080808,53.19191919191919],[-46.78787878787879,-35.676767676767675,-24.565656565656568,-13.454545454545453,-2.3434343434343416,8.767676767676765,19.878787878787882,30.989898989898997,42.101010101010104,53.21212121212121],[-46.76767676767677,-35.656565656565654,-24.545454545454547,-13.434343434343432,-2.323232323232321,8.787878787878785,19.898989898989903,31.010101010101017,42.121212121212125,53.23232323232323],[-46.74747474747475,-35.63636363636363,-24.525252525252526,-13.414141414141412,-2.303030303030301,8.808080808080806,19.919191919191924,31.03030303030304,42.141414141414145,53.25252525252525],[-46.72727272727273,-35.61616161616161,-24.505050505050505,-13.393939393939391,-2.282828282828281,8.828282828282827,19.939393939393945,31.05050505050506,42.161616161616166,53.27272727272727],[-46.707070707070706,-35.59595959595959,-24.484848484848484,-13.37373737373737,-2.2626262626262603,8.848484848484848,19.959595959595966,31.07070707070708,42.18181818181819,53.292929292929294],[-46.686868686868685,-35.57575757575757,-24.464646464646464,-13.35353535353535,-2.2424242424242404,8.868686868686867,19.979797979797986,31.0909090909091,42.20202020202021,53.313131313131315],[-46.666666666666664,-35.55555555555555,-24.444444444444446,-13.333333333333332,-2.2222222222222205,8.888888888888886,20.000000000000004,31.111111111111118,42.22222222222223,53.333333333333336],[-46.64646464646464,-35.53535353535353,-24.424242424242426,-13.313131313131311,-2.2020202020201998,8.909090909090907,20.020202020202024,31.13131313131314,42.24242424242425,53.35353535353536],[-46.62626262626263,-35.515151515151516,-24.404040404040405,-13.29292929292929,-2.18181818181818,8.929292929292927,20.040404040404045,31.15151515151516,42.26262626262627,53.37373737373737],[-46.60606060606061,-35.494949494949495,-24.383838383838384,-13.27272727272727,-2.16161616161616,8.949494949494948,20.060606060606066,31.17171717171718,42.282828282828284,53.39393939393939],[-46.58585858585859,-35.474747474747474,-24.363636363636363,-13.252525252525249,-2.141414141414139,8.969696969696969,20.080808080808087,31.1919191919192,42.303030303030305,53.41414141414141],[-46.56565656565657,-35.45454545454545,-24.343434343434346,-13.232323232323232,-2.1212121212121193,8.989898989898988,20.101010101010104,31.212121212121218,42.323232323232325,53.43434343434343],[-46.54545454545455,-35.43434343434343,-24.323232323232325,-13.212121212121211,-2.1010101010100994,9.010101010101007,20.121212121212125,31.23232323232324,42.343434343434346,53.45454545454545],[-46.525252525252526,-35.41414141414141,-24.303030303030305,-13.19191919191919,-2.0808080808080787,9.030303030303028,20.141414141414145,31.25252525252526,42.36363636363637,53.474747474747474],[-46.505050505050505,-35.39393939393939,-24.282828282828284,-13.17171717171717,-2.0606060606060588,9.050505050505048,20.161616161616166,31.27272727272728,42.38383838383839,53.494949494949495],[-46.484848484848484,-35.37373737373737,-24.262626262626263,-13.151515151515149,-2.040404040404039,9.07070707070707,20.181818181818187,31.2929292929293,42.40404040404041,53.515151515151516],[-46.464646464646464,-35.35353535353535,-24.242424242424242,-13.131313131313128,-2.020202020202018,9.09090909090909,20.202020202020208,31.313131313131322,42.42424242424243,53.535353535353536],[-46.44444444444444,-35.33333333333333,-24.22222222222222,-13.111111111111107,-1.9999999999999982,9.111111111111109,20.22222222222223,31.333333333333343,42.44444444444445,53.55555555555556],[-46.42424242424242,-35.31313131313131,-24.202020202020204,-13.09090909090909,-1.9797979797979774,9.13131313131313,20.242424242424246,31.35353535353536,42.46464646464647,53.57575757575758],[-46.4040404040404,-35.29292929292929,-24.181818181818183,-13.07070707070707,-1.9595959595959576,9.151515151515149,20.262626262626267,31.37373737373738,42.48484848484849,53.5959595959596],[-46.38383838383838,-35.272727272727266,-24.161616161616163,-13.050505050505048,-1.9393939393939377,9.17171717171717,20.282828282828287,31.3939393939394,42.50505050505051,53.61616161616162],[-46.36363636363637,-35.25252525252525,-24.141414141414142,-13.030303030303028,-1.919191919191917,9.19191919191919,20.303030303030308,31.414141414141422,42.525252525252526,53.63636363636363],[-46.343434343434346,-35.23232323232323,-24.12121212121212,-13.010101010101007,-1.898989898989897,9.212121212121211,20.32323232323233,31.434343434343443,42.54545454545455,53.656565656565654],[-46.323232323232325,-35.21212121212121,-24.1010101010101,-12.989898989898988,-1.8787878787878771,9.23232323232323,20.34343434343435,31.454545454545464,42.56565656565657,53.676767676767675],[-46.303030303030305,-35.19191919191919,-24.080808080808083,-12.969696969696967,-1.8585858585858563,9.25252525252525,20.363636363636367,31.47474747474748,42.58585858585859,53.696969696969695],[-46.282828282828284,-35.17171717171717,-24.060606060606062,-12.949494949494946,-1.8383838383838365,9.27272727272727,20.383838383838388,31.494949494949502,42.60606060606061,53.717171717171716],[-46.26262626262626,-35.15151515151515,-24.04040404040404,-12.929292929292927,-1.8181818181818166,9.29292929292929,20.40404040404041,31.515151515151523,42.62626262626263,53.73737373737374],[-46.24242424242424,-35.13131313131313,-24.02020202020202,-12.909090909090907,-1.7979797979797958,9.313131313131311,20.42424242424243,31.535353535353543,42.64646464646465,53.75757575757576],[-46.22222222222222,-35.11111111111111,-24.0,-12.888888888888886,-1.777777777777776,9.333333333333332,20.44444444444445,31.555555555555564,42.66666666666667,53.77777777777778],[-46.2020202020202,-35.090909090909086,-23.97979797979798,-12.868686868686867,-1.757575757575756,9.353535353535351,20.46464646464647,31.575757575757585,42.68686868686869,53.7979797979798],[-46.18181818181818,-35.070707070707066,-23.959595959595962,-12.848484848484846,-1.7373737373737352,9.373737373737372,20.484848484848488,31.595959595959602,42.70707070707071,53.81818181818182],[-46.16161616161616,-35.050505050505045,-23.93939393939394,-12.828282828282825,-1.7171717171717154,9.393939393939391,20.50505050505051,31.616161616161623,42.727272727272734,53.83838383838384],[-46.14141414141414,-35.030303030303024,-23.91919191919192,-12.808080808080806,-1.6969696969696955,9.414141414141412,20.52525252525253,31.636363636363644,42.747474747474755,53.85858585858586],[-46.121212121212125,-35.01010101010101,-23.8989898989899,-12.787878787878785,-1.6767676767676747,9.434343434343432,20.54545454545455,31.656565656565665,42.767676767676775,53.878787878787875],[-46.101010101010104,-34.98989898989899,-23.87878787878788,-12.767676767676765,-1.6565656565656548,9.454545454545453,20.56565656565657,31.676767676767685,42.78787878787879,53.898989898989896],[-46.08080808080808,-34.96969696969697,-23.858585858585858,-12.747474747474746,-1.636363636363635,9.474747474747472,20.585858585858592,31.696969696969706,42.80808080808081,53.91919191919192],[-46.06060606060606,-34.94949494949495,-23.83838383838384,-12.727272727272725,-1.6161616161616141,9.494949494949493,20.60606060606061,31.717171717171723,42.82828282828283,53.93939393939394],[-46.04040404040404,-34.92929292929293,-23.81818181818182,-12.707070707070704,-1.5959595959595942,9.515151515151512,20.62626262626263,31.737373737373744,42.84848484848485,53.95959595959596],[-46.02020202020202,-34.90909090909091,-23.7979797979798,-12.686868686868685,-1.5757575757575735,9.535353535353533,20.64646464646465,31.757575757575765,42.86868686868687,53.97979797979798],[-46.0,-34.888888888888886,-23.77777777777778,-12.666666666666664,-1.5555555555555536,9.555555555555554,20.66666666666667,31.777777777777786,42.88888888888889,54.0]],\"type\":\"surface\"},{\"marker\":{\"color\":\"black\",\"size\":2},\"mode\":\"markers\",\"name\":\"Real (noise-less) Points\",\"x\":[4.2450449569036905,-5.393690056583096,4.577150065256188,3.811886650552971,9.555569294828643,5.480748846223076,6.213700289185912,-2.5038171167891976,-0.5088608888761126,-9.491207300150213,2.8562183408437924,-7.510349853701879,1.4461137602296859,-2.0795968762275185,3.5559530918031896,9.508719624108942,-2.4300414540743986,7.150455385361099,-1.0579641225089382,8.588796513032815,-1.5927960357856463,1.1297397067361494,4.71472496412931,7.723613811261842,0.49200969735800726,-3.140104529281606,-3.2900747680897453,2.839420890572681,-3.187569376230175,1.166490948207537,4.86772702744857,3.714024458397178,1.2737774629062564,-1.8977684875757728,-0.8528878158641273,4.366190774600431,-4.021416428312687,7.935734646940535,8.541264382413246,-2.3047057764712235,7.851471183902806,3.9002725728922467,3.862410681247674,1.5386180190318317,-9.756849055380268,-6.195869857433385,-5.252679545489083,9.247176851197349,-4.843889627033033,-0.8419831856025422,-0.9423119957297494,-2.103053902547531,3.1079631976284716,-7.5417840881000675,8.54866194485069,5.066157825605062,4.284115132965095,-4.744059607716666,-3.940445818224905,3.187352472329083,-6.87268842595355,8.844659144355461,4.156949923223959,2.248285483826141,2.8962573541895154,-3.233575582032713,-3.2287939460763653,7.302525233254379,-8.098830046224366,-4.153481023618816,3.579571024362858,8.696673510755367,9.268228403205892,6.225647311477058,-9.679977985853798,-9.457492555094841,-5.412368866554176,1.9272729394466186,0.6814362408049401,-5.999004730929984,-4.0184270130058835,7.213222016241101,-7.3369959521661805,8.628279039320766,8.743337407608983,0.8520328195811011,-7.830161344833493,7.407336692248862,-8.992390079476705,2.7848957299072747,7.015298897904188,-5.014865310190528,-2.0539296104661915,-4.969647483363346,8.094927962642828,0.5557376420193787,7.153533814524433,3.9359330326297304,-4.396159330271329,-1.9543663829934044],\"y\":[5.287777158588497,-2.797985949746968,4.475621013263137,5.22930531153486,-8.541271622724713,0.8366668946695626,2.9797161437683624,9.556335320688337,0.8362818967200347,-2.4724447275230865,-9.924111590061262,-8.69794942117462,-0.6265264294565469,-9.006285600273372,5.404676917373781,3.673865522596536,3.665771268769779,9.369831008833806,-1.3091401720453284,3.347668560625877,3.655147588871767,-5.368049891231483,-0.43574346545265286,2.845816387338971,-5.967919237920139,-3.281265478352906,6.382797386056819,-8.412713527245867,7.4088716442746865,3.5045655196501215,0.9090872843578985,5.828772572593222,2.438975411436786,6.495211791408973,-1.473097984984534,7.3098432819442785,8.358881139827151,4.384632178097247,0.44981837429928184,-3.276971935449904,-4.9787977563810815,-0.5667710242848045,9.334364833040638,7.507941821235889,5.630069639169228,7.8241078805888655,2.8364546452818544,-2.6517947544022435,4.594891649324733,2.9997529865736006,-7.825648500621021,-4.192701442602338,-2.8403383700925193,1.7188058339699488,-7.10018911374195,8.905695612451403,9.533210909207455,0.1192877977263116,-0.791472785672271,-9.219668279642155,-3.009971655028833,-9.070972196437276,1.4994051774309547,9.720654517989335,-8.618284121568802,-1.5368385306000434,-4.12143793527928,0.9344101429390061,1.8321666888647385,-2.593407835501198,8.724310202804446,9.212420140643324,-2.3078216838731773,-7.550303241272374,6.234768501560737,-7.646084689778738,-9.223663966152483,-0.8160291053888091,0.26329334440191765,-8.028659823907216,2.141899698522165,8.449858410148892,-3.6414036879616223,0.8221011233602482,9.778294075419488,6.990483924310883,-2.0659457251290743,-4.992290044712768,-5.616771988845364,2.5605683456220945,1.4015936432217657,-2.8909415615543166,3.8848557675311213,3.126496307027457,-0.7248327926342579,-9.723890829349354,9.262835955260197,6.160908349746791,5.487551587916995,5.671498715821766],\"z\":[24.754002500377304,-24.248248877890177,26.33331242760725,22.58236378391834,49.92371931187075,30.487410920582334,34.3664730603064,-8.563452051877153,0.5393237452914406,-44.703280973503375,16.288680545212834,-35.42154421062686,10.167916158202775,-8.298612941164931,21.320233150753324,50.91098467280436,-8.783630143495015,39.689260027688874,-2.420734629749224,46.278749421226664,-4.598465420041055,8.1118935445576,26.530050474101284,41.90265069504311,4.863256562998022,-13.028649194243322,-12.812094101843044,16.355833100138817,-12.196959716723407,9.182911293002697,27.42954386567864,22.152999549245212,9.61278485567496,-5.839321258737966,-1.4117488778190896,25.561938201196586,-16.27119402758072,43.1171364525124,45.75130374949616,-8.851226075901108,41.759476143875915,22.444685762032755,23.245489889542434,11.443884277282747,-45.221238312984426,-27.19693849910804,-22.97975226291723,48.97070478054652,-20.75995897023269,-0.9099406293553507,-2.4941248287108495,-7.934539656997888,18.255782151133104,-34.53703985710334,45.03329081287926,29.22135868927045,25.37389675574622,-20.7083692588107,-16.781376369691753,18.014795533681202,-31.664439295270633,46.316198502133574,23.934690133862887,15.213492870929638,16.619458358790695,-13.32156176322357,-13.556113523909755,39.606067180565795,-37.310933562235356,-18.0267459016442,21.770286142094733,47.40460956784117,49.11035984764215,33.37320623325805,-44.77641307911291,-45.05207124445209,-24.984210729386128,12.554761786694211,6.433510538464892,-27.79788963704064,-16.8779450951772,39.9110959222204,-34.04912012962706,46.22360530893985,47.69451644558686,7.9592124903365935,-36.35740129668037,39.537454456773034,-42.523627596268064,17.180535484098584,38.21665385384311,-22.363420707108073,-6.881162475577845,-21.535587786113982,43.402156533950716,4.806299127161958,39.69395266814819,23.29575599812333,-18.43204149256495,-6.204682043384846],\"type\":\"scatter3d\"},{\"marker\":{\"color\":\"red\",\"size\":2},\"mode\":\"markers\",\"name\":\"Observed Points\",\"x\":[4.2450449569036905,-5.393690056583096,4.577150065256188,3.811886650552971,9.555569294828643,5.480748846223076,6.213700289185912,-2.5038171167891976,-0.5088608888761126,-9.491207300150213,2.8562183408437924,-7.510349853701879,1.4461137602296859,-2.0795968762275185,3.5559530918031896,9.508719624108942,-2.4300414540743986,7.150455385361099,-1.0579641225089382,8.588796513032815,-1.5927960357856463,1.1297397067361494,4.71472496412931,7.723613811261842,0.49200969735800726,-3.140104529281606,-3.2900747680897453,2.839420890572681,-3.187569376230175,1.166490948207537,4.86772702744857,3.714024458397178,1.2737774629062564,-1.8977684875757728,-0.8528878158641273,4.366190774600431,-4.021416428312687,7.935734646940535,8.541264382413246,-2.3047057764712235,7.851471183902806,3.9002725728922467,3.862410681247674,1.5386180190318317,-9.756849055380268,-6.195869857433385,-5.252679545489083,9.247176851197349,-4.843889627033033,-0.8419831856025422,-0.9423119957297494,-2.103053902547531,3.1079631976284716,-7.5417840881000675,8.54866194485069,5.066157825605062,4.284115132965095,-4.744059607716666,-3.940445818224905,3.187352472329083,-6.87268842595355,8.844659144355461,4.156949923223959,2.248285483826141,2.8962573541895154,-3.233575582032713,-3.2287939460763653,7.302525233254379,-8.098830046224366,-4.153481023618816,3.579571024362858,8.696673510755367,9.268228403205892,6.225647311477058,-9.679977985853798,-9.457492555094841,-5.412368866554176,1.9272729394466186,0.6814362408049401,-5.999004730929984,-4.0184270130058835,7.213222016241101,-7.3369959521661805,8.628279039320766,8.743337407608983,0.8520328195811011,-7.830161344833493,7.407336692248862,-8.992390079476705,2.7848957299072747,7.015298897904188,-5.014865310190528,-2.0539296104661915,-4.969647483363346,8.094927962642828,0.5557376420193787,7.153533814524433,3.9359330326297304,-4.396159330271329,-1.9543663829934044],\"y\":[5.287777158588497,-2.797985949746968,4.475621013263137,5.22930531153486,-8.541271622724713,0.8366668946695626,2.9797161437683624,9.556335320688337,0.8362818967200347,-2.4724447275230865,-9.924111590061262,-8.69794942117462,-0.6265264294565469,-9.006285600273372,5.404676917373781,3.673865522596536,3.665771268769779,9.369831008833806,-1.3091401720453284,3.347668560625877,3.655147588871767,-5.368049891231483,-0.43574346545265286,2.845816387338971,-5.967919237920139,-3.281265478352906,6.382797386056819,-8.412713527245867,7.4088716442746865,3.5045655196501215,0.9090872843578985,5.828772572593222,2.438975411436786,6.495211791408973,-1.473097984984534,7.3098432819442785,8.358881139827151,4.384632178097247,0.44981837429928184,-3.276971935449904,-4.9787977563810815,-0.5667710242848045,9.334364833040638,7.507941821235889,5.630069639169228,7.8241078805888655,2.8364546452818544,-2.6517947544022435,4.594891649324733,2.9997529865736006,-7.825648500621021,-4.192701442602338,-2.8403383700925193,1.7188058339699488,-7.10018911374195,8.905695612451403,9.533210909207455,0.1192877977263116,-0.791472785672271,-9.219668279642155,-3.009971655028833,-9.070972196437276,1.4994051774309547,9.720654517989335,-8.618284121568802,-1.5368385306000434,-4.12143793527928,0.9344101429390061,1.8321666888647385,-2.593407835501198,8.724310202804446,9.212420140643324,-2.3078216838731773,-7.550303241272374,6.234768501560737,-7.646084689778738,-9.223663966152483,-0.8160291053888091,0.26329334440191765,-8.028659823907216,2.141899698522165,8.449858410148892,-3.6414036879616223,0.8221011233602482,9.778294075419488,6.990483924310883,-2.0659457251290743,-4.992290044712768,-5.616771988845364,2.5605683456220945,1.4015936432217657,-2.8909415615543166,3.8848557675311213,3.126496307027457,-0.7248327926342579,-9.723890829349354,9.262835955260197,6.160908349746791,5.487551587916995,5.671498715821766],\"z\":[-18.19711183511719,-43.65030947784514,8.891006979432294,2.868185708787774,58.84234694083143,-31.860312485058536,16.619639180227246,35.60777141913891,-24.852953957478782,-75.40883490968687,8.607400246072537,-96.66808109328205,22.35071737020719,-48.170277249945315,43.33735391475305,18.17020529755939,18.566739856727317,-0.06805126266748118,49.80972990414934,8.195220346129531,52.16490825584944,7.380269722672117,55.196074079682916,73.02681673635935,-66.16367576189523,-9.74317103010834,-60.76531965905333,3.604783773954507,-59.55848580445103,54.16683366329429,4.936463048241642,16.486173470397635,27.578822480245783,-29.208670432017847,29.132339332053377,73.00799991367593,0.29487595642551767,70.07221224901029,9.594726768261182,-43.71693733469017,77.13695431924853,39.62928751057575,-13.72118971117905,13.361382736351322,-50.1757923209581,-58.89925335460906,3.931990403805017,-23.376283622852874,36.27812132135267,-54.61923508214578,10.454249499900598,-39.02726845489353,15.048254268006524,-38.097150802676005,52.30623511712461,39.18272803715037,49.30371069657028,-29.517015183446265,-81.19551540269539,57.392067697778245,-51.380408731630496,21.279139012649022,13.680136755850366,23.012284827000613,-19.952772108326805,-31.29212298541061,-22.48381647711103,61.21625490957568,-56.50846359254261,31.19232790919074,20.77102525309956,38.62485218747767,53.266654485471825,25.87451038297555,-95.45467243266503,-23.673441734120942,-111.55288222554569,9.43838409930803,32.72175596609176,28.676681495118252,-61.33461164217276,91.6188256435756,7.901378856427698,22.300222836678998,71.38292863113766,37.420655880121316,-43.97052999346441,40.64681268939993,-54.045424442867414,40.73914248203486,80.3074721708874,-12.219925563507426,-6.415237327431041,-11.645954114789758,87.8463393920391,-1.4340269338928815,27.96555437316359,23.061307123177514,-0.32674100766841363,-0.5660137613962721],\"type\":\"scatter3d\"},{\"marker\":{\"color\":\"blue\",\"size\":2},\"mode\":\"markers\",\"name\":\"Predicted Points\",\"x\":[4.2450449569036905,-5.393690056583096,4.577150065256188,3.811886650552971,9.555569294828643,5.480748846223076,6.213700289185912,-2.5038171167891976,-0.5088608888761126,-9.491207300150213,2.8562183408437924,-7.510349853701879,1.4461137602296859,-2.0795968762275185,3.5559530918031896,9.508719624108942,-2.4300414540743986,7.150455385361099,-1.0579641225089382,8.588796513032815,-1.5927960357856463,1.1297397067361494,4.71472496412931,7.723613811261842,0.49200969735800726,-3.140104529281606,-3.2900747680897453,2.839420890572681,-3.187569376230175,1.166490948207537,4.86772702744857,3.714024458397178,1.2737774629062564,-1.8977684875757728,-0.8528878158641273,4.366190774600431,-4.021416428312687,7.935734646940535,8.541264382413246,-2.3047057764712235,7.851471183902806,3.9002725728922467,3.862410681247674,1.5386180190318317,-9.756849055380268,-6.195869857433385,-5.252679545489083,9.247176851197349,-4.843889627033033,-0.8419831856025422,-0.9423119957297494,-2.103053902547531,3.1079631976284716,-7.5417840881000675,8.54866194485069,5.066157825605062,4.284115132965095,-4.744059607716666,-3.940445818224905,3.187352472329083,-6.87268842595355,8.844659144355461,4.156949923223959,2.248285483826141,2.8962573541895154,-3.233575582032713,-3.2287939460763653,7.302525233254379,-8.098830046224366,-4.153481023618816,3.579571024362858,8.696673510755367,9.268228403205892,6.225647311477058,-9.679977985853798,-9.457492555094841,-5.412368866554176,1.9272729394466186,0.6814362408049401,-5.999004730929984,-4.0184270130058835,7.213222016241101,-7.3369959521661805,8.628279039320766,8.743337407608983,0.8520328195811011,-7.830161344833493,7.407336692248862,-8.992390079476705,2.7848957299072747,7.015298897904188,-5.014865310190528,-2.0539296104661915,-4.969647483363346,8.094927962642828,0.5557376420193787,7.153533814524433,3.9359330326297304,-4.396159330271329,-1.9543663829934044],\"y\":[5.287777158588497,-2.797985949746968,4.475621013263137,5.22930531153486,-8.541271622724713,0.8366668946695626,2.9797161437683624,9.556335320688337,0.8362818967200347,-2.4724447275230865,-9.924111590061262,-8.69794942117462,-0.6265264294565469,-9.006285600273372,5.404676917373781,3.673865522596536,3.665771268769779,9.369831008833806,-1.3091401720453284,3.347668560625877,3.655147588871767,-5.368049891231483,-0.43574346545265286,2.845816387338971,-5.967919237920139,-3.281265478352906,6.382797386056819,-8.412713527245867,7.4088716442746865,3.5045655196501215,0.9090872843578985,5.828772572593222,2.438975411436786,6.495211791408973,-1.473097984984534,7.3098432819442785,8.358881139827151,4.384632178097247,0.44981837429928184,-3.276971935449904,-4.9787977563810815,-0.5667710242848045,9.334364833040638,7.507941821235889,5.630069639169228,7.8241078805888655,2.8364546452818544,-2.6517947544022435,4.594891649324733,2.9997529865736006,-7.825648500621021,-4.192701442602338,-2.8403383700925193,1.7188058339699488,-7.10018911374195,8.905695612451403,9.533210909207455,0.1192877977263116,-0.791472785672271,-9.219668279642155,-3.009971655028833,-9.070972196437276,1.4994051774309547,9.720654517989335,-8.618284121568802,-1.5368385306000434,-4.12143793527928,0.9344101429390061,1.8321666888647385,-2.593407835501198,8.724310202804446,9.212420140643324,-2.3078216838731773,-7.550303241272374,6.234768501560737,-7.646084689778738,-9.223663966152483,-0.8160291053888091,0.26329334440191765,-8.028659823907216,2.141899698522165,8.449858410148892,-3.6414036879616223,0.8221011233602482,9.778294075419488,6.990483924310883,-2.0659457251290743,-4.992290044712768,-5.616771988845364,2.5605683456220945,1.4015936432217657,-2.8909415615543166,3.8848557675311213,3.126496307027457,-0.7248327926342579,-9.723890829349354,9.262835955260197,6.160908349746791,5.487551587916995,5.671498715821766],\"z\":[26.205409054178354,-31.565576294273406,27.361860461350467,23.842364191141243,44.05357959176453,29.415479767428685,34.9770733054684,-6.651568321548286,-2.6421755775258298,-53.24722133472702,7.140156831814443,-47.405788784766166,6.702604169460486,-18.575294134766757,22.606667208791904,53.14334324295078,-10.761028200531003,44.87704735521393,-7.2215981529484745,47.97033381818186,-6.288078757684696,1.3836331188984001,24.342625894239227,42.95598620541244,-2.4883013473399487,-19.873569567015792,-13.286445872796124,8.205970182908112,-11.95321543092111,8.364926757454603,26.189865224931694,23.77698264946492,8.124320101041942,-5.748637690085004,-6.249369667779087,28.40000805369918,-15.689659057392502,45.267972710270186,45.500044131883556,-15.399097070712243,37.65707636528289,19.883352412910916,27.251779993353743,13.417860304809624,-48.473254722540446,-27.736609222216956,-26.502395163519736,46.906501144302325,-22.96986682372917,-2.770765374105194,-11.585567267046413,-15.02005161133377,13.90426274750733,-39.60868227173802,39.76639649807399,33.36664043181753,29.660861494389742,-25.857906382382268,-22.253263728945143,9.451104770702889,-39.64351344511923,39.84362889930101,22.837067631562306,18.908103552678824,8.352975114656632,-19.039936281158525,-20.990701725395553,39.24066293864229,-42.50339912886213,-24.771342668507927,25.27148779736457,53.032290201193796,47.28219726945594,26.98905875093351,-47.59943512821835,-57.02288563158128,-36.57905139805867,9.132939572813369,3.290341993485344,-38.80504143796589,-20.42757895504065,44.50951195841525,-42.61139764685317,46.25043294634977,53.71474798135167,9.347462257467669,-44.04619815867966,35.269679559916774,-52.98183369853259,16.305047786601413,38.060620837607125,-29.609125000920777,-8.580490067768244,-24.765776498134954,42.21296252685254,-5.019286106953325,44.811708033860796,25.21864648789532,-19.890954313002823,-6.6814248872220965],\"type\":\"scatter3d\"}],                        {\"scene\":{\"camera\":{\"eye\":{\"x\":-1,\"y\":-2,\"z\":0.5}},\"xaxis\":{\"title\":{\"text\":\"Feature 1\"}},\"yaxis\":{\"title\":{\"text\":\"Feature 2\"}},\"zaxis\":{\"title\":{\"text\":\"Response\"}}},\"title\":{\"text\":\"$\\\\text{(4) Bivariate Linear Regression}$\"},\"template\":{\"data\":{\"barpolar\":[{\"marker\":{\"line\":{\"color\":\"white\",\"width\":0.5},\"pattern\":{\"fillmode\":\"overlay\",\"size\":10,\"solidity\":0.2}},\"type\":\"barpolar\"}],\"bar\":[{\"error_x\":{\"color\":\"rgb(36,36,36)\"},\"error_y\":{\"color\":\"rgb(36,36,36)\"},\"marker\":{\"line\":{\"color\":\"white\",\"width\":0.5},\"pattern\":{\"fillmode\":\"overlay\",\"size\":10,\"solidity\":0.2}},\"type\":\"bar\"}],\"carpet\":[{\"aaxis\":{\"endlinecolor\":\"rgb(36,36,36)\",\"gridcolor\":\"white\",\"linecolor\":\"white\",\"minorgridcolor\":\"white\",\"startlinecolor\":\"rgb(36,36,36)\"},\"baxis\":{\"endlinecolor\":\"rgb(36,36,36)\",\"gridcolor\":\"white\",\"linecolor\":\"white\",\"minorgridcolor\":\"white\",\"startlinecolor\":\"rgb(36,36,36)\"},\"type\":\"carpet\"}],\"choropleth\":[{\"colorbar\":{\"outlinewidth\":1,\"tickcolor\":\"rgb(36,36,36)\",\"ticks\":\"outside\"},\"type\":\"choropleth\"}],\"contourcarpet\":[{\"colorbar\":{\"outlinewidth\":1,\"tickcolor\":\"rgb(36,36,36)\",\"ticks\":\"outside\"},\"type\":\"contourcarpet\"}],\"contour\":[{\"colorbar\":{\"outlinewidth\":1,\"tickcolor\":\"rgb(36,36,36)\",\"ticks\":\"outside\"},\"colorscale\":[[0.0,\"#440154\"],[0.1111111111111111,\"#482878\"],[0.2222222222222222,\"#3e4989\"],[0.3333333333333333,\"#31688e\"],[0.4444444444444444,\"#26828e\"],[0.5555555555555556,\"#1f9e89\"],[0.6666666666666666,\"#35b779\"],[0.7777777777777778,\"#6ece58\"],[0.8888888888888888,\"#b5de2b\"],[1.0,\"#fde725\"]],\"type\":\"contour\"}],\"heatmapgl\":[{\"colorbar\":{\"outlinewidth\":1,\"tickcolor\":\"rgb(36,36,36)\",\"ticks\":\"outside\"},\"colorscale\":[[0.0,\"#440154\"],[0.1111111111111111,\"#482878\"],[0.2222222222222222,\"#3e4989\"],[0.3333333333333333,\"#31688e\"],[0.4444444444444444,\"#26828e\"],[0.5555555555555556,\"#1f9e89\"],[0.6666666666666666,\"#35b779\"],[0.7777777777777778,\"#6ece58\"],[0.8888888888888888,\"#b5de2b\"],[1.0,\"#fde725\"]],\"type\":\"heatmapgl\"}],\"heatmap\":[{\"colorbar\":{\"outlinewidth\":1,\"tickcolor\":\"rgb(36,36,36)\",\"ticks\":\"outside\"},\"colorscale\":[[0.0,\"#440154\"],[0.1111111111111111,\"#482878\"],[0.2222222222222222,\"#3e4989\"],[0.3333333333333333,\"#31688e\"],[0.4444444444444444,\"#26828e\"],[0.5555555555555556,\"#1f9e89\"],[0.6666666666666666,\"#35b779\"],[0.7777777777777778,\"#6ece58\"],[0.8888888888888888,\"#b5de2b\"],[1.0,\"#fde725\"]],\"type\":\"heatmap\"}],\"histogram2dcontour\":[{\"colorbar\":{\"outlinewidth\":1,\"tickcolor\":\"rgb(36,36,36)\",\"ticks\":\"outside\"},\"colorscale\":[[0.0,\"#440154\"],[0.1111111111111111,\"#482878\"],[0.2222222222222222,\"#3e4989\"],[0.3333333333333333,\"#31688e\"],[0.4444444444444444,\"#26828e\"],[0.5555555555555556,\"#1f9e89\"],[0.6666666666666666,\"#35b779\"],[0.7777777777777778,\"#6ece58\"],[0.8888888888888888,\"#b5de2b\"],[1.0,\"#fde725\"]],\"type\":\"histogram2dcontour\"}],\"histogram2d\":[{\"colorbar\":{\"outlinewidth\":1,\"tickcolor\":\"rgb(36,36,36)\",\"ticks\":\"outside\"},\"colorscale\":[[0.0,\"#440154\"],[0.1111111111111111,\"#482878\"],[0.2222222222222222,\"#3e4989\"],[0.3333333333333333,\"#31688e\"],[0.4444444444444444,\"#26828e\"],[0.5555555555555556,\"#1f9e89\"],[0.6666666666666666,\"#35b779\"],[0.7777777777777778,\"#6ece58\"],[0.8888888888888888,\"#b5de2b\"],[1.0,\"#fde725\"]],\"type\":\"histogram2d\"}],\"histogram\":[{\"marker\":{\"line\":{\"color\":\"white\",\"width\":0.6}},\"type\":\"histogram\"}],\"mesh3d\":[{\"colorbar\":{\"outlinewidth\":1,\"tickcolor\":\"rgb(36,36,36)\",\"ticks\":\"outside\"},\"type\":\"mesh3d\"}],\"parcoords\":[{\"line\":{\"colorbar\":{\"outlinewidth\":1,\"tickcolor\":\"rgb(36,36,36)\",\"ticks\":\"outside\"}},\"type\":\"parcoords\"}],\"pie\":[{\"automargin\":true,\"type\":\"pie\"}],\"scatter3d\":[{\"line\":{\"colorbar\":{\"outlinewidth\":1,\"tickcolor\":\"rgb(36,36,36)\",\"ticks\":\"outside\"}},\"marker\":{\"colorbar\":{\"outlinewidth\":1,\"tickcolor\":\"rgb(36,36,36)\",\"ticks\":\"outside\"}},\"type\":\"scatter3d\"}],\"scattercarpet\":[{\"marker\":{\"colorbar\":{\"outlinewidth\":1,\"tickcolor\":\"rgb(36,36,36)\",\"ticks\":\"outside\"}},\"type\":\"scattercarpet\"}],\"scattergeo\":[{\"marker\":{\"colorbar\":{\"outlinewidth\":1,\"tickcolor\":\"rgb(36,36,36)\",\"ticks\":\"outside\"}},\"type\":\"scattergeo\"}],\"scattergl\":[{\"marker\":{\"colorbar\":{\"outlinewidth\":1,\"tickcolor\":\"rgb(36,36,36)\",\"ticks\":\"outside\"}},\"type\":\"scattergl\"}],\"scattermapbox\":[{\"marker\":{\"colorbar\":{\"outlinewidth\":1,\"tickcolor\":\"rgb(36,36,36)\",\"ticks\":\"outside\"}},\"type\":\"scattermapbox\"}],\"scatterpolargl\":[{\"marker\":{\"colorbar\":{\"outlinewidth\":1,\"tickcolor\":\"rgb(36,36,36)\",\"ticks\":\"outside\"}},\"type\":\"scatterpolargl\"}],\"scatterpolar\":[{\"marker\":{\"colorbar\":{\"outlinewidth\":1,\"tickcolor\":\"rgb(36,36,36)\",\"ticks\":\"outside\"}},\"type\":\"scatterpolar\"}],\"scatter\":[{\"marker\":{\"colorbar\":{\"outlinewidth\":1,\"tickcolor\":\"rgb(36,36,36)\",\"ticks\":\"outside\"}},\"type\":\"scatter\"}],\"scatterternary\":[{\"marker\":{\"colorbar\":{\"outlinewidth\":1,\"tickcolor\":\"rgb(36,36,36)\",\"ticks\":\"outside\"}},\"type\":\"scatterternary\"}],\"surface\":[{\"colorbar\":{\"outlinewidth\":1,\"tickcolor\":\"rgb(36,36,36)\",\"ticks\":\"outside\"},\"colorscale\":[[0.0,\"#440154\"],[0.1111111111111111,\"#482878\"],[0.2222222222222222,\"#3e4989\"],[0.3333333333333333,\"#31688e\"],[0.4444444444444444,\"#26828e\"],[0.5555555555555556,\"#1f9e89\"],[0.6666666666666666,\"#35b779\"],[0.7777777777777778,\"#6ece58\"],[0.8888888888888888,\"#b5de2b\"],[1.0,\"#fde725\"]],\"type\":\"surface\"}],\"table\":[{\"cells\":{\"fill\":{\"color\":\"rgb(237,237,237)\"},\"line\":{\"color\":\"white\"}},\"header\":{\"fill\":{\"color\":\"rgb(217,217,217)\"},\"line\":{\"color\":\"white\"}},\"type\":\"table\"}]},\"layout\":{\"annotationdefaults\":{\"arrowhead\":0,\"arrowwidth\":1},\"autotypenumbers\":\"strict\",\"coloraxis\":{\"colorbar\":{\"outlinewidth\":1,\"tickcolor\":\"rgb(36,36,36)\",\"ticks\":\"outside\"}},\"colorscale\":{\"diverging\":[[0.0,\"rgb(103,0,31)\"],[0.1,\"rgb(178,24,43)\"],[0.2,\"rgb(214,96,77)\"],[0.3,\"rgb(244,165,130)\"],[0.4,\"rgb(253,219,199)\"],[0.5,\"rgb(247,247,247)\"],[0.6,\"rgb(209,229,240)\"],[0.7,\"rgb(146,197,222)\"],[0.8,\"rgb(67,147,195)\"],[0.9,\"rgb(33,102,172)\"],[1.0,\"rgb(5,48,97)\"]],\"sequential\":[[0.0,\"#440154\"],[0.1111111111111111,\"#482878\"],[0.2222222222222222,\"#3e4989\"],[0.3333333333333333,\"#31688e\"],[0.4444444444444444,\"#26828e\"],[0.5555555555555556,\"#1f9e89\"],[0.6666666666666666,\"#35b779\"],[0.7777777777777778,\"#6ece58\"],[0.8888888888888888,\"#b5de2b\"],[1.0,\"#fde725\"]],\"sequentialminus\":[[0.0,\"#440154\"],[0.1111111111111111,\"#482878\"],[0.2222222222222222,\"#3e4989\"],[0.3333333333333333,\"#31688e\"],[0.4444444444444444,\"#26828e\"],[0.5555555555555556,\"#1f9e89\"],[0.6666666666666666,\"#35b779\"],[0.7777777777777778,\"#6ece58\"],[0.8888888888888888,\"#b5de2b\"],[1.0,\"#fde725\"]]},\"colorway\":[\"#1F77B4\",\"#FF7F0E\",\"#2CA02C\",\"#D62728\",\"#9467BD\",\"#8C564B\",\"#E377C2\",\"#7F7F7F\",\"#BCBD22\",\"#17BECF\"],\"font\":{\"color\":\"rgb(36,36,36)\"},\"geo\":{\"bgcolor\":\"white\",\"lakecolor\":\"white\",\"landcolor\":\"white\",\"showlakes\":true,\"showland\":true,\"subunitcolor\":\"white\"},\"hoverlabel\":{\"align\":\"left\"},\"hovermode\":\"closest\",\"mapbox\":{\"style\":\"light\"},\"paper_bgcolor\":\"white\",\"plot_bgcolor\":\"white\",\"polar\":{\"angularaxis\":{\"gridcolor\":\"rgb(232,232,232)\",\"linecolor\":\"rgb(36,36,36)\",\"showgrid\":false,\"showline\":true,\"ticks\":\"outside\"},\"bgcolor\":\"white\",\"radialaxis\":{\"gridcolor\":\"rgb(232,232,232)\",\"linecolor\":\"rgb(36,36,36)\",\"showgrid\":false,\"showline\":true,\"ticks\":\"outside\"}},\"scene\":{\"xaxis\":{\"backgroundcolor\":\"white\",\"gridcolor\":\"rgb(232,232,232)\",\"gridwidth\":2,\"linecolor\":\"rgb(36,36,36)\",\"showbackground\":true,\"showgrid\":false,\"showline\":true,\"ticks\":\"outside\",\"zeroline\":false,\"zerolinecolor\":\"rgb(36,36,36)\"},\"yaxis\":{\"backgroundcolor\":\"white\",\"gridcolor\":\"rgb(232,232,232)\",\"gridwidth\":2,\"linecolor\":\"rgb(36,36,36)\",\"showbackground\":true,\"showgrid\":false,\"showline\":true,\"ticks\":\"outside\",\"zeroline\":false,\"zerolinecolor\":\"rgb(36,36,36)\"},\"zaxis\":{\"backgroundcolor\":\"white\",\"gridcolor\":\"rgb(232,232,232)\",\"gridwidth\":2,\"linecolor\":\"rgb(36,36,36)\",\"showbackground\":true,\"showgrid\":false,\"showline\":true,\"ticks\":\"outside\",\"zeroline\":false,\"zerolinecolor\":\"rgb(36,36,36)\"}},\"shapedefaults\":{\"fillcolor\":\"black\",\"line\":{\"width\":0},\"opacity\":0.3},\"ternary\":{\"aaxis\":{\"gridcolor\":\"rgb(232,232,232)\",\"linecolor\":\"rgb(36,36,36)\",\"showgrid\":false,\"showline\":true,\"ticks\":\"outside\"},\"baxis\":{\"gridcolor\":\"rgb(232,232,232)\",\"linecolor\":\"rgb(36,36,36)\",\"showgrid\":false,\"showline\":true,\"ticks\":\"outside\"},\"bgcolor\":\"white\",\"caxis\":{\"gridcolor\":\"rgb(232,232,232)\",\"linecolor\":\"rgb(36,36,36)\",\"showgrid\":false,\"showline\":true,\"ticks\":\"outside\"}},\"title\":{\"x\":0.05},\"xaxis\":{\"automargin\":true,\"gridcolor\":\"rgb(232,232,232)\",\"linecolor\":\"rgb(36,36,36)\",\"showgrid\":false,\"showline\":true,\"ticks\":\"outside\",\"title\":{\"standoff\":15},\"zeroline\":false,\"zerolinecolor\":\"rgb(36,36,36)\"},\"yaxis\":{\"automargin\":true,\"gridcolor\":\"rgb(232,232,232)\",\"linecolor\":\"rgb(36,36,36)\",\"showgrid\":false,\"showline\":true,\"ticks\":\"outside\",\"title\":{\"standoff\":15},\"zeroline\":false,\"zerolinecolor\":\"rgb(36,36,36)\"},\"margin\":{\"b\":0,\"l\":20,\"r\":20,\"t\":40}}}},                        {\"responsive\": true}                    ).then(function(){\n                            \nvar gd = document.getElementById('be027f48-7f20-42de-a8ed-32567fea3cf0');\nvar x = new MutationObserver(function (mutations, observer) {{\n        var display = window.getComputedStyle(gd).display;\n        if (!display || display === 'none') {{\n            console.log([gd, 'removed!']);\n            Plotly.purge(gd);\n            observer.disconnect();\n        }}\n}});\n\n// Listen for the removal of the full notebook cells\nvar notebookContainer = gd.closest('#notebook-container');\nif (notebookContainer) {{\n    x.observe(notebookContainer, {childList: true});\n}}\n\n// Listen for the clearing of the current output cell\nvar outputEl = gd.closest('.output');\nif (outputEl) {{\n    x.observe(outputEl, {childList: true});\n}}\n\n                        })                };                });            </script>        </div>"
     },
     "metadata": {},
     "output_type": "display_data"
    }
   ],
   "source": [
    "go.Figure([go.Surface(x=xv1, y=xv2, z=surface, opacity=.5, showscale=False),\n",
    "           go.Scatter3d(name=\"Real (noise-less) Points\", x=x[:,0], y=x[:,1], z=y_,    mode=\"markers\", marker=dict(color=\"black\", size=2)),\n",
    "           go.Scatter3d(name=\"Observed Points\",          x=x[:,0], y=x[:,1], z=y,     mode=\"markers\", marker=dict(color=\"red\", size=2)),\n",
    "           go.Scatter3d(name=\"Predicted Points\",         x=x[:,0], y=x[:,1], z=y_hat, mode=\"markers\", marker=dict(color=\"blue\", size=2))],\n",
    "          layout=go.Layout(\n",
    "              title=r\"$\\text{(4) Bivariate Linear Regression}$\",\n",
    "              scene=dict(xaxis=dict(title=\"Feature 1\"),\n",
    "                         yaxis=dict(title=\"Feature 2\"),\n",
    "                         zaxis=dict(title=\"Response\"),\n",
    "                         camera=dict(eye=dict(x=-1, y=-2, z=.5)))\n",
    "          )).show()"
   ]
  },
  {
   "cell_type": "markdown",
   "metadata": {
    "pycharm": {
     "name": "#%% md\n"
    }
   },
   "source": [
    "# Time To Think...\n",
    "In the scenario above we performed a linear regression over observations with more than two features (i.e multi-variate\n",
    "linear regression). In gradient color we see the subspace from which our data-points are drawn. As we have 2 features, the subspace is a 2D plane.\n",
    "\n",
    "Try rotating the figure above and look at the plane from its different axes (such that it looks like a line rather than a plane). This view allows you to see the fit between the one specific feature and the response, similar to the case of fitting a simple linear regression using that feature. \n",
    "\n",
    "Run the code generating the data and graph with more/less samples and high/lower noise levels. How do these changes influence the quality of the fit? "
   ]
  }
 ],
 "metadata": {
  "kernelspec": {
   "display_name": "Python 3",
   "language": "python",
   "name": "python3"
  },
  "language_info": {
   "codemirror_mode": {
    "name": "ipython",
    "version": 3
   },
   "file_extension": ".py",
   "mimetype": "text/x-python",
   "name": "python",
   "nbconvert_exporter": "python",
   "pygments_lexer": "ipython3",
   "version": "3.7.10"
  }
 },
 "nbformat": 4,
 "nbformat_minor": 1
}