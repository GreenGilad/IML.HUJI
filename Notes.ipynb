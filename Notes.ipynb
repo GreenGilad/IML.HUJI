{
 "cells": [
  {
   "cell_type": "code",
   "execution_count": null,
   "outputs": [],
   "source": [
    "#imports\n",
    "import sys\n",
    "sys.path.append(\"../\")\n",
    "from utils import *\n",
    "import plotly.express as px\n",
    "from plotly.subplots import make_subplots\n",
    "import plotly.graph_objects as go"
   ],
   "metadata": {
    "collapsed": false,
    "pycharm": {
     "name": "#%%\n"
    }
   }
  },
  {
   "cell_type": "code",
   "execution_count": null,
   "outputs": [],
   "source": [
    "\n",
    "#define data frames:\n",
    "students_df = pd.read_csv(\"../datasets/Students_Performance.csv\")\n",
    "students_df.head()\n",
    "temperature_df = pd.read_csv(\"../datasets/City_Temperature.csv\")\n",
    "temperature_df.head()\n",
    "temperature_df = temperature_df.loc[temperature_df[\"Temp\"] != -99]\n",
    "temperature_df.head()"
   ],
   "metadata": {
    "collapsed": false,
    "pycharm": {
     "name": "#%%\n"
    }
   }
  },
  {
   "cell_type": "code",
   "execution_count": null,
   "outputs": [],
   "source": [
    "#bar repr:\n",
    "df_count_ethnicities = students_df.groupby(['race.ethnicity']).size().reset_index(name='Count')\n",
    "px.bar(df_count_ethnicities, x=\"race.ethnicity\", y=\"Count\", height=200).show()\n",
    "df_count_ethnicities = students_df.groupby(['race.ethnicity', 'gender']).size().reset_index(name='Count')\n",
    "px.bar(df_count_ethnicities, x=\"race.ethnicity\", y=\"Count\", color = \"gender\", height=200).show()\n",
    "#pie repr:\n",
    "colored_by = \"test.preparation.course\"\n",
    "split_by = 'parental.level.of.education'\n",
    "\n",
    "for level in students_df[split_by].unique():\n",
    "    df = students_df.loc[students_df[split_by] == level].groupby([colored_by]).size().reset_index(name='Count')\n",
    "    px.pie(df, values='Count', names = colored_by, title = level, height=150).show()"
   ],
   "metadata": {
    "collapsed": false,
    "pycharm": {
     "name": "#%%\n"
    }
   }
  },
  {
   "cell_type": "code",
   "execution_count": null,
   "outputs": [],
   "source": [
    "\n",
    "# histogram\n",
    "\n",
    "fig = make_subplots(rows=1, cols=3,\n",
    "                    subplot_titles=(\"Math score distribution\", \"Writing score distribution\", \"Reading score distribution\"))\n",
    "\n",
    "for i, label in enumerate([\"math.score\", \"writing.score\", \"reading.score\"]):\n",
    "    fig.append_trace(go.Histogram(x=students_df[label], showlegend = False), row = 1, col = i+1)\n",
    "    fig.update_xaxes(title_text=label.capitalize(), row=1, col=i+1)\n",
    "\n",
    "fig.update_layout(height=300).show()"
   ],
   "metadata": {
    "collapsed": false,
    "pycharm": {
     "name": "#%%\n"
    }
   }
  },
  {
   "cell_type": "code",
   "execution_count": null,
   "outputs": [],
   "source": [
    "\n",
    "#correlation using scattering\n",
    "\n",
    "students_df[\"gender.cat\"] = pd.Categorical(students_df[\"gender\"]).codes\n",
    "\n",
    "fig = make_subplots(rows=1, cols=2, start_cell=\"bottom-left\")\n",
    "\n",
    "fig.add_traces([go.Scatter(x=students_df[\"math.score\"], y=students_df[\"reading.score\"], mode=\"markers\",\n",
    "                           marker = dict(color = students_df[\"gender.cat\"], colorscale=\"Bluered\"), showlegend = False),\n",
    "                go.Scatter(x=students_df[\"math.score\"], y=students_df[\"science.score\"], mode=\"markers\",\n",
    "                           marker = dict(color = students_df[\"gender.cat\"], colorscale=\"Bluered\"), showlegend = False)],\n",
    "               rows=[1,1], cols=[1,2])\n",
    "fig.add_trace(go.Scatter(x = [None], y = [None], mode = 'markers',\n",
    "                        marker = dict(color=\"Blue\"), legendgroup = \"female\", name = \"female\"), row = 1, col =1)\n",
    "fig.add_trace(go.Scatter(x = [None], y = [None], mode = 'markers',\n",
    "                        marker = dict(color=\"Red\"), legendgroup = \"male\", name = \"male\"), row = 1, col =1)\n",
    "fig.update_xaxes(title_text=\"Reading Score\", row=1, col=1)\n",
    "fig.update_xaxes(title_text=\"Science Score\", row=1, col=2)\n",
    "fig.update_yaxes(title_text=\"Math Score\")\n",
    "fig.show()"
   ],
   "metadata": {
    "collapsed": false,
    "pycharm": {
     "name": "#%%\n"
    }
   }
  },
  {
   "cell_type": "code",
   "execution_count": null,
   "outputs": [],
   "source": [
    "df_count_ethnicities = students_df.groupby(['race.ethnicity', 'gender']).size().reset_index(name='Count')\n",
    "\n",
    "x_ = np.unique(df_count_ethnicities[\"race.ethnicity\"].tolist())\n",
    "y_ = np.unique(df_count_ethnicities[\"gender\"].tolist())\n",
    "\n",
    "values = np.array(df_count_ethnicities[\"Count\"]).reshape(5, 2)\n",
    "values_norm_row = (values.T/values.sum(axis = 1)).T\n",
    "values_norm_col = values/values.sum(axis = 0)\n",
    "\n",
    "for title, z in [[\"Counts Heatmap\", values], [\"Row Normalized\", values_norm_row], [\"Column Normalized\", values_norm_col]]:\n",
    "    go.Figure(go.Heatmap(x=y_, y=x_,z=z), layout=go.Layout(title=title, height=300, width=200)).show()"
   ],
   "metadata": {
    "collapsed": false,
    "pycharm": {
     "name": "#%%\n"
    }
   }
  },
  {
   "cell_type": "code",
   "execution_count": 1,
   "outputs": [],
   "source": [
    "### Estimating Expectation of Distribution"
   ],
   "metadata": {
    "collapsed": false,
    "pycharm": {
     "name": "#%%\n"
    }
   }
  },
  {
   "cell_type": "code",
   "execution_count": 2,
   "outputs": [
    {
     "ename": "NameError",
     "evalue": "name 'np' is not defined",
     "output_type": "error",
     "traceback": [
      "\u001B[0;31m---------------------------------------------------------------------------\u001B[0m",
      "\u001B[0;31mNameError\u001B[0m                                 Traceback (most recent call last)",
      "\u001B[0;32m/var/folders/0v/kptkrsdn7f3crt7djpgqm5cr0000gn/T/ipykernel_24581/302939033.py\u001B[0m in \u001B[0;36m<module>\u001B[0;34m\u001B[0m\n\u001B[0;32m----> 1\u001B[0;31m \u001B[0mms\u001B[0m \u001B[0;34m=\u001B[0m \u001B[0mnp\u001B[0m\u001B[0;34m.\u001B[0m\u001B[0mlinspace\u001B[0m\u001B[0;34m(\u001B[0m\u001B[0;36m2\u001B[0m\u001B[0;34m,\u001B[0m \u001B[0;36m200\u001B[0m\u001B[0;34m,\u001B[0m \u001B[0;36m200\u001B[0m\u001B[0;34m)\u001B[0m\u001B[0;34m.\u001B[0m\u001B[0mastype\u001B[0m\u001B[0;34m(\u001B[0m\u001B[0mnp\u001B[0m\u001B[0;34m.\u001B[0m\u001B[0mint\u001B[0m\u001B[0;34m)\u001B[0m\u001B[0;34m\u001B[0m\u001B[0;34m\u001B[0m\u001B[0m\n\u001B[0m\u001B[1;32m      2\u001B[0m \u001B[0mmu\u001B[0m\u001B[0;34m,\u001B[0m \u001B[0msigma\u001B[0m \u001B[0;34m=\u001B[0m \u001B[0;36m5\u001B[0m\u001B[0;34m,\u001B[0m \u001B[0;36m2\u001B[0m\u001B[0;34m\u001B[0m\u001B[0;34m\u001B[0m\u001B[0m\n\u001B[1;32m      3\u001B[0m \u001B[0mestimated_mean\u001B[0m \u001B[0;34m=\u001B[0m \u001B[0;34m[\u001B[0m\u001B[0;34m]\u001B[0m\u001B[0;34m\u001B[0m\u001B[0;34m\u001B[0m\u001B[0m\n\u001B[1;32m      4\u001B[0m \u001B[0;32mfor\u001B[0m \u001B[0mm\u001B[0m \u001B[0;32min\u001B[0m \u001B[0mms\u001B[0m\u001B[0;34m:\u001B[0m\u001B[0;34m\u001B[0m\u001B[0;34m\u001B[0m\u001B[0m\n\u001B[1;32m      5\u001B[0m     \u001B[0mX\u001B[0m \u001B[0;34m=\u001B[0m \u001B[0mnp\u001B[0m\u001B[0;34m.\u001B[0m\u001B[0mrandom\u001B[0m\u001B[0;34m.\u001B[0m\u001B[0mnormal\u001B[0m\u001B[0;34m(\u001B[0m\u001B[0mmu\u001B[0m\u001B[0;34m,\u001B[0m \u001B[0msigma\u001B[0m\u001B[0;34m,\u001B[0m \u001B[0msize\u001B[0m\u001B[0;34m=\u001B[0m\u001B[0mm\u001B[0m\u001B[0;34m)\u001B[0m\u001B[0;34m\u001B[0m\u001B[0;34m\u001B[0m\u001B[0m\n",
      "\u001B[0;31mNameError\u001B[0m: name 'np' is not defined"
     ]
    }
   ],
   "source": [
    "ms = np.linspace(2, 200, 200).astype(np.int)\n",
    "mu, sigma = 5, 2\n",
    "estimated_mean = []\n",
    "for m in ms:\n",
    "    X = np.random.normal(mu, sigma, size=m)\n",
    "    estimated_mean.append(np.mean(X))\n",
    "\n",
    "\n",
    "go.Figure([go.Scatter(x=ms, y=estimated_mean, mode='markers+lines', name=r'$\\widehat\\mu$'),\n",
    "           go.Scatter(x=ms, y=[mu]*len(ms), mode='lines', name=r'$\\mu$')],\n",
    "          layout=go.Layout(title=r\"$\\text{(5) Estimation of Expectation As Function Of Number Of Samples}$\",\n",
    "                  xaxis_title=\"$m\\\\text{ - number of samples}$\",\n",
    "                  yaxis_title=\"r$\\hat\\mu$\",\n",
    "                  height=300)).show()"
   ],
   "metadata": {
    "collapsed": false,
    "pycharm": {
     "name": "#%%\n"
    }
   }
  },
  {
   "cell_type": "code",
   "execution_count": null,
   "outputs": [],
   "source": [
    "### Estimating Variance Of Distribution"
   ],
   "metadata": {
    "collapsed": false,
    "pycharm": {
     "name": "#%%\n"
    }
   }
  },
  {
   "cell_type": "code",
   "execution_count": null,
   "outputs": [],
   "source": [
    "estimated_sigmas = []\n",
    "for m in ms:\n",
    "    X = np.random.normal(mu, sigma, size=m)\n",
    "    estimated_sigmas.append(X.var(ddof=1))\n",
    "\n",
    "\n",
    "go.Figure([go.Scatter(x=ms, y=estimated_sigmas, mode='markers+lines', name=r'$\\widehat\\sigma^2$'),\n",
    "           go.Scatter(x=ms, y=[sigma**2]*len(ms), mode='lines', name=r'$\\sigma^2$')],\n",
    "         layout=go.Layout(title=r\"$\\text{(6) Estimation of Variance As Function Of Number Of Samples}$\",\n",
    "                          xaxis_title=\"$m\\\\text{ - number of samples}$\",\n",
    "                          yaxis_title=\"r$\\hat\\sigma^2$\",\n",
    "                          height=300)).show()"
   ],
   "metadata": {
    "collapsed": false,
    "pycharm": {
     "name": "#%%\n"
    }
   }
  }
 ],
 "metadata": {
  "kernelspec": {
   "display_name": "Python 3",
   "language": "python",
   "name": "python3"
  },
  "language_info": {
   "codemirror_mode": {
    "name": "ipython",
    "version": 2
   },
   "file_extension": ".py",
   "mimetype": "text/x-python",
   "name": "python",
   "nbconvert_exporter": "python",
   "pygments_lexer": "ipython2",
   "version": "2.7.6"
  }
 },
 "nbformat": 4,
 "nbformat_minor": 0
}